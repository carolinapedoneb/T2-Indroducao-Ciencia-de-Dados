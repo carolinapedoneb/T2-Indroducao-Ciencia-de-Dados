{
 "cells": [
  {
   "cell_type": "code",
   "execution_count": 1,
   "metadata": {},
   "outputs": [
    {
     "ename": "ModuleNotFoundError",
     "evalue": "No module named 'sklearn'",
     "output_type": "error",
     "traceback": [
      "\u001b[0;31m---------------------------------------------------------------------------\u001b[0m",
      "\u001b[0;31mModuleNotFoundError\u001b[0m                       Traceback (most recent call last)",
      "Cell \u001b[0;32mIn[1], line 3\u001b[0m\n\u001b[1;32m      1\u001b[0m \u001b[38;5;28;01mimport\u001b[39;00m \u001b[38;5;21;01mpandas\u001b[39;00m \u001b[38;5;28;01mas\u001b[39;00m \u001b[38;5;21;01mpd\u001b[39;00m\n\u001b[1;32m      2\u001b[0m \u001b[38;5;28;01mimport\u001b[39;00m \u001b[38;5;21;01mnumpy\u001b[39;00m \u001b[38;5;28;01mas\u001b[39;00m \u001b[38;5;21;01mnp\u001b[39;00m\n\u001b[0;32m----> 3\u001b[0m \u001b[38;5;28;01mfrom\u001b[39;00m \u001b[38;5;21;01msklearn\u001b[39;00m\u001b[38;5;21;01m.\u001b[39;00m\u001b[38;5;21;01mensemble\u001b[39;00m \u001b[38;5;28;01mimport\u001b[39;00m RandomForestClassifier\n\u001b[1;32m      4\u001b[0m \u001b[38;5;28;01mfrom\u001b[39;00m \u001b[38;5;21;01msklearn\u001b[39;00m\u001b[38;5;21;01m.\u001b[39;00m\u001b[38;5;21;01mmodel_selection\u001b[39;00m \u001b[38;5;28;01mimport\u001b[39;00m train_test_split\n\u001b[1;32m      5\u001b[0m \u001b[38;5;28;01mfrom\u001b[39;00m \u001b[38;5;21;01msklearn\u001b[39;00m\u001b[38;5;21;01m.\u001b[39;00m\u001b[38;5;21;01mmetrics\u001b[39;00m \u001b[38;5;28;01mimport\u001b[39;00m accuracy_score\n",
      "\u001b[0;31mModuleNotFoundError\u001b[0m: No module named 'sklearn'"
     ]
    }
   ],
   "source": [
    "import pandas as pd\n",
    "import numpy as np\n",
    "from sklearn.ensemble import RandomForestClassifier\n",
    "from sklearn.model_selection import train_test_split\n",
    "from sklearn.metrics import accuracy_score\n",
    "from sklearn.tree import _tree\n"
   ]
  },
  {
   "cell_type": "code",
   "execution_count": null,
   "metadata": {},
   "outputs": [],
   "source": [
    "df = pd.read_csv(\"/Users/carolbarroco/Documents/RecomendSisKNN/TG2 RecommendSys/GitHub/T2-Indroducao-Ciencia-de-Dados/Data/MPBROCKMETAL_KGDataSet.csv\")"
   ]
  },
  {
   "cell_type": "code",
   "execution_count": null,
   "metadata": {},
   "outputs": [],
   "source": [
    "\n",
    "# --- 1. Prepare your data ---\n",
    "# X_scaled = your features (already scaled if needed)\n",
    "# y = your target labels (e.g., genre)\n",
    "\n",
    "X_train, X_val, y_train, y_val = train_test_split(X_scaled, y, test_size=0.2, random_state=42)\n",
    "\n",
    "# --- 2. Train the Random Forest ---\n",
    "model = RandomForestClassifier(n_estimators=100, max_depth=5, random_state=0)\n",
    "model.fit(X_train, y_train)\n",
    "\n",
    "# --- 3. Find the best single tree ---\n",
    "best_score = 0\n",
    "best_tree_index = 0\n",
    "\n",
    "for i, tree in enumerate(model.estimators_):\n",
    "    y_pred = tree.predict(X_val)\n",
    "    acc = accuracy_score(y_val, y_pred)\n",
    "    if acc > best_score:\n",
    "        best_score = acc\n",
    "        best_tree_index = i\n",
    "\n",
    "print(f\"Best tree index: {best_tree_index}\")\n",
    "print(f\"Best tree accuracy: {best_score:.4f}\")\n",
    "\n",
    "best_tree = model.estimators_[best_tree_index]\n",
    "\n",
    "# --- 4. Extract decision rules from the best tree ---\n",
    "def extract_rules(tree, feature_names, X_data, index_data):\n",
    "    tree_ = tree.tree_\n",
    "    feature_name = [\n",
    "        feature_names[i] if i != _tree.TREE_UNDEFINED else \"undefined!\"\n",
    "        for i in tree_.feature\n",
    "    ]\n",
    "    \n",
    "    rules = []\n",
    "    \n",
    "    def recurse(node, depth, data_indices):\n",
    "        if tree_.feature[node] != _tree.TREE_UNDEFINED:\n",
    "            name = feature_name[node]\n",
    "            threshold = tree_.threshold[node]\n",
    "            gini = tree_.impurity[node]\n",
    "            left = tree_.children_left[node]\n",
    "            right = tree_.children_right[node]\n",
    "            rules.append({\n",
    "                \"feature\": name,\n",
    "                \"threshold\": threshold,\n",
    "                \"gini\": gini,\n",
    "                \"depth\": depth,\n",
    "                \"node\": node,\n",
    "                \"data_indices\": data_indices\n",
    "            })\n",
    "            left_indices = data_indices[X_data.loc[data_indices, name] <= threshold]\n",
    "            right_indices = data_indices[X_data.loc[data_indices, name] > threshold]\n",
    "            recurse(left, depth + 1, left_indices)\n",
    "            recurse(right, depth + 1, right_indices)\n",
    "    \n",
    "    recurse(0, 0, index_data)\n",
    "    return rules\n",
    "\n",
    "# Call it with best tree\n",
    "rules = extract_rules(best_tree, feature_names=X_scaled.columns, X_data=X_scaled, index_data=X_scaled.index)\n",
    "rules_df = pd.DataFrame(rules)\n",
    "\n",
    "print(\"\\nSample of extracted rules:\")\n",
    "print(rules_df.head())\n",
    "\n",
    "# --- 5. Compare full forest vs. best tree ---\n",
    "forest_acc = accuracy_score(y_val, model.predict(X_val))\n",
    "tree_acc = accuracy_score(y_val, best_tree.predict(X_val))\n",
    "\n",
    "print(f\"\\nRandom Forest accuracy: {forest_acc:.4f}\")\n",
    "print(f\"Best Tree accuracy:     {tree_acc:.4f}\")\n"
   ]
  }
 ],
 "metadata": {
  "kernelspec": {
   "display_name": "Python 3",
   "language": "python",
   "name": "python3"
  },
  "language_info": {
   "codemirror_mode": {
    "name": "ipython",
    "version": 3
   },
   "file_extension": ".py",
   "mimetype": "text/x-python",
   "name": "python",
   "nbconvert_exporter": "python",
   "pygments_lexer": "ipython3",
   "version": "3.12.6"
  }
 },
 "nbformat": 4,
 "nbformat_minor": 2
}
