{
 "cells": [
  {
   "cell_type": "markdown",
   "id": "cf58f08b",
   "metadata": {},
   "source": [
    "# Spotify Recommendation System: Genre Pattern Analysis\n",
    "\n",
    "This notebook compares the genre distribution patterns of songs clustered using two methods: Hierarchical Clustering and Decision Tree-based segmentation. The ultimate goal is to understand genre separability across clusters to inform a recommendation engine focused on `mpb`, `rock`, and `death metal`.\n",
    "\n",
    "### Step 1: Importing necessary libraries\n",
    "\n",
    "We begin by importing essential libraries for data manipulation and visualization.\n"
   ]
  },
  {
   "cell_type": "code",
   "execution_count": 1,
   "id": "906d0a7b",
   "metadata": {},
   "outputs": [],
   "source": [
    "import pandas as pd\n",
    "import seaborn as sns\n",
    "import matplotlib.pyplot as plt\n",
    "\n",
    "pd.set_option('display.max_rows', 10)\n"
   ]
  },
  {
   "cell_type": "markdown",
   "id": "a6af987d",
   "metadata": {},
   "source": [
    "### Step 2: Load DataFrames\n",
    "\n",
    "We load:\n",
    "- `DecisionTreeDF`: The output of a Decision Tree classifier where each song is assigned to a leaf node (interpreted as a cluster).\n",
    "- `df_cluster_PCA_gp`: The result of hierarchical clustering with PCA annotations and genre information.\n"
   ]
  },
  {
   "cell_type": "code",
   "execution_count": 2,
   "id": "7f19c9c6",
   "metadata": {},
   "outputs": [
    {
     "ename": "FileNotFoundError",
     "evalue": "[Errno 2] No such file or directory: 'Data for Modeling/AftDTsMPBROCKMETAL_KGDf.csv'",
     "output_type": "error",
     "traceback": [
      "\u001b[0;31m---------------------------------------------------------------------------\u001b[0m",
      "\u001b[0;31mFileNotFoundError\u001b[0m                         Traceback (most recent call last)",
      "Cell \u001b[0;32mIn[2], line 1\u001b[0m\n\u001b[0;32m----> 1\u001b[0m DecisionTreeDF \u001b[38;5;241m=\u001b[39m pd\u001b[38;5;241m.\u001b[39mread_csv(\u001b[38;5;124m\"\u001b[39m\u001b[38;5;124mData for Modeling/AftDTsMPBROCKMETAL_KGDf.csv\u001b[39m\u001b[38;5;124m\"\u001b[39m)\n\u001b[1;32m      2\u001b[0m df_cluster_PCA_gp \u001b[38;5;241m=\u001b[39m pd\u001b[38;5;241m.\u001b[39mread_csv(\u001b[38;5;124m\"\u001b[39m\u001b[38;5;124mData for Modeling/df_cluster_PCA_gp.csv\u001b[39m\u001b[38;5;124m\"\u001b[39m)\n",
      "File \u001b[0;32m/opt/anaconda3/lib/python3.12/site-packages/pandas/io/parsers/readers.py:1026\u001b[0m, in \u001b[0;36mread_csv\u001b[0;34m(filepath_or_buffer, sep, delimiter, header, names, index_col, usecols, dtype, engine, converters, true_values, false_values, skipinitialspace, skiprows, skipfooter, nrows, na_values, keep_default_na, na_filter, verbose, skip_blank_lines, parse_dates, infer_datetime_format, keep_date_col, date_parser, date_format, dayfirst, cache_dates, iterator, chunksize, compression, thousands, decimal, lineterminator, quotechar, quoting, doublequote, escapechar, comment, encoding, encoding_errors, dialect, on_bad_lines, delim_whitespace, low_memory, memory_map, float_precision, storage_options, dtype_backend)\u001b[0m\n\u001b[1;32m   1013\u001b[0m kwds_defaults \u001b[38;5;241m=\u001b[39m _refine_defaults_read(\n\u001b[1;32m   1014\u001b[0m     dialect,\n\u001b[1;32m   1015\u001b[0m     delimiter,\n\u001b[0;32m   (...)\u001b[0m\n\u001b[1;32m   1022\u001b[0m     dtype_backend\u001b[38;5;241m=\u001b[39mdtype_backend,\n\u001b[1;32m   1023\u001b[0m )\n\u001b[1;32m   1024\u001b[0m kwds\u001b[38;5;241m.\u001b[39mupdate(kwds_defaults)\n\u001b[0;32m-> 1026\u001b[0m \u001b[38;5;28;01mreturn\u001b[39;00m _read(filepath_or_buffer, kwds)\n",
      "File \u001b[0;32m/opt/anaconda3/lib/python3.12/site-packages/pandas/io/parsers/readers.py:620\u001b[0m, in \u001b[0;36m_read\u001b[0;34m(filepath_or_buffer, kwds)\u001b[0m\n\u001b[1;32m    617\u001b[0m _validate_names(kwds\u001b[38;5;241m.\u001b[39mget(\u001b[38;5;124m\"\u001b[39m\u001b[38;5;124mnames\u001b[39m\u001b[38;5;124m\"\u001b[39m, \u001b[38;5;28;01mNone\u001b[39;00m))\n\u001b[1;32m    619\u001b[0m \u001b[38;5;66;03m# Create the parser.\u001b[39;00m\n\u001b[0;32m--> 620\u001b[0m parser \u001b[38;5;241m=\u001b[39m TextFileReader(filepath_or_buffer, \u001b[38;5;241m*\u001b[39m\u001b[38;5;241m*\u001b[39mkwds)\n\u001b[1;32m    622\u001b[0m \u001b[38;5;28;01mif\u001b[39;00m chunksize \u001b[38;5;129;01mor\u001b[39;00m iterator:\n\u001b[1;32m    623\u001b[0m     \u001b[38;5;28;01mreturn\u001b[39;00m parser\n",
      "File \u001b[0;32m/opt/anaconda3/lib/python3.12/site-packages/pandas/io/parsers/readers.py:1620\u001b[0m, in \u001b[0;36mTextFileReader.__init__\u001b[0;34m(self, f, engine, **kwds)\u001b[0m\n\u001b[1;32m   1617\u001b[0m     \u001b[38;5;28mself\u001b[39m\u001b[38;5;241m.\u001b[39moptions[\u001b[38;5;124m\"\u001b[39m\u001b[38;5;124mhas_index_names\u001b[39m\u001b[38;5;124m\"\u001b[39m] \u001b[38;5;241m=\u001b[39m kwds[\u001b[38;5;124m\"\u001b[39m\u001b[38;5;124mhas_index_names\u001b[39m\u001b[38;5;124m\"\u001b[39m]\n\u001b[1;32m   1619\u001b[0m \u001b[38;5;28mself\u001b[39m\u001b[38;5;241m.\u001b[39mhandles: IOHandles \u001b[38;5;241m|\u001b[39m \u001b[38;5;28;01mNone\u001b[39;00m \u001b[38;5;241m=\u001b[39m \u001b[38;5;28;01mNone\u001b[39;00m\n\u001b[0;32m-> 1620\u001b[0m \u001b[38;5;28mself\u001b[39m\u001b[38;5;241m.\u001b[39m_engine \u001b[38;5;241m=\u001b[39m \u001b[38;5;28mself\u001b[39m\u001b[38;5;241m.\u001b[39m_make_engine(f, \u001b[38;5;28mself\u001b[39m\u001b[38;5;241m.\u001b[39mengine)\n",
      "File \u001b[0;32m/opt/anaconda3/lib/python3.12/site-packages/pandas/io/parsers/readers.py:1880\u001b[0m, in \u001b[0;36mTextFileReader._make_engine\u001b[0;34m(self, f, engine)\u001b[0m\n\u001b[1;32m   1878\u001b[0m     \u001b[38;5;28;01mif\u001b[39;00m \u001b[38;5;124m\"\u001b[39m\u001b[38;5;124mb\u001b[39m\u001b[38;5;124m\"\u001b[39m \u001b[38;5;129;01mnot\u001b[39;00m \u001b[38;5;129;01min\u001b[39;00m mode:\n\u001b[1;32m   1879\u001b[0m         mode \u001b[38;5;241m+\u001b[39m\u001b[38;5;241m=\u001b[39m \u001b[38;5;124m\"\u001b[39m\u001b[38;5;124mb\u001b[39m\u001b[38;5;124m\"\u001b[39m\n\u001b[0;32m-> 1880\u001b[0m \u001b[38;5;28mself\u001b[39m\u001b[38;5;241m.\u001b[39mhandles \u001b[38;5;241m=\u001b[39m get_handle(\n\u001b[1;32m   1881\u001b[0m     f,\n\u001b[1;32m   1882\u001b[0m     mode,\n\u001b[1;32m   1883\u001b[0m     encoding\u001b[38;5;241m=\u001b[39m\u001b[38;5;28mself\u001b[39m\u001b[38;5;241m.\u001b[39moptions\u001b[38;5;241m.\u001b[39mget(\u001b[38;5;124m\"\u001b[39m\u001b[38;5;124mencoding\u001b[39m\u001b[38;5;124m\"\u001b[39m, \u001b[38;5;28;01mNone\u001b[39;00m),\n\u001b[1;32m   1884\u001b[0m     compression\u001b[38;5;241m=\u001b[39m\u001b[38;5;28mself\u001b[39m\u001b[38;5;241m.\u001b[39moptions\u001b[38;5;241m.\u001b[39mget(\u001b[38;5;124m\"\u001b[39m\u001b[38;5;124mcompression\u001b[39m\u001b[38;5;124m\"\u001b[39m, \u001b[38;5;28;01mNone\u001b[39;00m),\n\u001b[1;32m   1885\u001b[0m     memory_map\u001b[38;5;241m=\u001b[39m\u001b[38;5;28mself\u001b[39m\u001b[38;5;241m.\u001b[39moptions\u001b[38;5;241m.\u001b[39mget(\u001b[38;5;124m\"\u001b[39m\u001b[38;5;124mmemory_map\u001b[39m\u001b[38;5;124m\"\u001b[39m, \u001b[38;5;28;01mFalse\u001b[39;00m),\n\u001b[1;32m   1886\u001b[0m     is_text\u001b[38;5;241m=\u001b[39mis_text,\n\u001b[1;32m   1887\u001b[0m     errors\u001b[38;5;241m=\u001b[39m\u001b[38;5;28mself\u001b[39m\u001b[38;5;241m.\u001b[39moptions\u001b[38;5;241m.\u001b[39mget(\u001b[38;5;124m\"\u001b[39m\u001b[38;5;124mencoding_errors\u001b[39m\u001b[38;5;124m\"\u001b[39m, \u001b[38;5;124m\"\u001b[39m\u001b[38;5;124mstrict\u001b[39m\u001b[38;5;124m\"\u001b[39m),\n\u001b[1;32m   1888\u001b[0m     storage_options\u001b[38;5;241m=\u001b[39m\u001b[38;5;28mself\u001b[39m\u001b[38;5;241m.\u001b[39moptions\u001b[38;5;241m.\u001b[39mget(\u001b[38;5;124m\"\u001b[39m\u001b[38;5;124mstorage_options\u001b[39m\u001b[38;5;124m\"\u001b[39m, \u001b[38;5;28;01mNone\u001b[39;00m),\n\u001b[1;32m   1889\u001b[0m )\n\u001b[1;32m   1890\u001b[0m \u001b[38;5;28;01massert\u001b[39;00m \u001b[38;5;28mself\u001b[39m\u001b[38;5;241m.\u001b[39mhandles \u001b[38;5;129;01mis\u001b[39;00m \u001b[38;5;129;01mnot\u001b[39;00m \u001b[38;5;28;01mNone\u001b[39;00m\n\u001b[1;32m   1891\u001b[0m f \u001b[38;5;241m=\u001b[39m \u001b[38;5;28mself\u001b[39m\u001b[38;5;241m.\u001b[39mhandles\u001b[38;5;241m.\u001b[39mhandle\n",
      "File \u001b[0;32m/opt/anaconda3/lib/python3.12/site-packages/pandas/io/common.py:873\u001b[0m, in \u001b[0;36mget_handle\u001b[0;34m(path_or_buf, mode, encoding, compression, memory_map, is_text, errors, storage_options)\u001b[0m\n\u001b[1;32m    868\u001b[0m \u001b[38;5;28;01melif\u001b[39;00m \u001b[38;5;28misinstance\u001b[39m(handle, \u001b[38;5;28mstr\u001b[39m):\n\u001b[1;32m    869\u001b[0m     \u001b[38;5;66;03m# Check whether the filename is to be opened in binary mode.\u001b[39;00m\n\u001b[1;32m    870\u001b[0m     \u001b[38;5;66;03m# Binary mode does not support 'encoding' and 'newline'.\u001b[39;00m\n\u001b[1;32m    871\u001b[0m     \u001b[38;5;28;01mif\u001b[39;00m ioargs\u001b[38;5;241m.\u001b[39mencoding \u001b[38;5;129;01mand\u001b[39;00m \u001b[38;5;124m\"\u001b[39m\u001b[38;5;124mb\u001b[39m\u001b[38;5;124m\"\u001b[39m \u001b[38;5;129;01mnot\u001b[39;00m \u001b[38;5;129;01min\u001b[39;00m ioargs\u001b[38;5;241m.\u001b[39mmode:\n\u001b[1;32m    872\u001b[0m         \u001b[38;5;66;03m# Encoding\u001b[39;00m\n\u001b[0;32m--> 873\u001b[0m         handle \u001b[38;5;241m=\u001b[39m \u001b[38;5;28mopen\u001b[39m(\n\u001b[1;32m    874\u001b[0m             handle,\n\u001b[1;32m    875\u001b[0m             ioargs\u001b[38;5;241m.\u001b[39mmode,\n\u001b[1;32m    876\u001b[0m             encoding\u001b[38;5;241m=\u001b[39mioargs\u001b[38;5;241m.\u001b[39mencoding,\n\u001b[1;32m    877\u001b[0m             errors\u001b[38;5;241m=\u001b[39merrors,\n\u001b[1;32m    878\u001b[0m             newline\u001b[38;5;241m=\u001b[39m\u001b[38;5;124m\"\u001b[39m\u001b[38;5;124m\"\u001b[39m,\n\u001b[1;32m    879\u001b[0m         )\n\u001b[1;32m    880\u001b[0m     \u001b[38;5;28;01melse\u001b[39;00m:\n\u001b[1;32m    881\u001b[0m         \u001b[38;5;66;03m# Binary mode\u001b[39;00m\n\u001b[1;32m    882\u001b[0m         handle \u001b[38;5;241m=\u001b[39m \u001b[38;5;28mopen\u001b[39m(handle, ioargs\u001b[38;5;241m.\u001b[39mmode)\n",
      "\u001b[0;31mFileNotFoundError\u001b[0m: [Errno 2] No such file or directory: 'Data for Modeling/AftDTsMPBROCKMETAL_KGDf.csv'"
     ]
    }
   ],
   "source": [
    "DecisionTreeDF = pd.read_csv(\"Data for Modeling/AftDTsMPBROCKMETAL_KGDf.csv\")\n",
    "df_cluster_PCA_gp = pd.read_csv(\"Data for Modeling/df_cluster_PCA_gp.csv\")\n"
   ]
  },
  {
   "cell_type": "markdown",
   "id": "6069531d",
   "metadata": {},
   "source": [
    "### Step 3: Drop Unnecessary Columns\n",
    "\n",
    "Both DataFrames contain irrelevant or placeholder columns like unnamed indices or extra spaces. We drop those for clarity.\n"
   ]
  },
  {
   "cell_type": "code",
   "execution_count": null,
   "id": "2c9915f4",
   "metadata": {},
   "outputs": [],
   "source": [
    "del DecisionTreeDF[\" \"]\n",
    "del DecisionTreeDF[\"Unnamed: 0\"]\n",
    "del df_cluster_PCA_gp [\"Unnamed: 0\"]\n"
   ]
  },
  {
   "cell_type": "markdown",
   "id": "e66ea8a9",
   "metadata": {},
   "source": [
    "### Step 4: Preview Cleaned DataFrames"
   ]
  },
  {
   "cell_type": "code",
   "execution_count": null,
   "id": "2c936ba7",
   "metadata": {},
   "outputs": [],
   "source": [
    "DecisionTreeDF"
   ]
  },
  {
   "cell_type": "code",
   "execution_count": null,
   "id": "d0a7fed3",
   "metadata": {},
   "outputs": [],
   "source": [
    "df_cluster_PCA_gp"
   ]
  },
  {
   "cell_type": "markdown",
   "id": "6d6c512a",
   "metadata": {},
   "source": [
    "### Step 5: Merge Genre and Track Info with Clustering Data\n",
    "\n",
    "We merge the `track_genre` and `track_id` columns from the Decision Tree DataFrame into the hierarchical clustering DataFrame to allow direct comparison of cluster compositions.\n"
   ]
  },
  {
   "cell_type": "code",
   "execution_count": null,
   "id": "0f2370f5",
   "metadata": {},
   "outputs": [],
   "source": [
    "df_cluster_PCA_gp_Genre = pd.merge(DecisionTreeDF[\"track_genre\"], df_cluster_PCA_gp, right_index=True, left_index=True)\n",
    "df_cluster_PCA_gp_Genre = pd.merge(DecisionTreeDF[\"track_id\"], df_cluster_PCA_gp_Genre, right_index=True, left_index=True)\n",
    "df_cluster_PCA_gp_Genre.sort_values(by=\"cluster_x\")\n"
   ]
  },
  {
   "cell_type": "markdown",
   "id": "4b18260c",
   "metadata": {},
   "source": [
    "### Step 6: Define Cluster Counting Function\n",
    "\n",
    "This function calculates how many tracks of each genre appear in each cluster (both Decision Tree and Hierarchical). It distinguishes between `mpb`, `rock`, and all other genres which are grouped into `metal`.\n"
   ]
  },
  {
   "cell_type": "code",
   "execution_count": null,
   "id": "d0171061",
   "metadata": {},
   "outputs": [],
   "source": [
    "def countingOcorencies(df, columnname, clusterIDs):\n",
    "    grouped = df.groupby([columnname, \"track_genre\"]).size().unstack(fill_value=0)\n",
    "    grouped = grouped.reindex(clusterIDs, fill_value=0)\n",
    "    grouped = grouped.rename(columns={\"mpb\": \"QntMPB\", \"rock\": \"QntROCK\"})\n",
    "\n",
    "    if \"QntMPB\" not in grouped.columns:\n",
    "        grouped[\"QntMPB\"] = 0\n",
    "    if \"QntROCK\" not in grouped.columns:\n",
    "        grouped[\"QntROCK\"] = 0\n",
    "\n",
    "    grouped[\"QntMETAL\"] = (\n",
    "        df.groupby(columnname).size()\n",
    "        .reindex(clusterIDs, fill_value=0)\n",
    "        - grouped[\"QntMPB\"]\n",
    "        - grouped[\"QntROCK\"]\n",
    "    )\n",
    "\n",
    "    grouped = grouped.reset_index().rename(columns={columnname: \"Cluster\"}).drop_duplicates()\n",
    "    ids_count = len(df)\n",
    "\n",
    "    return grouped, ids_count\n",
    "\n",
    "d, i = countingOcorencies(df_cluster_PCA_gp_Genre, \"cluster_x\", list(df_cluster_PCA_gp_Genre[\"cluster_x\"]))\n",
    "d1, i2 = countingOcorencies(DecisionTreeDF, \"node_id\", (DecisionTreeDF[\"node_id\"].sort_values()).to_list())\n",
    "d_sorted = d.sort_values(\"Cluster\")\n",
    "d1_sorted = d1.sort_values(\"Cluster\")\n"
   ]
  },
  {
   "cell_type": "markdown",
   "id": "d0ca718f",
   "metadata": {},
   "source": [
    "### Step 7: Heatmap for Hierarchical Clustering (106 Clusters)\n",
    "\n",
    "We generate a heatmap showing how many songs from each genre fall into each cluster obtained from hierarchical clustering.\n"
   ]
  },
  {
   "cell_type": "code",
   "execution_count": null,
   "id": "c1263d73",
   "metadata": {},
   "outputs": [],
   "source": [
    "for col in [\"QntMPB\", \"QntROCK\", \"QntMETAL\"]:\n",
    "    d_sorted[col] = d_sorted[col].apply(lambda x: list(x)[0] if isinstance(x, set) else x)\n",
    "\n",
    "heatmap_data = d_sorted.set_index(\"Cluster\")[[\"QntMPB\", \"QntROCK\", \"QntMETAL\"]]\n",
    "\n",
    "plt.figure(figsize=(8, 20))\n",
    "sns.heatmap(heatmap_data, annot=True, cmap=\"coolwarm\", fmt=\"d\")\n",
    "plt.title(\"Heatmap of Song Counts per Genre per Cluster\")\n",
    "plt.xlabel(\"Genre\")\n",
    "plt.ylabel(\"Cluster\")\n",
    "plt.tight_layout()\n",
    "plt.show()\n"
   ]
  },
  {
   "cell_type": "markdown",
   "id": "93e58d41",
   "metadata": {},
   "source": [
    "### Step 8: Heatmap for Decision Tree Leaf Nodes (106 Nodes)\n",
    "\n",
    "This heatmap visualizes the genre distribution across each leaf node (interpreted as a cluster) in the Decision Tree.\n"
   ]
  },
  {
   "cell_type": "code",
   "execution_count": null,
   "id": "dc807b5a",
   "metadata": {},
   "outputs": [],
   "source": [
    "for col in [\"Cluster\", \"QntMPB\", \"QntROCK\", \"QntMETAL\"]:\n",
    "    d1[col] = d1[col].apply(lambda x: list(x)[0] if isinstance(x, set) else x)\n",
    "\n",
    "heatmap_data = d1.set_index(\"Cluster\")[[\"QntMPB\", \"QntROCK\", \"QntMETAL\"]]\n",
    "\n",
    "plt.figure(figsize=(8, 20))\n",
    "sns.heatmap(heatmap_data, annot=True, cmap=\"coolwarm\", fmt=\"d\")\n",
    "plt.title(\"Heatmap of Song Counts per Genre per Cluster\")\n",
    "plt.xlabel(\"Genre\")\n",
    "plt.ylabel(\"Cluster\")\n",
    "plt.tight_layout()\n",
    "plt.show()\n"
   ]
  }
 ],
 "metadata": {
  "kernelspec": {
   "display_name": "base",
   "language": "python",
   "name": "python3"
  },
  "language_info": {
   "codemirror_mode": {
    "name": "ipython",
    "version": 3
   },
   "file_extension": ".py",
   "mimetype": "text/x-python",
   "name": "python",
   "nbconvert_exporter": "python",
   "pygments_lexer": "ipython3",
   "version": "3.12.7"
  }
 },
 "nbformat": 4,
 "nbformat_minor": 5
}
