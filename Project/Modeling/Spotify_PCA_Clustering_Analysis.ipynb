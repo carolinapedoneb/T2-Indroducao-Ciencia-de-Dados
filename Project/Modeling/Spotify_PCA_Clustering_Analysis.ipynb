{
 "cells": [
  {
   "cell_type": "markdown",
   "id": "319a5b86",
   "metadata": {},
   "source": [
    "### 📦 Imports & Setup"
   ]
  },
  {
   "cell_type": "code",
   "execution_count": null,
   "id": "11d8a5d1",
   "metadata": {},
   "outputs": [],
   "source": [
    "import pandas as pd\n",
    "import numpy as np\n",
    "import seaborn as sns\n",
    "import matplotlib.pyplot as plt\n",
    "from matplotlib.patches import Patch\n",
    "import matplotlib.patches as mpatches\n",
    "from sklearn.preprocessing import MinMaxScaler\n",
    "from sklearn.decomposition import PCA\n",
    "from scipy.cluster.hierarchy import linkage, fcluster\n",
    "from scipy.spatial.distance import pdist\n",
    "from matplotlib.gridspec import GridSpec"
   ]
  },
  {
   "cell_type": "markdown",
   "id": "c5b3bea2",
   "metadata": {},
   "source": [
    "### 📁 Load Dataset"
   ]
  },
  {
   "cell_type": "code",
   "execution_count": null,
   "id": "a1950ede",
   "metadata": {},
   "outputs": [],
   "source": [
    "df = pd.read_csv(\"Data for Modeling/MPBROCKMETAL_KGsubset.csv\")"
   ]
  },
  {
   "cell_type": "markdown",
   "id": "c053d92b",
   "metadata": {},
   "source": [
    "### 🌳 Hierarchical Clustering Function"
   ]
  },
  {
   "cell_type": "code",
   "execution_count": null,
   "id": "2512edae",
   "metadata": {},
   "outputs": [],
   "source": [
    "def hierarchical_clustering(df, iloc_lower, iloc_upper, num_clusters=106):\n",
    "    features = df.iloc[:, iloc_lower:iloc_upper].copy()\n",
    "    features_scaled = MinMaxScaler().fit_transform(features)\n",
    "    distance_matrix = pdist(features_scaled, metric='euclidean')\n",
    "    linked = linkage(distance_matrix, method='ward')\n",
    "    cluster_ids = fcluster(linked, num_clusters, criterion='maxclust')\n",
    "    features['cluster'] = cluster_ids\n",
    "    sns.clustermap(features.corr(), cmap='coolwarm', annot=False)\n",
    "    return features\n",
    "\n",
    "result = hierarchical_clustering(df,6,20 )\n",
    "print(result)"
   ]
  },
  {
   "cell_type": "markdown",
   "id": "67f9757b",
   "metadata": {},
   "source": [
    "### 🔬 PCA + Clustering Visualization"
   ]
  },
  {
   "cell_type": "code",
   "execution_count": null,
   "id": "5ceb647a",
   "metadata": {},
   "outputs": [],
   "source": [
    "def plot_pca_clusters_with_legend(df, iloc_lower, iloc_upper, num_clusters=106):\n",
    "    features = df.iloc[:, iloc_lower:iloc_upper].copy()\n",
    "    features_scaled = MinMaxScaler().fit_transform(features)\n",
    "    linked = linkage(pdist(features_scaled), method='ward')\n",
    "    cluster_ids = fcluster(linked, num_clusters, criterion='maxclust')\n",
    "    pca = PCA(n_components=2)\n",
    "    pca_transformed = pca.fit_transform(features_scaled)\n",
    "    pca_df = pd.DataFrame(pca_transformed, columns=[\"PC1\", \"PC2\"])\n",
    "    pca_df[\"cluster\"] = cluster_ids\n",
    "\n",
    "    plt.figure(figsize=(12, 6))\n",
    "    scatter = plt.scatter(pca_df[\"PC1\"], pca_df[\"PC2\"], c=pca_df[\"cluster\"], cmap=\"tab20\", alpha=0.6)\n",
    "    legend1 = plt.legend(*scatter.legend_elements(), loc=\"upper right\", title=\"Cluster\")\n",
    "    plt.xlabel(\"PC1\")\n",
    "    plt.ylabel(\"PC2\")\n",
    "    plt.title(\"PCA Cluster Projection\")\n",
    "    plt.show()\n",
    "    return pca_df\n",
    "\n",
    "pca_df =plot_pca_clusters_with_legend(df,6,20)\n",
    "pca_df"
   ]
  },
  {
   "cell_type": "markdown",
   "id": "dc211b72",
   "metadata": {},
   "source": [
    "### 🔗 Merge Clustering and PCA Results"
   ]
  },
  {
   "cell_type": "code",
   "execution_count": null,
   "id": "4b5c5a55",
   "metadata": {},
   "outputs": [],
   "source": [
    "df_cluster_PCA = pd.merge(result, pca_df, left_index=True, right_index=True)\n",
    "df_cluster_PCA.drop(columns=[\"cluster_y\"], inplace=True)\n",
    "df_cluster_PCA.reset_index(inplace=True)\n",
    "\n",
    "pc1 = df_cluster_PCA[\"PC1\"].tolist()\n",
    "pc2 = df_cluster_PCA[\"PC2\"].tolist()\n",
    "\n",
    "def get_pca_distance_with_x_sign(x, y, boundary_x=-0.25, boundary_y=0):\n",
    "    distance = np.sqrt((x - boundary_x)**2 + (y - boundary_y)**2)\n",
    "    return distance if x > boundary_x else -distance\n",
    "\n",
    "pc_distances = [get_pca_distance_with_x_sign(x, y) for x, y in zip(pc1, pc2)]\n",
    "df_cluster_PCA[\"PCA_EuclidianDist(Xsign)\"] = pc_distances\n",
    "\n",
    "def add_first_boundary_group(df, distance_column=\"PCA_EuclidianDist(Xsign)\"):\n",
    "    df[\"1th_Boundary\"] = df[distance_column].apply(lambda x: -1 if x < 0 else 1)\n",
    "    return df\n",
    "\n",
    "df_cluster_PCA_gp = add_first_boundary_group(df_cluster_PCA)\n",
    "df_cluster_PCA_gp = pd.merge(df[\"track_genre\"], df_cluster_PCA_gp, left_index=True, right_index=True)\n",
    "\n",
    "groupA = df_cluster_PCA_gp[df_cluster_PCA_gp[\"1th_Boundary\"] == -1]\n",
    "groupB = df_cluster_PCA_gp[df_cluster_PCA_gp[\"1th_Boundary\"] == 1]"
   ]
  },
  {
   "cell_type": "markdown",
   "id": "1170ff74",
   "metadata": {},
   "source": [
    "### 📊 Plot Feature Comparisons (Group A vs B)"
   ]
  },
  {
   "cell_type": "code",
   "execution_count": null,
   "id": "493bede5",
   "metadata": {},
   "outputs": [],
   "source": [
    "def plot_feature_comparisons(groupA, groupB, comparisons, groupA_label='Group A', groupB_label='Group B'):\n",
    "    for x_feat, y_feat in comparisons:\n",
    "        plt.figure(figsize=(6, 4))\n",
    "        plt.scatter(groupA[x_feat], groupA[y_feat], alpha=0.6, label=groupA_label)\n",
    "        plt.scatter(groupB[x_feat], groupB[y_feat], alpha=0.6, label=groupB_label)\n",
    "        plt.xlabel(x_feat)\n",
    "        plt.ylabel(y_feat)\n",
    "        plt.title(f\"{x_feat} vs {y_feat}\")\n",
    "        plt.legend()\n",
    "        plt.show()\n",
    "\n",
    "comparisons = [(\"acousticness\", \"energy\"), ( \"energy\", \"loudness\"), (\"danceability\",\"valence\" )]\n",
    "plot_feature_comparisons(groupA,groupB,comparisons)"
   ]
  },
  {
   "cell_type": "markdown",
   "id": "06a9a404",
   "metadata": {},
   "source": [
    "### 🧠 PCA Feature Contribution Analysis"
   ]
  },
  {
   "cell_type": "code",
   "execution_count": null,
   "id": "9ff95eeb",
   "metadata": {},
   "outputs": [],
   "source": [
    "def pca_feature_contributions(df, iloc_lower, iloc_upper, n_components=2, sort_by='PC1'):\n",
    "    features = df.iloc[:, iloc_lower:iloc_upper]\n",
    "    scaled = MinMaxScaler().fit_transform(features)\n",
    "    pca = PCA(n_components=n_components)\n",
    "    pca.fit(scaled)\n",
    "    loadings = pd.DataFrame(pca.components_.T, columns=[f'PC{i+1}' for i in range(n_components)], index=features.columns)\n",
    "    return loadings.sort_values(by=sort_by, ascending=False)\n",
    "\n",
    "pca_f = pca_feature_contributions(df,6,20)\n",
    "print(pca_f)"
   ]
  },
  {
   "cell_type": "markdown",
   "id": "bc00f01f",
   "metadata": {},
   "source": [
    "### 🧹 Drop Binary Feature \"mode\""
   ]
  },
  {
   "cell_type": "code",
   "execution_count": null,
   "id": "4e480f6c",
   "metadata": {},
   "outputs": [],
   "source": [
    "del df[\"mode\"]"
   ]
  },
  {
   "cell_type": "markdown",
   "id": "0d9c7719",
   "metadata": {},
   "source": [
    "### 🌳 Re-run Clustering Without \"mode\""
   ]
  },
  {
   "cell_type": "code",
   "execution_count": null,
   "id": "ef94078d",
   "metadata": {},
   "outputs": [],
   "source": [
    "result2 = hierarchical_clustering(df,6,19 )\n",
    "print(result2)"
   ]
  },
  {
   "cell_type": "markdown",
   "id": "529bfc8d",
   "metadata": {},
   "source": [
    "### 🔬 Re-plot PCA After Removing \"mode\""
   ]
  },
  {
   "cell_type": "code",
   "execution_count": null,
   "id": "da63e62e",
   "metadata": {},
   "outputs": [],
   "source": [
    "pca_df2 =plot_pca_clusters_with_legend(df,6,19)\n",
    "pca_df2"
   ]
  },
  {
   "cell_type": "markdown",
   "id": "160e19a6",
   "metadata": {},
   "source": [
    "### 🔗 Merge and Analyze PCA Groups Again"
   ]
  },
  {
   "cell_type": "code",
   "execution_count": null,
   "id": "cf8a2579",
   "metadata": {},
   "outputs": [],
   "source": [
    "df_cluster_PCA2 = pd.merge(result2, pca_df2, left_index=True, right_index=True)\n",
    "df_cluster_PCA2.drop(columns=[\"cluster_y\"], inplace=True)\n",
    "df_cluster_PCA2.reset_index(inplace=True)\n",
    "\n",
    "pc1_2 = df_cluster_PCA2[\"PC1\"].tolist()\n",
    "pc2_2 = df_cluster_PCA2[\"PC2\"].tolist()\n",
    "\n",
    "pc_distances_2 = [get_pca_distance_with_x_sign(x, y) for x, y in zip(pc1_2, pc2_2)]\n",
    "df_cluster_PCA2[\"PCA_EuclidianDist(Xsign)\"] = pc_distances_2\n",
    "\n",
    "df_cluster_PCA_gp2 = add_first_boundary_group(df_cluster_PCA2)\n",
    "df_cluster_PCA_gp2 = pd.merge(df[\"track_genre\"], df_cluster_PCA_gp2, left_index=True, right_index=True)\n",
    "\n",
    "groupA2 = df_cluster_PCA_gp2[df_cluster_PCA_gp2[\"1th_Boundary\"] == -1]\n",
    "groupB2 = df_cluster_PCA_gp2[df_cluster_PCA_gp2[\"1th_Boundary\"] == 1]\n",
    "\n",
    "plot_feature_comparisons(groupA2,groupB2,comparisons)"
   ]
  },
  {
   "cell_type": "markdown",
   "id": "d8b3afcf",
   "metadata": {},
   "source": [
    "### 📈 Final Feature Contributions (Without \"mode\")"
   ]
  },
  {
   "cell_type": "code",
   "execution_count": null,
   "id": "2877751c",
   "metadata": {},
   "outputs": [],
   "source": [
    "pca_f2 = pca_feature_contributions(df,6,19)"
   ]
  }
 ],
 "metadata": {},
 "nbformat": 4,
 "nbformat_minor": 5
}
