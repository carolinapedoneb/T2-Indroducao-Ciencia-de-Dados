{
 "cells": [
  {
   "cell_type": "code",
   "execution_count": 2,
   "metadata": {},
   "outputs": [],
   "source": [
    "from sklearn.neighbors import KNeighborsClassifier\n",
    "from sklearn.model_selection import train_test_split\n",
    "from sklearn.preprocessing import MinMaxScaler, LabelEncoder\n",
    "from sklearn.metrics import accuracy_score, classification_report\n",
    "from matplotlib import cm\n",
    "from sklearn.metrics import confusion_matrix\n",
    "from sklearn.metrics import ConfusionMatrixDisplay\n",
    "from sklearn.preprocessing import MinMaxScaler\n",
    "from tree_utils import *\n",
    "import pandas as pd\n",
    "import joblib\n"
   ]
  },
  {
   "cell_type": "code",
   "execution_count": 3,
   "metadata": {},
   "outputs": [],
   "source": [
    "df = pd.read_csv(\"/Users/carolbarroco/Documents/RecomendSisKNN/TG2 RecommendSys/GitHub/T2-Indroducao-Ciencia-de-Dados/Data/MPBROCKMETAL_KGDataSet.csv\")\n",
    "scaler = joblib.load(\"scaler.pkl\")\n",
    "label_encoder = joblib.load(\"label_encoder.pkl\") \n",
    "best_tree = joblib.load(\"/Users/carolbarroco/Documents/RecomendSisKNN/TG2 RecommendSys/GitHub/T2-Indroducao-Ciencia-de-Dados/Modeling/best_tree.pkl\")"
   ]
  },
  {
   "cell_type": "code",
   "execution_count": 4,
   "metadata": {},
   "outputs": [],
   "source": [
    "del df[\"Unnamed: 0\"]\n",
    "del df[\"Unnamed: 0.1\"]"
   ]
  },
  {
   "cell_type": "code",
   "execution_count": 4,
   "metadata": {},
   "outputs": [],
   "source": [
    "\n",
    "def pDecisionTree(Xdata, ydata):\n",
    "    feature_names = Xdata.columns\n",
    "\n",
    "    # Scale new data\n",
    "    X_new_scaled = scaler.transform(Xdata)\n",
    "    X_new = pd.DataFrame(X_new_scaled, columns=feature_names)\n",
    "    y_true_encoded = label_encoder.transform(ydata)\n",
    "    class_labels = label_encoder.classes_\n",
    "\n",
    "    # Predict using the already-trained best_tree\n",
    "    tree_pred = best_tree.predict(X_new)\n",
    "\n",
    "\n",
    "    return X_new,tree_pred, y_true_encoded, class_labels  # Return both to allow accuracy calculation\n",
    "\n",
    "def getAccuracy(y_pred, y_true_encoded, class_labels):\n",
    "    acc = accuracy_score(y_true_encoded, y_pred)\n",
    "    print(f\"Accuracy: {acc:.4f}\")\n",
    "    cm = confusion_matrix(y_true_encoded, y_pred)\n",
    "    disp = ConfusionMatrixDisplay(confusion_matrix=cm, display_labels=class_labels)\n",
    "    disp.plot(xticks_rotation=45, cmap='Blues')\n",
    "    \n",
    "\n",
    "def add_encoded_labels_to_df(y_true_encoded, df):\n",
    "    df_y_encoded = pd.DataFrame({\"track_genre_encoded\": y_true_encoded})\n",
    "    df_combined = pd.merge(df, df_y_encoded, left_index=True, right_index=True)\n",
    "    return df_combined"
   ]
  },
  {
   "cell_type": "code",
   "execution_count": 5,
   "metadata": {},
   "outputs": [
    {
     "name": "stderr",
     "output_type": "stream",
     "text": [
      "/opt/anaconda3/lib/python3.12/site-packages/sklearn/utils/validation.py:2732: UserWarning: X has feature names, but DecisionTreeClassifier was fitted without feature names\n",
      "  warnings.warn(\n"
     ]
    },
    {
     "name": "stdout",
     "output_type": "stream",
     "text": [
      "Accuracy: 0.9730\n"
     ]
    },
    {
     "data": {
      "image/png": "[encoded data removed]",
      "text/plain": [
       "<Figure size 640x480 with 2 Axes>"
      ]
     },
     "metadata": {},
     "output_type": "display_data"
    }
   ],
   "source": [
    "Xs = df.iloc[:, 4:18]\n",
    "y = df[\"track_genre\"]\n",
    "\n",
    "t, x, y,z= pDecisionTree(Xs,y)\n",
    "df_encoded_genr = add_encoded_labels_to_df(y, df)\n",
    "getAccuracy(x,y,z)"
   ]
  },
  {
   "cell_type": "code",
   "execution_count": 6,
   "metadata": {},
   "outputs": [
    {
     "name": "stderr",
     "output_type": "stream",
     "text": [
      "/opt/anaconda3/lib/python3.12/site-packages/sklearn/utils/validation.py:2732: UserWarning: X has feature names, but DecisionTreeClassifier was fitted without feature names\n",
      "  warnings.warn(\n"
     ]
    }
   ],
   "source": [
    "df_with_leaf_nodes =  get_samples_leaf_nodes(best_tree, t)\n"
   ]
  },
  {
   "cell_type": "code",
   "execution_count": 7,
   "metadata": {},
   "outputs": [
    {
     "data": {
      "text/html": [
       "<div>\n",
       "<style scoped>\n",
       "    .dataframe tbody tr th:only-of-type {\n",
       "        vertical-align: middle;\n",
       "    }\n",
       "\n",
       "    .dataframe tbody tr th {\n",
       "        vertical-align: top;\n",
       "    }\n",
       "\n",
       "    .dataframe thead th {\n",
       "        text-align: right;\n",
       "    }\n",
       "</style>\n",
       "<table border=\"1\" class=\"dataframe\">\n",
       "  <thead>\n",
       "    <tr style=\"text-align: right;\">\n",
       "      <th></th>\n",
       "      <th>track_id</th>\n",
       "      <th>artists</th>\n",
       "      <th>album_name</th>\n",
       "      <th>track_name</th>\n",
       "      <th>popularity</th>\n",
       "      <th>duration_ms</th>\n",
       "      <th>explicit</th>\n",
       "      <th>danceability</th>\n",
       "      <th>leaf_node</th>\n",
       "      <th>energy</th>\n",
       "      <th>key</th>\n",
       "      <th>loudness</th>\n",
       "      <th>speechiness</th>\n",
       "      <th>acousticness</th>\n",
       "      <th>instrumentalness</th>\n",
       "      <th>liveness</th>\n",
       "      <th>valence</th>\n",
       "      <th>tempo</th>\n",
       "      <th>time_signature</th>\n",
       "      <th>track_genre</th>\n",
       "    </tr>\n",
       "  </thead>\n",
       "  <tbody>\n",
       "    <tr>\n",
       "      <th>0</th>\n",
       "      <td>6g2BiiVQqY5v1S4HIrM54F</td>\n",
       "      <td>Rodrigo Amarante</td>\n",
       "      <td>Tuyo (Narcos Theme) [Extended Version] [A Netf...</td>\n",
       "      <td>Tuyo (Narcos Theme) [Extended Version] - A Net...</td>\n",
       "      <td>66</td>\n",
       "      <td>151565</td>\n",
       "      <td>False</td>\n",
       "      <td>0.765</td>\n",
       "      <td>210</td>\n",
       "      <td>0.497</td>\n",
       "      <td>1</td>\n",
       "      <td>-7.806</td>\n",
       "      <td>0.0402</td>\n",
       "      <td>0.492000</td>\n",
       "      <td>0.366000</td>\n",
       "      <td>0.1430</td>\n",
       "      <td>0.4570</td>\n",
       "      <td>112.195</td>\n",
       "      <td>4</td>\n",
       "      <td>mpb</td>\n",
       "    </tr>\n",
       "    <tr>\n",
       "      <th>1</th>\n",
       "      <td>6Dc2tCivms1s2X9myWe4ni</td>\n",
       "      <td>Rodrigo Amarante</td>\n",
       "      <td>Tuyo (Narcos Theme) [A Netflix Original Series...</td>\n",
       "      <td>Tuyo (Narcos Theme) - A Netflix Original Serie...</td>\n",
       "      <td>65</td>\n",
       "      <td>89293</td>\n",
       "      <td>False</td>\n",
       "      <td>0.720</td>\n",
       "      <td>210</td>\n",
       "      <td>0.422</td>\n",
       "      <td>1</td>\n",
       "      <td>-13.338</td>\n",
       "      <td>0.0690</td>\n",
       "      <td>0.474000</td>\n",
       "      <td>0.084700</td>\n",
       "      <td>0.1550</td>\n",
       "      <td>0.5460</td>\n",
       "      <td>112.219</td>\n",
       "      <td>4</td>\n",
       "      <td>mpb</td>\n",
       "    </tr>\n",
       "    <tr>\n",
       "      <th>2</th>\n",
       "      <td>76HOOcFt3lKVdScmoScfz1</td>\n",
       "      <td>Djavan</td>\n",
       "      <td>Djavan \"Ao Vivo\"</td>\n",
       "      <td>Azul (Ao Vivo)</td>\n",
       "      <td>49</td>\n",
       "      <td>259066</td>\n",
       "      <td>False</td>\n",
       "      <td>0.632</td>\n",
       "      <td>163</td>\n",
       "      <td>0.651</td>\n",
       "      <td>7</td>\n",
       "      <td>-8.658</td>\n",
       "      <td>0.0401</td>\n",
       "      <td>0.756000</td>\n",
       "      <td>0.000004</td>\n",
       "      <td>0.7260</td>\n",
       "      <td>0.6520</td>\n",
       "      <td>119.567</td>\n",
       "      <td>4</td>\n",
       "      <td>mpb</td>\n",
       "    </tr>\n",
       "    <tr>\n",
       "      <th>3</th>\n",
       "      <td>4crctLJMKJekuqQ7cQLpHV</td>\n",
       "      <td>Nicolas Candido;Olívia</td>\n",
       "      <td>Apaga a Luz (feat. Olívia)</td>\n",
       "      <td>Apaga a Luz (feat. Olívia)</td>\n",
       "      <td>49</td>\n",
       "      <td>216446</td>\n",
       "      <td>False</td>\n",
       "      <td>0.610</td>\n",
       "      <td>158</td>\n",
       "      <td>0.420</td>\n",
       "      <td>4</td>\n",
       "      <td>-10.889</td>\n",
       "      <td>0.0462</td>\n",
       "      <td>0.815000</td>\n",
       "      <td>0.000000</td>\n",
       "      <td>0.1230</td>\n",
       "      <td>0.5530</td>\n",
       "      <td>96.313</td>\n",
       "      <td>4</td>\n",
       "      <td>mpb</td>\n",
       "    </tr>\n",
       "    <tr>\n",
       "      <th>4</th>\n",
       "      <td>0XXwP0EmpOEqWxcL9aSreJ</td>\n",
       "      <td>Fábio Jr.</td>\n",
       "      <td>Fabio Jr.</td>\n",
       "      <td>Pareço um Menino</td>\n",
       "      <td>50</td>\n",
       "      <td>273906</td>\n",
       "      <td>False</td>\n",
       "      <td>0.580</td>\n",
       "      <td>158</td>\n",
       "      <td>0.330</td>\n",
       "      <td>7</td>\n",
       "      <td>-13.703</td>\n",
       "      <td>0.0295</td>\n",
       "      <td>0.596000</td>\n",
       "      <td>0.000001</td>\n",
       "      <td>0.0849</td>\n",
       "      <td>0.3730</td>\n",
       "      <td>136.408</td>\n",
       "      <td>4</td>\n",
       "      <td>mpb</td>\n",
       "    </tr>\n",
       "    <tr>\n",
       "      <th>...</th>\n",
       "      <td>...</td>\n",
       "      <td>...</td>\n",
       "      <td>...</td>\n",
       "      <td>...</td>\n",
       "      <td>...</td>\n",
       "      <td>...</td>\n",
       "      <td>...</td>\n",
       "      <td>...</td>\n",
       "      <td>...</td>\n",
       "      <td>...</td>\n",
       "      <td>...</td>\n",
       "      <td>...</td>\n",
       "      <td>...</td>\n",
       "      <td>...</td>\n",
       "      <td>...</td>\n",
       "      <td>...</td>\n",
       "      <td>...</td>\n",
       "      <td>...</td>\n",
       "      <td>...</td>\n",
       "      <td>...</td>\n",
       "    </tr>\n",
       "    <tr>\n",
       "      <th>2995</th>\n",
       "      <td>78adEMnfn1XolaOh2QAjZS</td>\n",
       "      <td>Brujeria</td>\n",
       "      <td>Brujerizmo</td>\n",
       "      <td>Laboratorio Cristalitos</td>\n",
       "      <td>20</td>\n",
       "      <td>91866</td>\n",
       "      <td>False</td>\n",
       "      <td>0.474</td>\n",
       "      <td>125</td>\n",
       "      <td>0.993</td>\n",
       "      <td>1</td>\n",
       "      <td>-5.850</td>\n",
       "      <td>0.1270</td>\n",
       "      <td>0.000432</td>\n",
       "      <td>0.030100</td>\n",
       "      <td>0.3380</td>\n",
       "      <td>0.1550</td>\n",
       "      <td>128.239</td>\n",
       "      <td>4</td>\n",
       "      <td>death-metal</td>\n",
       "    </tr>\n",
       "    <tr>\n",
       "      <th>2996</th>\n",
       "      <td>53c9YHuifgAWJoqgPOgPUn</td>\n",
       "      <td>Unleashed</td>\n",
       "      <td>Gods of Death Metal</td>\n",
       "      <td>Long Before Winter's Call</td>\n",
       "      <td>0</td>\n",
       "      <td>227616</td>\n",
       "      <td>False</td>\n",
       "      <td>0.370</td>\n",
       "      <td>21</td>\n",
       "      <td>0.993</td>\n",
       "      <td>7</td>\n",
       "      <td>-4.465</td>\n",
       "      <td>0.1310</td>\n",
       "      <td>0.000078</td>\n",
       "      <td>0.006220</td>\n",
       "      <td>0.1270</td>\n",
       "      <td>0.0398</td>\n",
       "      <td>103.052</td>\n",
       "      <td>4</td>\n",
       "      <td>death-metal</td>\n",
       "    </tr>\n",
       "    <tr>\n",
       "      <th>2997</th>\n",
       "      <td>6us7QqYJGMGZqej8dKCFGC</td>\n",
       "      <td>Bury Your Dead</td>\n",
       "      <td>Cover Your Tracks</td>\n",
       "      <td>Mission: Impossible</td>\n",
       "      <td>21</td>\n",
       "      <td>162973</td>\n",
       "      <td>True</td>\n",
       "      <td>0.307</td>\n",
       "      <td>125</td>\n",
       "      <td>0.976</td>\n",
       "      <td>2</td>\n",
       "      <td>-3.552</td>\n",
       "      <td>0.2790</td>\n",
       "      <td>0.000033</td>\n",
       "      <td>0.010600</td>\n",
       "      <td>0.3110</td>\n",
       "      <td>0.4880</td>\n",
       "      <td>83.527</td>\n",
       "      <td>4</td>\n",
       "      <td>death-metal</td>\n",
       "    </tr>\n",
       "    <tr>\n",
       "      <th>2998</th>\n",
       "      <td>5l5XKQmo9M0XHdNAPddq0i</td>\n",
       "      <td>Surra</td>\n",
       "      <td>Bica na Cara</td>\n",
       "      <td>Vida de Babaca</td>\n",
       "      <td>22</td>\n",
       "      <td>135893</td>\n",
       "      <td>True</td>\n",
       "      <td>0.362</td>\n",
       "      <td>209</td>\n",
       "      <td>0.994</td>\n",
       "      <td>6</td>\n",
       "      <td>-1.722</td>\n",
       "      <td>0.1260</td>\n",
       "      <td>0.038000</td>\n",
       "      <td>0.000268</td>\n",
       "      <td>0.3600</td>\n",
       "      <td>0.4540</td>\n",
       "      <td>103.668</td>\n",
       "      <td>4</td>\n",
       "      <td>death-metal</td>\n",
       "    </tr>\n",
       "    <tr>\n",
       "      <th>2999</th>\n",
       "      <td>1eUrfmvVOuy7RsS11Kz74Q</td>\n",
       "      <td>Toxic Holocaust</td>\n",
       "      <td>An Overdose of Death...</td>\n",
       "      <td>Feedback, Blood &amp; Distortion</td>\n",
       "      <td>22</td>\n",
       "      <td>206973</td>\n",
       "      <td>False</td>\n",
       "      <td>0.260</td>\n",
       "      <td>125</td>\n",
       "      <td>0.994</td>\n",
       "      <td>10</td>\n",
       "      <td>-5.291</td>\n",
       "      <td>0.0909</td>\n",
       "      <td>0.000006</td>\n",
       "      <td>0.704000</td>\n",
       "      <td>0.0958</td>\n",
       "      <td>0.3600</td>\n",
       "      <td>145.913</td>\n",
       "      <td>4</td>\n",
       "      <td>death-metal</td>\n",
       "    </tr>\n",
       "  </tbody>\n",
       "</table>\n",
       "<p>3000 rows × 20 columns</p>\n",
       "</div>"
      ],
      "text/plain": [
       "                    track_id                 artists  \\\n",
       "0     6g2BiiVQqY5v1S4HIrM54F        Rodrigo Amarante   \n",
       "1     6Dc2tCivms1s2X9myWe4ni        Rodrigo Amarante   \n",
       "2     76HOOcFt3lKVdScmoScfz1                  Djavan   \n",
       "3     4crctLJMKJekuqQ7cQLpHV  Nicolas Candido;Olívia   \n",
       "4     0XXwP0EmpOEqWxcL9aSreJ               Fábio Jr.   \n",
       "...                      ...                     ...   \n",
       "2995  78adEMnfn1XolaOh2QAjZS                Brujeria   \n",
       "2996  53c9YHuifgAWJoqgPOgPUn               Unleashed   \n",
       "2997  6us7QqYJGMGZqej8dKCFGC          Bury Your Dead   \n",
       "2998  5l5XKQmo9M0XHdNAPddq0i                   Surra   \n",
       "2999  1eUrfmvVOuy7RsS11Kz74Q         Toxic Holocaust   \n",
       "\n",
       "                                             album_name  \\\n",
       "0     Tuyo (Narcos Theme) [Extended Version] [A Netf...   \n",
       "1     Tuyo (Narcos Theme) [A Netflix Original Series...   \n",
       "2                                      Djavan \"Ao Vivo\"   \n",
       "3                            Apaga a Luz (feat. Olívia)   \n",
       "4                                             Fabio Jr.   \n",
       "...                                                 ...   \n",
       "2995                                         Brujerizmo   \n",
       "2996                                Gods of Death Metal   \n",
       "2997                                  Cover Your Tracks   \n",
       "2998                                       Bica na Cara   \n",
       "2999                            An Overdose of Death...   \n",
       "\n",
       "                                             track_name  popularity  \\\n",
       "0     Tuyo (Narcos Theme) [Extended Version] - A Net...          66   \n",
       "1     Tuyo (Narcos Theme) - A Netflix Original Serie...          65   \n",
       "2                                        Azul (Ao Vivo)          49   \n",
       "3                            Apaga a Luz (feat. Olívia)          49   \n",
       "4                                      Pareço um Menino          50   \n",
       "...                                                 ...         ...   \n",
       "2995                            Laboratorio Cristalitos          20   \n",
       "2996                          Long Before Winter's Call           0   \n",
       "2997                                Mission: Impossible          21   \n",
       "2998                                     Vida de Babaca          22   \n",
       "2999                       Feedback, Blood & Distortion          22   \n",
       "\n",
       "      duration_ms  explicit  danceability  leaf_node  energy  key  loudness  \\\n",
       "0          151565     False         0.765        210   0.497    1    -7.806   \n",
       "1           89293     False         0.720        210   0.422    1   -13.338   \n",
       "2          259066     False         0.632        163   0.651    7    -8.658   \n",
       "3          216446     False         0.610        158   0.420    4   -10.889   \n",
       "4          273906     False         0.580        158   0.330    7   -13.703   \n",
       "...           ...       ...           ...        ...     ...  ...       ...   \n",
       "2995        91866     False         0.474        125   0.993    1    -5.850   \n",
       "2996       227616     False         0.370         21   0.993    7    -4.465   \n",
       "2997       162973      True         0.307        125   0.976    2    -3.552   \n",
       "2998       135893      True         0.362        209   0.994    6    -1.722   \n",
       "2999       206973     False         0.260        125   0.994   10    -5.291   \n",
       "\n",
       "      speechiness  acousticness  instrumentalness  liveness  valence    tempo  \\\n",
       "0          0.0402      0.492000          0.366000    0.1430   0.4570  112.195   \n",
       "1          0.0690      0.474000          0.084700    0.1550   0.5460  112.219   \n",
       "2          0.0401      0.756000          0.000004    0.7260   0.6520  119.567   \n",
       "3          0.0462      0.815000          0.000000    0.1230   0.5530   96.313   \n",
       "4          0.0295      0.596000          0.000001    0.0849   0.3730  136.408   \n",
       "...           ...           ...               ...       ...      ...      ...   \n",
       "2995       0.1270      0.000432          0.030100    0.3380   0.1550  128.239   \n",
       "2996       0.1310      0.000078          0.006220    0.1270   0.0398  103.052   \n",
       "2997       0.2790      0.000033          0.010600    0.3110   0.4880   83.527   \n",
       "2998       0.1260      0.038000          0.000268    0.3600   0.4540  103.668   \n",
       "2999       0.0909      0.000006          0.704000    0.0958   0.3600  145.913   \n",
       "\n",
       "      time_signature  track_genre  \n",
       "0                  4          mpb  \n",
       "1                  4          mpb  \n",
       "2                  4          mpb  \n",
       "3                  4          mpb  \n",
       "4                  4          mpb  \n",
       "...              ...          ...  \n",
       "2995               4  death-metal  \n",
       "2996               4  death-metal  \n",
       "2997               4  death-metal  \n",
       "2998               4  death-metal  \n",
       "2999               4  death-metal  \n",
       "\n",
       "[3000 rows x 20 columns]"
      ]
     },
     "execution_count": 7,
     "metadata": {},
     "output_type": "execute_result"
    }
   ],
   "source": [
    "df_completo = pd.merge(df_with_leaf_nodes,df, left_index=True, right_index=True)\n",
    "lista_colunas =  ['track_id', 'artists', 'album_name', 'track_name','popularity', 'duration_ms', 'explicit', 'danceability', 'leaf_node',\n",
    "'energy','key', 'loudness', 'speechiness', 'acousticness', 'instrumentalness','liveness', 'valence', 'tempo', 'time_signature', 'track_genre']\n",
    "       \n",
    "df_completo = df_completo[lista_colunas]\n",
    "\n",
    "df_completo"
   ]
  },
  {
   "cell_type": "code",
   "execution_count": 22,
   "metadata": {},
   "outputs": [],
   "source": [
    "from sklearn.neighbors import NearestNeighbors\n",
    "from sklearn.preprocessing import MinMaxScaler\n",
    "import pandas as pd\n",
    "\n",
    "def getAllRecommendationsWithDistances(df, feature_start=4, feature_end=19, n_neighbors=5):\n",
    "    # Select and scale features\n",
    "    X = df.iloc[:, feature_start:feature_end]\n",
    "    X[\"leaf_node\"] *2\n",
    "    scaler = MinMaxScaler()\n",
    "    X_scaled = scaler.fit_transform(X)\n",
    "    \n",
    "    # Fit NearestNeighbors model (+1 to include the point itself, which we'll remove)\n",
    "    knn = NearestNeighbors(n_neighbors=n_neighbors + 1, metric='euclidean')\n",
    "    knn.fit(X_scaled)\n",
    "\n",
    "    # Find neighbors\n",
    "    distances, indices = knn.kneighbors(X_scaled)\n",
    "\n",
    "    # For each sample, build a dict of {index: distance}, excluding the point itself\n",
    "    neighbors_dicts = [\n",
    "        {int(idx): float(dist) for idx, dist in zip(idx_list[1:], dist_list[1:])}\n",
    "        for idx_list, dist_list in zip(indices, distances)\n",
    "    ]\n",
    "\n",
    "    # Add to DataFrame\n",
    "    df_with_recommendations = df.copy()\n",
    "    df_with_recommendations[\"Recommendations\"] = neighbors_dicts\n",
    "\n",
    "    return df_with_recommendations\n",
    "\n",
    "\n",
    "df_with_recommendations = getAllRecommendationsWithDistances(df_completo)"
   ]
  },
  {
   "cell_type": "code",
   "execution_count": 6,
   "metadata": {},
   "outputs": [
    {
     "ename": "NameError",
     "evalue": "name 'df_with_recommendations' is not defined",
     "output_type": "error",
     "traceback": [
      "\u001b[0;31m---------------------------------------------------------------------------\u001b[0m",
      "\u001b[0;31mNameError\u001b[0m                                 Traceback (most recent call last)",
      "Cell \u001b[0;32mIn[6], line 76\u001b[0m\n\u001b[1;32m     73\u001b[0m     fig\u001b[38;5;241m.\u001b[39mupdate_layout(title\u001b[38;5;241m=\u001b[39m\u001b[38;5;124mf\u001b[39m\u001b[38;5;124m\"\u001b[39m\u001b[38;5;124mPCA of \u001b[39m\u001b[38;5;132;01m{\u001b[39;00mgenre\u001b[38;5;132;01m}\u001b[39;00m\u001b[38;5;124m Tracks + Recommendations (Hover for details)\u001b[39m\u001b[38;5;124m\"\u001b[39m)\n\u001b[1;32m     74\u001b[0m     fig\u001b[38;5;241m.\u001b[39mshow()\n\u001b[0;32m---> 76\u001b[0m interactive_pca_plot(df_with_recommendations, \u001b[38;5;124m\"\u001b[39m\u001b[38;5;124mmpb\u001b[39m\u001b[38;5;124m\"\u001b[39m)\n",
      "\u001b[0;31mNameError\u001b[0m: name 'df_with_recommendations' is not defined"
     ]
    }
   ],
   "source": [
    "import plotly.express as px\n",
    "from sklearn.decomposition import PCA\n",
    "import pandas as pd\n",
    "\n",
    "def interactive_pca_plot(df, genre):\n",
    "    # === Filter and reduce to first 50 rows ===\n",
    "    genre_df = df[df[\"track_genre\"] == genre].copy()\n",
    "\n",
    "    # === Prepare features ===\n",
    "    features = genre_df.columns[4:19]  # Adjust if necessary\n",
    "    X = genre_df[features]\n",
    "\n",
    "    # === Run PCA ===\n",
    "    pca = PCA(n_components=2)\n",
    "    X_pca = pca.fit_transform(X)\n",
    "    \n",
    "    # === Create DataFrame for plot ===\n",
    "    pca_df = pd.DataFrame(X_pca, columns=[\"PC1\", \"PC2\"])\n",
    "    pca_df[\"track_name\"] = genre_df[\"track_name\"].values\n",
    "    pca_df[\"index\"] = genre_df.index\n",
    "    pca_df[\"track_genre\"] = genre_df[\"track_genre\"].values\n",
    "    pca_df[\"leaf_node\"] = genre_df[\"leaf_node\"].values\n",
    "    pca_df[\"origin\"] = genre_df.index  # each track is its own origin\n",
    "    pca_df[\"type\"] = \"original\"\n",
    "\n",
    "    # === Add recommendations ===\n",
    "    for idx in genre_df.index:\n",
    "        recommendations = df.loc[idx, \"Recommendations\"]\n",
    "        for rec_idx in recommendations:\n",
    "            rec_row = df.loc[rec_idx]\n",
    "            rec_features = rec_row[features].values.reshape(1, -1)\n",
    "            rec_pca = pca.transform(rec_features)\n",
    "            pca_df = pd.concat([\n",
    "                pca_df,\n",
    "                pd.DataFrame([{\n",
    "                    \"PC1\": rec_pca[0, 0],\n",
    "                    \"PC2\": rec_pca[0, 1],\n",
    "                    \"track_name\": rec_row[\"track_name\"],\n",
    "                    \"index\": rec_idx,\n",
    "                    \"track_genre\": rec_row[\"track_genre\"],\n",
    "                    \"leaf_node\": rec_row[\"leaf_node\"],\n",
    "                    \"origin\": idx,\n",
    "                    \"type\": \"recommendation\"\n",
    "                }])\n",
    "            ], ignore_index=True)\n",
    "\n",
    "    # === Define colors based on original song ===\n",
    "    unique_origins = pca_df[pca_df[\"type\"] == \"original\"][\"origin\"].unique()\n",
    "    color_map = {\n",
    "        idx: px.colors.qualitative.Safe[i % len(px.colors.qualitative.Safe)]\n",
    "        for i, idx in enumerate(unique_origins)\n",
    "    }\n",
    "    pca_df[\"color\"] = pca_df[\"origin\"].map(color_map)\n",
    "\n",
    "    # === Plot using only points with hover info ===\n",
    "    fig = px.scatter(\n",
    "        pca_df,\n",
    "        x=\"PC1\",\n",
    "        y=\"PC2\",\n",
    "        color=\"color\",\n",
    "        hover_data={\n",
    "            \"track_name\": True,\n",
    "            \"index\": True,\n",
    "            \"track_genre\": True,\n",
    "            \"leaf_node\": True,\n",
    "            \"type\": True,\n",
    "            \"color\": False,  # hide actual color code in hover\n",
    "            \"PC1\": False,\n",
    "            \"PC2\": False\n",
    "        }\n",
    "    )\n",
    "    fig.update_traces(marker=dict(size=8, opacity=0.8), showlegend=False)\n",
    "    fig.update_layout(title=f\"PCA of {genre} Tracks + Recommendations (Hover for details)\")\n",
    "    fig.show()\n",
    "\n",
    "interactive_pca_plot(df_with_recommendations, \"mpb\")"
   ]
  },
  {
   "cell_type": "code",
   "execution_count": null,
   "metadata": {},
   "outputs": [],
   "source": []
  },
  {
   "cell_type": "code",
   "execution_count": null,
   "metadata": {},
   "outputs": [
    {
     "data": {
      "application/vnd.plotly.v1+json": {
       "config": {
        "plotlyServerURL": "https://plot.ly"
       },
       "data": [
        {
         "customdata": [
          [
           "Everytime I Die",
           2055,
           "death-metal",
           "#f45bf2"
          ],
          [
           "Only for the Weak",
           2063,
           "death-metal",
           "#f45bf2"
          ],
          [
           "Down for Life",
           2064,
           "death-metal",
           "#f45bf2"
          ],
          [
           "Midnight Queen",
           2092,
           "death-metal",
           "#f45bf2"
          ],
          [
           "For the Glory of...",
           2111,
           "death-metal",
           "#f45bf2"
          ],
          [
           "Raise Your Horns",
           2124,
           "death-metal",
           "#f45bf2"
          ],
          [
           "The Pursuit Of Vikings",
           2125,
           "death-metal",
           "#f45bf2"
          ],
          [
           "Broken Cog",
           2155,
           "death-metal",
           "#f45bf2"
          ],
          [
           "Himmelsrand",
           2205,
           "death-metal",
           "#f45bf2"
          ],
          [
           "Cloud Connected",
           2218,
           "death-metal",
           "#f45bf2"
          ],
          [
           "Maha-Kali",
           2252,
           "death-metal",
           "#f45bf2"
          ],
          [
           "You Asked for It",
           2253,
           "death-metal",
           "#f45bf2"
          ],
          [
           "Mind Corruption",
           2276,
           "death-metal",
           "#f45bf2"
          ],
          [
           "The Indwelling Ascent",
           2310,
           "death-metal",
           "#f45bf2"
          ],
          [
           "Stjärnors Mjöd",
           2311,
           "death-metal",
           "#f45bf2"
          ],
          [
           "Angels Don't Kill",
           2318,
           "death-metal",
           "#f45bf2"
          ],
          [
           "Burn In Hell",
           2328,
           "death-metal",
           "#f45bf2"
          ],
          [
           "Cuando Mis Ojos Se Cierren para Siempre",
           2344,
           "death-metal",
           "#f45bf2"
          ],
          [
           "The Chant",
           2360,
           "death-metal",
           "#f45bf2"
          ],
          [
           "Anubis",
           2402,
           "death-metal",
           "#f45bf2"
          ],
          [
           "Sixpounder",
           2412,
           "death-metal",
           "#f45bf2"
          ],
          [
           "Rotting as One",
           2424,
           "death-metal",
           "#f45bf2"
          ],
          [
           "Blutgeil",
           2431,
           "death-metal",
           "#f45bf2"
          ],
          [
           "Vengeful Ascension",
           2515,
           "death-metal",
           "#f45bf2"
          ],
          [
           "Buried Alive",
           2527,
           "death-metal",
           "#f45bf2"
          ],
          [
           "Ligature Marks",
           2554,
           "death-metal",
           "#f45bf2"
          ],
          [
           "Sphinx",
           2558,
           "death-metal",
           "#f45bf2"
          ],
          [
           "Exhumado",
           2598,
           "death-metal",
           "#f45bf2"
          ],
          [
           "Maha-Kali",
           2610,
           "death-metal",
           "#f45bf2"
          ],
          [
           "Absence of Light",
           2616,
           "death-metal",
           "#f45bf2"
          ],
          [
           "Hell Is Where I Stay",
           2641,
           "death-metal",
           "#f45bf2"
          ],
          [
           "A Long Way to Nowhere",
           2687,
           "death-metal",
           "#f45bf2"
          ],
          [
           "Kings of Domination",
           2694,
           "death-metal",
           "#f45bf2"
          ],
          [
           "Kings of Domination",
           2748,
           "death-metal",
           "#f45bf2"
          ],
          [
           "Lost Forever",
           2781,
           "death-metal",
           "#f45bf2"
          ],
          [
           "Until the Very End (feat. Guilherme Miranda)",
           2798,
           "death-metal",
           "#f45bf2"
          ],
          [
           "The Soul Receiver",
           2821,
           "death-metal",
           "#f45bf2"
          ],
          [
           "The Colours of the Beast",
           2842,
           "death-metal",
           "#f45bf2"
          ],
          [
           "Thalamus",
           2886,
           "death-metal",
           "#f45bf2"
          ],
          [
           "Self-Obsessed",
           2888,
           "death-metal",
           "#f45bf2"
          ],
          [
           "Solitude",
           2925,
           "death-metal",
           "#f45bf2"
          ],
          [
           "Temptation",
           2944,
           "death-metal",
           "#f45bf2"
          ],
          [
           "En Alabama",
           2945,
           "death-metal",
           "#f45bf2"
          ],
          [
           "Joe Ball Was His Name",
           2986,
           "death-metal",
           "#f45bf2"
          ],
          [
           "The Killchain",
           2994,
           "death-metal",
           "#f45bf2"
          ],
          [
           "The Jester's Dance",
           2016,
           "death-metal",
           "#f45bf2"
          ],
          [
           "Stranded",
           2020,
           "death-metal",
           "#f45bf2"
          ],
          [
           "Are You Dead Yet?",
           2029,
           "death-metal",
           "#f45bf2"
          ]
         ],
         "hovertemplate": "track_name=%{customdata[0]}<br>index=%{customdata[1]}<br>track_genre=%{customdata[2]}<extra></extra>",
         "legendgroup": "",
         "marker": {
          "color": "#f45bf2",
          "opacity": 0.8,
          "size": 10,
          "symbol": "circle"
         },
         "mode": "markers",
         "name": "",
         "showlegend": false,
         "type": "scattergl",
         "x": [
          10872.13839028086,
          62738.138865276356,
          -28447.861067013175,
          143538.13724256988,
          -159634.86086413258,
          31632.137938233383,
          38125.1384934705,
          103018.13767678698,
          -78201.86102507362,
          -11421.860986280168,
          134205.13773430762,
          -139861.86082528246,
          -794.8624036266701,
          -41698.86255075442,
          16659.137592009938,
          81605.13811775448,
          -2621.862561422604,
          93378.13694632513,
          80623.13811485603,
          25552.13858030262,
          -27794.862121448474,
          -84342.86227728403,
          26552.13709198925,
          22312.137108282594,
          49205.13718280353,
          80889.13778761314,
          8230.138588934933,
          14792.137117746082,
          132332.13777785917,
          27872.13765203781,
          42018.13703591877,
          -25167.86288449177,
          -11120.862870373414,
          -11120.862870373414,
          -17390.862622974382,
          -33731.86318006393,
          39365.13704253081,
          -1381.8624400573026,
          6165.137528343417,
          -44981.86262700136,
          106312.13847952476,
          -4421.861950877472,
          -74687.86231822279,
          -19594.862641427666,
          48992.13819937338,
          -102928.86159040916,
          37405.13912326435,
          2752.1390692664136
         ],
         "xaxis": "x",
         "y": [
          -24.9696232416525,
          -23.377239232449796,
          -18.00194269743504,
          -40.86829125200447,
          -9.593394810005208,
          -27.91930215645506,
          -24.57210363116137,
          -33.22639270193703,
          -15.381345504441242,
          -18.78825638170754,
          -36.581575855577185,
          -10.799576965075758,
          -31.335034621724674,
          -29.59561073155048,
          -32.24491792402608,
          -31.196514891436834,
          -32.009698910070796,
          -40.22394663545024,
          -30.080536669630874,
          -24.777997023991418,
          -25.953838591584613,
          -25.86122718700213,
          -35.854709435303576,
          -35.6251844656214,
          -36.5846367678607,
          -32.088780458921406,
          -23.373924443199627,
          -35.047117712395405,
          -36.10400681715227,
          -32.96735976741138,
          -37.245390244371066,
          -32.92946790056253,
          -33.60236174312337,
          -33.60236174312337,
          -31.79659718183818,
          -34.0254305600716,
          -36.983699236588876,
          -32.12210058037451,
          -32.52974556070946,
          -30.542355732971373,
          -29.728861100141017,
          -26.101387423548616,
          -27.059585043431525,
          -32.188004599769556,
          -28.2485632369265,
          -16.712859720553098,
          -20.20378435519484,
          -18.893999725563575
         ],
         "yaxis": "y"
        },
        {
         "customdata": [
          [
           "Alison Hell",
           2076,
           "death-metal",
           "#f77641"
          ],
          [
           "Electric Crown",
           2043,
           "death-metal",
           "#f77641"
          ],
          [
           "Hail Mary",
           2046,
           "death-metal",
           "#f77641"
          ],
          [
           "Roots Bloody Roots",
           2047,
           "death-metal",
           "#f77641"
          ]
         ],
         "hovertemplate": "track_name=%{customdata[0]}<br>index=%{customdata[1]}<br>track_genre=%{customdata[2]}<extra></extra>",
         "legendgroup": "",
         "marker": {
          "color": "#f77641",
          "opacity": 0.8,
          "size": 10,
          "symbol": "circle"
         },
         "mode": "markers",
         "name": "",
         "showlegend": false,
         "type": "scattergl",
         "x": [
          68618.13111797301,
          98098.13123119203,
          -19394.868707046204,
          -19874.868810293206
         ],
         "xaxis": "x",
         "y": [
          -123.84520813786258,
          -124.92026843326418,
          -117.77860072493716,
          -118.31974575304852
         ],
         "yaxis": "y"
        },
        {
         "customdata": [
          [
           "The Ultra-Violence",
           2085,
           "death-metal",
           "#ae9c31"
          ],
          [
           "Ultra-Violent",
           2297,
           "death-metal",
           "#ae9c31"
          ],
          [
           "Long Before Winter's Call",
           2996,
           "death-metal",
           "#ae9c31"
          ],
          [
           "The Sick, The Dying… And The Dead!",
           1741,
           "rock",
           "#ae9c31"
          ]
         ],
         "hovertemplate": "track_name=%{customdata[0]}<br>index=%{customdata[1]}<br>track_genre=%{customdata[2]}<extra></extra>",
         "legendgroup": "",
         "marker": {
          "color": "#ae9c31",
          "opacity": 0.8,
          "size": 10,
          "symbol": "circle"
         },
         "mode": "markers",
         "name": "",
         "showlegend": false,
         "type": "scattergl",
         "x": [
          401472.13104340597,
          -5594.867823244655,
          -4511.867747578508,
          71925.13225987012
         ],
         "xaxis": "x",
         "y": [
          -134.58571259590815,
          -104.81609955531896,
          -104.49401434645503,
          -108.66431657252369
         ],
         "yaxis": "y"
        },
        {
         "customdata": [
          [
           "Ignorance & Innocence",
           2091,
           "death-metal",
           "#be9631"
          ],
          [
           "Desecrator",
           2347,
           "death-metal",
           "#be9631"
          ],
          [
           "Viva Las Vengeance",
           1120,
           "rock",
           "#be9631"
          ],
          [
           "Viva Las Vengeance",
           1157,
           "rock",
           "#be9631"
          ],
          [
           "Viva Las Vengeance",
           1173,
           "rock",
           "#be9631"
          ],
          [
           "Ghost On The Dance Floor",
           1174,
           "rock",
           "#be9631"
          ],
          [
           "Ghost On The Dance Floor",
           1175,
           "rock",
           "#be9631"
          ],
          [
           "Viva Las Vengeance",
           1181,
           "rock",
           "#be9631"
          ],
          [
           "Creatures Of The Night",
           1392,
           "rock",
           "#be9631"
          ],
          [
           "Friday I'm In Love",
           1480,
           "rock",
           "#be9631"
          ],
          [
           "Spit Of You",
           1980,
           "rock",
           "#be9631"
          ],
          [
           "Final Breath",
           2044,
           "death-metal",
           "#be9631"
          ]
         ],
         "hovertemplate": "track_name=%{customdata[0]}<br>index=%{customdata[1]}<br>track_genre=%{customdata[2]}<extra></extra>",
         "legendgroup": "",
         "marker": {
          "color": "#be9631",
          "opacity": 0.8,
          "size": 10,
          "symbol": "circle"
         },
         "mode": "markers",
         "name": "",
         "showlegend": false,
         "type": "scattergl",
         "x": [
          68245.13146149751,
          136712.1312906309,
          -25547.86843622569,
          -25547.86843622569,
          -25547.86843622569,
          25391.131903393252,
          25391.131903393252,
          -25547.86843622569,
          10405.131821367395,
          -17727.868243435863,
          40898.13212570915,
          -14756.868667439616
         ],
         "xaxis": "x",
         "y": [
          -115.31387358104541,
          -120.2093556143958,
          -109.32583682596402,
          -109.32583682596402,
          -109.32583682596402,
          -110.47109249921957,
          -110.47109249921957,
          -109.32583682596402,
          -109.94360189859617,
          -108.65382929035741,
          -109.93131835360087,
          -111.22290949331091
         ],
         "yaxis": "y"
        },
        {
         "customdata": [
          [
           "Dreaming in Columbia",
           2098,
           "death-metal",
           "#d98a31"
          ],
          [
           "Thrones of Blood",
           2133,
           "death-metal",
           "#d98a31"
          ],
          [
           "Once upon the Cross",
           2030,
           "death-metal",
           "#d98a31"
          ],
          [
           "Symbolic",
           2033,
           "death-metal",
           "#d98a31"
          ],
          [
           "Arise",
           2034,
           "death-metal",
           "#d98a31"
          ],
          [
           "Turned Inside Out",
           2040,
           "death-metal",
           "#d98a31"
          ]
         ],
         "hovertemplate": "track_name=%{customdata[0]}<br>index=%{customdata[1]}<br>track_genre=%{customdata[2]}<extra></extra>",
         "legendgroup": "",
         "marker": {
          "color": "#d98a31",
          "opacity": 0.8,
          "size": 10,
          "symbol": "circle"
         },
         "mode": "markers",
         "name": "",
         "showlegend": false,
         "type": "scattergl",
         "x": [
          8832.131299941684,
          82765.13104762242,
          -17914.869139247836,
          160672.1305713082,
          -33901.8684232489,
          78712.13120086229
         ],
         "xaxis": "x",
         "y": [
          -116.33931679748169,
          -121.90744871509366,
          -117.07553795222105,
          -129.05693315764398,
          -112.35153725089624,
          -120.93844699828495
         ],
         "yaxis": "y"
        },
        {
         "customdata": [
          [
           "Enviado del Infierno",
           2149,
           "death-metal",
           "#f66d9f"
          ],
          [
           "Muerte Violenta",
           2298,
           "death-metal",
           "#f66d9f"
          ],
          [
           "Lilith",
           2332,
           "death-metal",
           "#f66d9f"
          ],
          [
           "Dis moi poupée",
           2895,
           "death-metal",
           "#f66d9f"
          ],
          [
           "Ando Só",
           995,
           "mpb",
           "#f66d9f"
          ],
          [
           "Eu Nunca Disse Adeus",
           208,
           "mpb",
           "#f66d9f"
          ],
          [
           "Simples De Coração",
           896,
           "mpb",
           "#f66d9f"
          ],
          [
           "Uma Canção é Pra Isso",
           574,
           "mpb",
           "#f66d9f"
          ],
          [
           "Vou Deixar Que Você Se Vá",
           840,
           "mpb",
           "#f66d9f"
          ],
          [
           "Meninos E Meninas",
           257,
           "mpb",
           "#f66d9f"
          ],
          [
           "Reggae Town (feat. Natiruts)",
           675,
           "mpb",
           "#f66d9f"
          ],
          [
           "Ninguém Perguntou por Você",
           284,
           "mpb",
           "#f66d9f"
          ],
          [
           "Educação sentimental II",
           733,
           "mpb",
           "#f66d9f"
          ],
          [
           "Tempo Perdido",
           889,
           "mpb",
           "#f66d9f"
          ],
          [
           "Independência",
           422,
           "mpb",
           "#f66d9f"
          ],
          [
           "O Tempo Não Pára - Ao Vivo No Rio De Janeiro / 1988",
           812,
           "mpb",
           "#f66d9f"
          ]
         ],
         "hovertemplate": "track_name=%{customdata[0]}<br>index=%{customdata[1]}<br>track_genre=%{customdata[2]}<extra></extra>",
         "legendgroup": "",
         "marker": {
          "color": "#f66d9f",
          "opacity": 0.8,
          "size": 10,
          "symbol": "circle"
         },
         "mode": "markers",
         "name": "",
         "showlegend": false,
         "type": "scattergl",
         "x": [
          -24495.861424126808,
          -38798.86211561633,
          -83501.86111689667,
          -29941.861751361896,
          2378.1389069173892,
          -23341.861137529428,
          4045.138233816222,
          1378.1388415412803,
          -40624.86129659446,
          -28421.861335578695,
          -7594.860827887693,
          89519.13872780564,
          59778.138504627335,
          9432.139064346673,
          -47434.86126580837,
          54138.13908893865
         ],
         "xaxis": "x",
         "y": [
          -16.21372184897774,
          -19.531109327368824,
          -11.761405884336085,
          -18.792528575910453,
          -14.73898043424947,
          -12.709003900967886,
          -18.259665567357416,
          -14.715997253430288,
          -13.268740097266914,
          -13.604356746798814,
          -12.4823734162362,
          -20.22720722122284,
          -20.11781299885186,
          -14.187866047921574,
          -12.360506004701392,
          -16.77718809830195
         ],
         "yaxis": "y"
        },
        {
         "customdata": [
          [
           "Phoenix Rising",
           2153,
           "death-metal",
           "#f563d5"
          ],
          [
           "Closure",
           2221,
           "death-metal",
           "#f563d5"
          ],
          [
           "Reimagined",
           2350,
           "death-metal",
           "#f563d5"
          ],
          [
           "Nightside of Eden",
           2426,
           "death-metal",
           "#f563d5"
          ],
          [
           "Invocation of Naamah",
           2531,
           "death-metal",
           "#f563d5"
          ],
          [
           "Decorado Clavos",
           2799,
           "death-metal",
           "#f563d5"
          ]
         ],
         "hovertemplate": "track_name=%{customdata[0]}<br>index=%{customdata[1]}<br>track_genre=%{customdata[2]}<extra></extra>",
         "legendgroup": "",
         "marker": {
          "color": "#f563d5",
          "opacity": 0.8,
          "size": 10,
          "symbol": "circle"
         },
         "mode": "markers",
         "name": "",
         "showlegend": false,
         "type": "scattergl",
         "x": [
          -3581.8615843109437,
          83458.13853158813,
          -29767.861578370124,
          217152.1368689373,
          97232.13770340139,
          130525.13706903043
         ],
         "xaxis": "x",
         "y": [
          -21.98009689265399,
          -26.33312002498336,
          -20.13841397733917,
          -45.47141983878074,
          -34.192953445944426,
          -39.656701305562336
         ],
         "yaxis": "y"
        },
        {
         "customdata": [
          [
           "Burn Waco",
           2270,
           "death-metal",
           "#b69931"
          ],
          [
           "Killing Inside",
           2299,
           "death-metal",
           "#b69931"
          ]
         ],
         "hovertemplate": "track_name=%{customdata[0]}<br>index=%{customdata[1]}<br>track_genre=%{customdata[2]}<extra></extra>",
         "legendgroup": "",
         "marker": {
          "color": "#b69931",
          "opacity": 0.8,
          "size": 10,
          "symbol": "circle"
         },
         "mode": "markers",
         "name": "",
         "showlegend": false,
         "type": "scattergl",
         "x": [
          -59727.86782829437,
          -24007.868266301695
         ],
         "xaxis": "x",
         "y": [
          -102.91761904027103,
          -107.36132226727626
         ],
         "yaxis": "y"
        },
        {
         "customdata": [
          [
           "Cockroaches",
           2398,
           "death-metal",
           "#df8631"
          ],
          [
           "Christmas All Over Again",
           1819,
           "rock",
           "#df8631"
          ],
          [
           "Christmas All Over Again",
           1821,
           "rock",
           "#df8631"
          ],
          [
           "Christmas All Over Again",
           1822,
           "rock",
           "#df8631"
          ],
          [
           "Christmas All Over Again",
           1824,
           "rock",
           "#df8631"
          ],
          [
           "Christmas All Over Again",
           1826,
           "rock",
           "#df8631"
          ]
         ],
         "hovertemplate": "track_name=%{customdata[0]}<br>index=%{customdata[1]}<br>track_genre=%{customdata[2]}<extra></extra>",
         "legendgroup": "",
         "marker": {
          "color": "#df8631",
          "opacity": 0.8,
          "size": 10,
          "symbol": "circle"
         },
         "mode": "markers",
         "name": "",
         "showlegend": false,
         "type": "scattergl",
         "x": [
          78365.1305124255,
          27670.131161381316,
          27670.131161381316,
          27670.131161381316,
          27670.131161381316,
          27670.131161381316
         ],
         "xaxis": "x",
         "y": [
          -125.12902883668623,
          -118.73702114413064,
          -118.73702114413064,
          -118.73702114413064,
          -118.73702114413064,
          -118.73702114413064
         ],
         "yaxis": "y"
        },
        {
         "customdata": [
          [
           "Light My Fire",
           2449,
           "death-metal",
           "#f66bab"
          ],
          [
           "Forza SGE",
           2594,
           "death-metal",
           "#f66bab"
          ],
          [
           "The Death of Love",
           2600,
           "death-metal",
           "#f66bab"
          ],
          [
           "Forza Sge",
           2683,
           "death-metal",
           "#f66bab"
          ]
         ],
         "hovertemplate": "track_name=%{customdata[0]}<br>index=%{customdata[1]}<br>track_genre=%{customdata[2]}<extra></extra>",
         "legendgroup": "",
         "marker": {
          "color": "#f66bab",
          "opacity": 0.8,
          "size": 10,
          "symbol": "circle"
         },
         "mode": "markers",
         "name": "",
         "showlegend": false,
         "type": "scattergl",
         "x": [
          -67141.86186231865,
          2684.1383731474634,
          201578.13830955367,
          2684.1383731474634
         ],
         "xaxis": "x",
         "y": [
          -18.353995408679836,
          -21.10514049616212,
          -30.549596239043638,
          -21.10514049616212
         ],
         "yaxis": "y"
        },
        {
         "customdata": [
          [
           "The Failsafe",
           2639,
           "death-metal",
           "#cd78f4"
          ],
          [
           "Burn The Witch",
           1786,
           "rock",
           "#cd78f4"
          ],
          [
           "The Devil's Orchard",
           2045,
           "death-metal",
           "#cd78f4"
          ]
         ],
         "hovertemplate": "track_name=%{customdata[0]}<br>index=%{customdata[1]}<br>track_genre=%{customdata[2]}<extra></extra>",
         "legendgroup": "",
         "marker": {
          "color": "#cd78f4",
          "opacity": 0.8,
          "size": 10,
          "symbol": "circle"
         },
         "mode": "markers",
         "name": "",
         "showlegend": false,
         "type": "scattergl",
         "x": [
          89752.13592423865,
          -14914.86386335027,
          167538.13588969182
         ],
         "xaxis": "x",
         "y": [
          -51.85220650090846,
          -44.70589413525393,
          -56.443356814002705
         ],
         "yaxis": "y"
        },
        {
         "customdata": [
          [
           "Green Eyes",
           2725,
           "death-metal",
           "#aa9d31"
          ],
          [
           "When You Were Young",
           1223,
           "rock",
           "#aa9d31"
          ],
          [
           "Holy Wars...The Punishment Due - Remastered",
           1698,
           "rock",
           "#aa9d31"
          ],
          [
           "Holy Wars...The Punishment Due - Remastered",
           1742,
           "rock",
           "#aa9d31"
          ],
          [
           "Blood // Water",
           1925,
           "rock",
           "#aa9d31"
          ],
          [
           "Blood // Water",
           1932,
           "rock",
           "#aa9d31"
          ]
         ],
         "hovertemplate": "track_name=%{customdata[0]}<br>index=%{customdata[1]}<br>track_genre=%{customdata[2]}<extra></extra>",
         "legendgroup": "",
         "marker": {
          "color": "#aa9d31",
          "opacity": 0.8,
          "size": 10,
          "symbol": "circle"
         },
         "mode": "markers",
         "name": "",
         "showlegend": false,
         "type": "scattergl",
         "x": [
          -15767.86819879405,
          -11714.867735396983,
          160472.1316710232,
          160472.13170969975,
          -17607.868139508297,
          -17607.868139508297
         ],
         "xaxis": "x",
         "y": [
          -105.68196210961379,
          -102.77043350894351,
          -116.43169144448126,
          -116.09386541633656,
          -105.21650843685131,
          -105.21650843685131
         ],
         "yaxis": "y"
        },
        {
         "customdata": [
          [
           "Shallow Seasons",
           2977,
           "death-metal",
           "#f566c8"
          ]
         ],
         "hovertemplate": "track_name=%{customdata[0]}<br>index=%{customdata[1]}<br>track_genre=%{customdata[2]}<extra></extra>",
         "legendgroup": "",
         "marker": {
          "color": "#f566c8",
          "opacity": 0.8,
          "size": 10,
          "symbol": "circle"
         },
         "mode": "markers",
         "name": "",
         "showlegend": false,
         "type": "scattergl",
         "x": [
          63632.13783006405
         ],
         "xaxis": "x",
         "y": [
          -30.66918811823095
         ],
         "yaxis": "y"
        },
        {
         "customdata": [
          [
           "Dezesseis / Música Incidental: ''Strawberry Fields Forever''",
           193,
           "mpb",
           "#f569b6"
          ],
          [
           "Trac-Trac",
           839,
           "mpb",
           "#f569b6"
          ],
          [
           "Mistério no Olhar",
           664,
           "mpb",
           "#f569b6"
          ]
         ],
         "hovertemplate": "track_name=%{customdata[0]}<br>index=%{customdata[1]}<br>track_genre=%{customdata[2]}<extra></extra>",
         "legendgroup": "",
         "marker": {
          "color": "#f569b6",
          "opacity": 0.8,
          "size": 10,
          "symbol": "circle"
         },
         "mode": "markers",
         "name": "",
         "showlegend": false,
         "type": "scattergl",
         "x": [
          91712.13827405148,
          -61.861482870415784,
          -6287.861131999438
         ],
         "xaxis": "x",
         "y": [
          -24.94744354049668,
          -19.030207994405657,
          -16.740306891560408
         ],
         "yaxis": "y"
        },
        {
         "customdata": [
          [
           "Black Summer",
           1097,
           "rock",
           "#38a8c6"
          ],
          [
           "I Put A Spell On You",
           1138,
           "rock",
           "#38a8c6"
          ],
          [
           "Behind My Camel - Remastered 2003",
           1291,
           "rock",
           "#38a8c6"
          ],
          [
           "Behind My Camel - Remastered 2003",
           1292,
           "rock",
           "#38a8c6"
          ],
          [
           "Behind My Camel - Remastered 2003",
           1293,
           "rock",
           "#38a8c6"
          ],
          [
           "Behind My Camel - Remastered 2003",
           1297,
           "rock",
           "#38a8c6"
          ],
          [
           "Push",
           1820,
           "rock",
           "#38a8c6"
          ],
          [
           "Stay On These Roads",
           1970,
           "rock",
           "#38a8c6"
          ]
         ],
         "hovertemplate": "track_name=%{customdata[0]}<br>index=%{customdata[1]}<br>track_genre=%{customdata[2]}<extra></extra>",
         "legendgroup": "",
         "marker": {
          "color": "#38a8c6",
          "opacity": 0.8,
          "size": 10,
          "symbol": "circle"
         },
         "mode": "markers",
         "name": "",
         "showlegend": false,
         "type": "scattergl",
         "x": [
          284.1350649615342,
          39658.134995617904,
          -58527.864669240866,
          -58527.86470791744,
          -58527.86470791744,
          -58527.86470791744,
          30885.13442464813,
          54418.134840275336
         ],
         "xaxis": "x",
         "y": [
          -63.540654816770484,
          -66.11781850327415,
          -58.89405700730341,
          -59.231883035448114,
          -59.231883035448114,
          -59.231883035448114,
          -69.06797457837041,
          -68.05094629297437
         ],
         "yaxis": "y"
        },
        {
         "customdata": [
          [
           "Fire - Remastered",
           1122,
           "rock",
           "#62ae31"
          ],
          [
           "Hey Look Ma, I Made It",
           1125,
           "rock",
           "#62ae31"
          ],
          [
           "Família",
           86,
           "mpb",
           "#62ae31"
          ],
          [
           "Black Balloon",
           1816,
           "rock",
           "#62ae31"
          ]
         ],
         "hovertemplate": "track_name=%{customdata[0]}<br>index=%{customdata[1]}<br>track_genre=%{customdata[2]}<extra></extra>",
         "legendgroup": "",
         "marker": {
          "color": "#62ae31",
          "opacity": 0.8,
          "size": 10,
          "symbol": "circle"
         },
         "mode": "markers",
         "name": "",
         "showlegend": false,
         "type": "scattergl",
         "x": [
          -108327.86662570988,
          -62461.86672717263,
          17738.133238797105,
          17405.133121070976
         ],
         "xaxis": "x",
         "y": [
          -84.53014274911463,
          -87.63105848182246,
          -92.66749061935437,
          -92.89618510796988
         ],
         "yaxis": "y"
        },
        {
         "customdata": [
          [
           "Go Your Own Way - 2018 Remaster",
           1139,
           "rock",
           "#8d93f4"
          ],
          [
           "Go Your Own Way - 2018 Remaster",
           1146,
           "rock",
           "#8d93f4"
          ]
         ],
         "hovertemplate": "track_name=%{customdata[0]}<br>index=%{customdata[1]}<br>track_genre=%{customdata[2]}<extra></extra>",
         "legendgroup": "",
         "marker": {
          "color": "#8d93f4",
          "opacity": 0.8,
          "size": 10,
          "symbol": "circle"
         },
         "mode": "markers",
         "name": "",
         "showlegend": false,
         "type": "scattergl",
         "x": [
          -13101.864492791821,
          -13101.864454115246
         ],
         "xaxis": "x",
         "y": [
          -52.92268867692549,
          -52.58486264878079
         ],
         "yaxis": "y"
        },
        {
         "customdata": [
          [
           "All The Small Things",
           1172,
           "rock",
           "#37aab8"
          ],
          [
           "Sugar, We're Goin Down",
           1218,
           "rock",
           "#37aab8"
          ],
          [
           "Sugar, We're Goin Down",
           1220,
           "rock",
           "#37aab8"
          ],
          [
           "All The Small Things",
           1225,
           "rock",
           "#37aab8"
          ]
         ],
         "hovertemplate": "track_name=%{customdata[0]}<br>index=%{customdata[1]}<br>track_genre=%{customdata[2]}<extra></extra>",
         "legendgroup": "",
         "marker": {
          "color": "#37aab8",
          "opacity": 0.8,
          "size": 10,
          "symbol": "circle"
         },
         "mode": "markers",
         "name": "",
         "showlegend": false,
         "type": "scattergl",
         "x": [
          -61061.86546940936,
          -1194.8657776342006,
          -1194.8657776342006,
          -61061.86546940936
         ],
         "xaxis": "x",
         "y": [
          -65.38017817644231,
          -70.46889269613138,
          -70.46889269613138,
          -65.38017817644231
         ],
         "yaxis": "y"
        },
        {
         "customdata": [
          [
           "Adam's Song",
           1180,
           "rock",
           "#33af83"
          ],
          [
           "Christmas (Baby Please Come Home)",
           1436,
           "rock",
           "#33af83"
          ]
         ],
         "hovertemplate": "track_name=%{customdata[0]}<br>index=%{customdata[1]}<br>track_genre=%{customdata[2]}<extra></extra>",
         "legendgroup": "",
         "marker": {
          "color": "#33af83",
          "opacity": 0.8,
          "size": 10,
          "symbol": "circle"
         },
         "mode": "markers",
         "name": "",
         "showlegend": false,
         "type": "scattergl",
         "x": [
          17498.133340161614,
          -44772.86640723841
         ],
         "xaxis": "x",
         "y": [
          -86.17254141760745,
          -81.22231421534114
         ],
         "yaxis": "y"
        },
        {
         "customdata": [
          [
           "Mr. Brightside",
           1227,
           "rock",
           "#f37932"
          ],
          [
           "Mr. Brightside",
           1230,
           "rock",
           "#f37932"
          ],
          [
           "A Great Big Sled",
           1241,
           "rock",
           "#f37932"
          ],
          [
           "A Great Big Sled",
           1242,
           "rock",
           "#f37932"
          ],
          [
           "Clarity",
           1360,
           "rock",
           "#f37932"
          ],
          [
           "Clarity",
           1376,
           "rock",
           "#f37932"
          ],
          [
           "Everybody's Changing",
           1473,
           "rock",
           "#f37932"
          ],
          [
           "Give a Little Bit",
           1830,
           "rock",
           "#f37932"
          ],
          [
           "Courting Baphomet",
           2037,
           "death-metal",
           "#f37932"
          ]
         ],
         "hovertemplate": "track_name=%{customdata[0]}<br>index=%{customdata[1]}<br>track_genre=%{customdata[2]}<extra></extra>",
         "legendgroup": "",
         "marker": {
          "color": "#f37932",
          "opacity": 0.8,
          "size": 10,
          "symbol": "circle"
         },
         "mode": "markers",
         "name": "",
         "showlegend": false,
         "type": "scattergl",
         "x": [
          -8154.86900978841,
          -8154.869048465014,
          30458.131039317115,
          30458.131039317115,
          -4887.868836026639,
          -4887.868836026639,
          -16127.868502091587,
          -17727.868457994307,
          85352.13120247028
         ],
         "xaxis": "x",
         "y": [
          -119.37941187875009,
          -119.7172379068948,
          -121.49583679586142,
          -121.49583679586142,
          -118.73590367841733,
          -118.73590367841733,
          -116.34008407771952,
          -115.88927562701798,
          -123.78990316530951
         ],
         "yaxis": "y"
        },
        {
         "customdata": [
          [
           "Azul",
           1464,
           "rock",
           "#c67cf4"
          ]
         ],
         "hovertemplate": "track_name=%{customdata[0]}<br>index=%{customdata[1]}<br>track_genre=%{customdata[2]}<extra></extra>",
         "legendgroup": "",
         "marker": {
          "color": "#c67cf4",
          "opacity": 0.8,
          "size": 10,
          "symbol": "circle"
         },
         "mode": "markers",
         "name": "",
         "showlegend": false,
         "type": "scattergl",
         "x": [
          -37621.86362015121
         ],
         "xaxis": "x",
         "y": [
          -42.589139314575824
         ],
         "yaxis": "y"
        },
        {
         "customdata": [
          [
           "Zombie",
           1523,
           "rock",
           "#a78af4"
          ],
          [
           "Zombie",
           1525,
           "rock",
           "#a78af4"
          ],
          [
           "Zombie",
           1532,
           "rock",
           "#a78af4"
          ],
          [
           "Zombie",
           1535,
           "rock",
           "#a78af4"
          ],
          [
           "Give A Little Bit",
           1799,
           "rock",
           "#a78af4"
          ]
         ],
         "hovertemplate": "track_name=%{customdata[0]}<br>index=%{customdata[1]}<br>track_genre=%{customdata[2]}<extra></extra>",
         "legendgroup": "",
         "marker": {
          "color": "#a78af4",
          "opacity": 0.8,
          "size": 10,
          "symbol": "circle"
         },
         "mode": "markers",
         "name": "",
         "showlegend": false,
         "type": "scattergl",
         "x": [
          75312.13516578061,
          75312.13516578061,
          75312.13516578061,
          75312.13516578061,
          16045.136097726092
         ],
         "xaxis": "x",
         "y": [
          -58.08771242182609,
          -58.08771242182609,
          -58.08771242182609,
          -58.08771242182609,
          -49.566266830184944
         ],
         "yaxis": "y"
        },
        {
         "customdata": [
          [
           "Surviving the Game",
           1619,
           "rock",
           "#c29531"
          ],
          [
           "Surviving the Game",
           1628,
           "rock",
           "#c29531"
          ],
          [
           "The Devil's Bleeding Crown",
           1892,
           "rock",
           "#c29531"
          ],
          [
           "The Devil's Bleeding Crown",
           1893,
           "rock",
           "#c29531"
          ],
          [
           "The Devil's Bleeding Crown",
           1895,
           "rock",
           "#c29531"
          ],
          [
           "Sorry Sack Of Bones",
           1897,
           "rock",
           "#c29531"
          ]
         ],
         "hovertemplate": "track_name=%{customdata[0]}<br>index=%{customdata[1]}<br>track_genre=%{customdata[2]}<extra></extra>",
         "legendgroup": "",
         "marker": {
          "color": "#c29531",
          "opacity": 0.8,
          "size": 10,
          "symbol": "circle"
         },
         "mode": "markers",
         "name": "",
         "showlegend": false,
         "type": "scattergl",
         "x": [
          6742.131893628102,
          6742.131893628102,
          6525.131833520281,
          6525.131833520281,
          6525.131833520281,
          -3461.8687329398526
         ],
         "xaxis": "x",
         "y": [
          -110.07531252803399,
          -110.07531252803399,
          -110.34183121143987,
          -110.34183121143987,
          -110.34183121143987,
          -112.84195262133107
         ],
         "yaxis": "y"
        },
        {
         "customdata": [
          [
           "Baby Jane",
           1672,
           "rock",
           "#35aca7"
          ]
         ],
         "hovertemplate": "track_name=%{customdata[0]}<br>index=%{customdata[1]}<br>track_genre=%{customdata[2]}<extra></extra>",
         "legendgroup": "",
         "marker": {
          "color": "#35aca7",
          "opacity": 0.8,
          "size": 10,
          "symbol": "circle"
         },
         "mode": "markers",
         "name": "",
         "showlegend": false,
         "type": "scattergl",
         "x": [
          51365.13399575732
         ],
         "xaxis": "x",
         "y": [
          -78.55772519621532
         ],
         "yaxis": "y"
        },
        {
         "customdata": [
          [
           "Stranded",
           2027,
           "death-metal",
           "#c69331"
          ]
         ],
         "hovertemplate": "track_name=%{customdata[0]}<br>index=%{customdata[1]}<br>track_genre=%{customdata[2]}<extra></extra>",
         "legendgroup": "",
         "marker": {
          "color": "#c69331",
          "opacity": 0.8,
          "size": 10,
          "symbol": "circle"
         },
         "mode": "markers",
         "name": "",
         "showlegend": false,
         "type": "scattergl",
         "x": [
          37405.13185726694
         ],
         "xaxis": "x",
         "y": [
          -112.64057192678212
         ],
         "yaxis": "y"
        }
       ],
       "layout": {
        "legend": {
         "tracegroupgap": 0
        },
        "margin": {
         "t": 60
        },
        "showlegend": false,
        "template": {
         "data": {
          "bar": [
           {
            "error_x": {
             "color": "#2a3f5f"
            },
            "error_y": {
             "color": "#2a3f5f"
            },
            "marker": {
             "line": {
              "color": "#E5ECF6",
              "width": 0.5
             },
             "pattern": {
              "fillmode": "overlay",
              "size": 10,
              "solidity": 0.2
             }
            },
            "type": "bar"
           }
          ],
          "barpolar": [
           {
            "marker": {
             "line": {
              "color": "#E5ECF6",
              "width": 0.5
             },
             "pattern": {
              "fillmode": "overlay",
              "size": 10,
              "solidity": 0.2
             }
            },
            "type": "barpolar"
           }
          ],
          "carpet": [
           {
            "aaxis": {
             "endlinecolor": "#2a3f5f",
             "gridcolor": "white",
             "linecolor": "white",
             "minorgridcolor": "white",
             "startlinecolor": "#2a3f5f"
            },
            "baxis": {
             "endlinecolor": "#2a3f5f",
             "gridcolor": "white",
             "linecolor": "white",
             "minorgridcolor": "white",
             "startlinecolor": "#2a3f5f"
            },
            "type": "carpet"
           }
          ],
          "choropleth": [
           {
            "colorbar": {
             "outlinewidth": 0,
             "ticks": ""
            },
            "type": "choropleth"
           }
          ],
          "contour": [
           {
            "colorbar": {
             "outlinewidth": 0,
             "ticks": ""
            },
            "colorscale": [
             [
              0,
              "#0d0887"
             ],
             [
              0.1111111111111111,
              "#46039f"
             ],
             [
              0.2222222222222222,
              "#7201a8"
             ],
             [
              0.3333333333333333,
              "#9c179e"
             ],
             [
              0.4444444444444444,
              "#bd3786"
             ],
             [
              0.5555555555555556,
              "#d8576b"
             ],
             [
              0.6666666666666666,
              "#ed7953"
             ],
             [
              0.7777777777777778,
              "#fb9f3a"
             ],
             [
              0.8888888888888888,
              "#fdca26"
             ],
             [
              1,
              "#f0f921"
             ]
            ],
            "type": "contour"
           }
          ],
          "contourcarpet": [
           {
            "colorbar": {
             "outlinewidth": 0,
             "ticks": ""
            },
            "type": "contourcarpet"
           }
          ],
          "heatmap": [
           {
            "colorbar": {
             "outlinewidth": 0,
             "ticks": ""
            },
            "colorscale": [
             [
              0,
              "#0d0887"
             ],
             [
              0.1111111111111111,
              "#46039f"
             ],
             [
              0.2222222222222222,
              "#7201a8"
             ],
             [
              0.3333333333333333,
              "#9c179e"
             ],
             [
              0.4444444444444444,
              "#bd3786"
             ],
             [
              0.5555555555555556,
              "#d8576b"
             ],
             [
              0.6666666666666666,
              "#ed7953"
             ],
             [
              0.7777777777777778,
              "#fb9f3a"
             ],
             [
              0.8888888888888888,
              "#fdca26"
             ],
             [
              1,
              "#f0f921"
             ]
            ],
            "type": "heatmap"
           }
          ],
          "heatmapgl": [
           {
            "colorbar": {
             "outlinewidth": 0,
             "ticks": ""
            },
            "colorscale": [
             [
              0,
              "#0d0887"
             ],
             [
              0.1111111111111111,
              "#46039f"
             ],
             [
              0.2222222222222222,
              "#7201a8"
             ],
             [
              0.3333333333333333,
              "#9c179e"
             ],
             [
              0.4444444444444444,
              "#bd3786"
             ],
             [
              0.5555555555555556,
              "#d8576b"
             ],
             [
              0.6666666666666666,
              "#ed7953"
             ],
             [
              0.7777777777777778,
              "#fb9f3a"
             ],
             [
              0.8888888888888888,
              "#fdca26"
             ],
             [
              1,
              "#f0f921"
             ]
            ],
            "type": "heatmapgl"
           }
          ],
          "histogram": [
           {
            "marker": {
             "pattern": {
              "fillmode": "overlay",
              "size": 10,
              "solidity": 0.2
             }
            },
            "type": "histogram"
           }
          ],
          "histogram2d": [
           {
            "colorbar": {
             "outlinewidth": 0,
             "ticks": ""
            },
            "colorscale": [
             [
              0,
              "#0d0887"
             ],
             [
              0.1111111111111111,
              "#46039f"
             ],
             [
              0.2222222222222222,
              "#7201a8"
             ],
             [
              0.3333333333333333,
              "#9c179e"
             ],
             [
              0.4444444444444444,
              "#bd3786"
             ],
             [
              0.5555555555555556,
              "#d8576b"
             ],
             [
              0.6666666666666666,
              "#ed7953"
             ],
             [
              0.7777777777777778,
              "#fb9f3a"
             ],
             [
              0.8888888888888888,
              "#fdca26"
             ],
             [
              1,
              "#f0f921"
             ]
            ],
            "type": "histogram2d"
           }
          ],
          "histogram2dcontour": [
           {
            "colorbar": {
             "outlinewidth": 0,
             "ticks": ""
            },
            "colorscale": [
             [
              0,
              "#0d0887"
             ],
             [
              0.1111111111111111,
              "#46039f"
             ],
             [
              0.2222222222222222,
              "#7201a8"
             ],
             [
              0.3333333333333333,
              "#9c179e"
             ],
             [
              0.4444444444444444,
              "#bd3786"
             ],
             [
              0.5555555555555556,
              "#d8576b"
             ],
             [
              0.6666666666666666,
              "#ed7953"
             ],
             [
              0.7777777777777778,
              "#fb9f3a"
             ],
             [
              0.8888888888888888,
              "#fdca26"
             ],
             [
              1,
              "#f0f921"
             ]
            ],
            "type": "histogram2dcontour"
           }
          ],
          "mesh3d": [
           {
            "colorbar": {
             "outlinewidth": 0,
             "ticks": ""
            },
            "type": "mesh3d"
           }
          ],
          "parcoords": [
           {
            "line": {
             "colorbar": {
              "outlinewidth": 0,
              "ticks": ""
             }
            },
            "type": "parcoords"
           }
          ],
          "pie": [
           {
            "automargin": true,
            "type": "pie"
           }
          ],
          "scatter": [
           {
            "fillpattern": {
             "fillmode": "overlay",
             "size": 10,
             "solidity": 0.2
            },
            "type": "scatter"
           }
          ],
          "scatter3d": [
           {
            "line": {
             "colorbar": {
              "outlinewidth": 0,
              "ticks": ""
             }
            },
            "marker": {
             "colorbar": {
              "outlinewidth": 0,
              "ticks": ""
             }
            },
            "type": "scatter3d"
           }
          ],
          "scattercarpet": [
           {
            "marker": {
             "colorbar": {
              "outlinewidth": 0,
              "ticks": ""
             }
            },
            "type": "scattercarpet"
           }
          ],
          "scattergeo": [
           {
            "marker": {
             "colorbar": {
              "outlinewidth": 0,
              "ticks": ""
             }
            },
            "type": "scattergeo"
           }
          ],
          "scattergl": [
           {
            "marker": {
             "colorbar": {
              "outlinewidth": 0,
              "ticks": ""
             }
            },
            "type": "scattergl"
           }
          ],
          "scattermapbox": [
           {
            "marker": {
             "colorbar": {
              "outlinewidth": 0,
              "ticks": ""
             }
            },
            "type": "scattermapbox"
           }
          ],
          "scatterpolar": [
           {
            "marker": {
             "colorbar": {
              "outlinewidth": 0,
              "ticks": ""
             }
            },
            "type": "scatterpolar"
           }
          ],
          "scatterpolargl": [
           {
            "marker": {
             "colorbar": {
              "outlinewidth": 0,
              "ticks": ""
             }
            },
            "type": "scatterpolargl"
           }
          ],
          "scatterternary": [
           {
            "marker": {
             "colorbar": {
              "outlinewidth": 0,
              "ticks": ""
             }
            },
            "type": "scatterternary"
           }
          ],
          "surface": [
           {
            "colorbar": {
             "outlinewidth": 0,
             "ticks": ""
            },
            "colorscale": [
             [
              0,
              "#0d0887"
             ],
             [
              0.1111111111111111,
              "#46039f"
             ],
             [
              0.2222222222222222,
              "#7201a8"
             ],
             [
              0.3333333333333333,
              "#9c179e"
             ],
             [
              0.4444444444444444,
              "#bd3786"
             ],
             [
              0.5555555555555556,
              "#d8576b"
             ],
             [
              0.6666666666666666,
              "#ed7953"
             ],
             [
              0.7777777777777778,
              "#fb9f3a"
             ],
             [
              0.8888888888888888,
              "#fdca26"
             ],
             [
              1,
              "#f0f921"
             ]
            ],
            "type": "surface"
           }
          ],
          "table": [
           {
            "cells": {
             "fill": {
              "color": "#EBF0F8"
             },
             "line": {
              "color": "white"
             }
            },
            "header": {
             "fill": {
              "color": "#C8D4E3"
             },
             "line": {
              "color": "white"
             }
            },
            "type": "table"
           }
          ]
         },
         "layout": {
          "annotationdefaults": {
           "arrowcolor": "#2a3f5f",
           "arrowhead": 0,
           "arrowwidth": 1
          },
          "autotypenumbers": "strict",
          "coloraxis": {
           "colorbar": {
            "outlinewidth": 0,
            "ticks": ""
           }
          },
          "colorscale": {
           "diverging": [
            [
             0,
             "#8e0152"
            ],
            [
             0.1,
             "#c51b7d"
            ],
            [
             0.2,
             "#de77ae"
            ],
            [
             0.3,
             "#f1b6da"
            ],
            [
             0.4,
             "#fde0ef"
            ],
            [
             0.5,
             "#f7f7f7"
            ],
            [
             0.6,
             "#e6f5d0"
            ],
            [
             0.7,
             "#b8e186"
            ],
            [
             0.8,
             "#7fbc41"
            ],
            [
             0.9,
             "#4d9221"
            ],
            [
             1,
             "#276419"
            ]
           ],
           "sequential": [
            [
             0,
             "#0d0887"
            ],
            [
             0.1111111111111111,
             "#46039f"
            ],
            [
             0.2222222222222222,
             "#7201a8"
            ],
            [
             0.3333333333333333,
             "#9c179e"
            ],
            [
             0.4444444444444444,
             "#bd3786"
            ],
            [
             0.5555555555555556,
             "#d8576b"
            ],
            [
             0.6666666666666666,
             "#ed7953"
            ],
            [
             0.7777777777777778,
             "#fb9f3a"
            ],
            [
             0.8888888888888888,
             "#fdca26"
            ],
            [
             1,
             "#f0f921"
            ]
           ],
           "sequentialminus": [
            [
             0,
             "#0d0887"
            ],
            [
             0.1111111111111111,
             "#46039f"
            ],
            [
             0.2222222222222222,
             "#7201a8"
            ],
            [
             0.3333333333333333,
             "#9c179e"
            ],
            [
             0.4444444444444444,
             "#bd3786"
            ],
            [
             0.5555555555555556,
             "#d8576b"
            ],
            [
             0.6666666666666666,
             "#ed7953"
            ],
            [
             0.7777777777777778,
             "#fb9f3a"
            ],
            [
             0.8888888888888888,
             "#fdca26"
            ],
            [
             1,
             "#f0f921"
            ]
           ]
          },
          "colorway": [
           "#636efa",
           "#EF553B",
           "#00cc96",
           "#ab63fa",
           "#FFA15A",
           "#19d3f3",
           "#FF6692",
           "#B6E880",
           "#FF97FF",
           "#FECB52"
          ],
          "font": {
           "color": "#2a3f5f"
          },
          "geo": {
           "bgcolor": "white",
           "lakecolor": "white",
           "landcolor": "#E5ECF6",
           "showlakes": true,
           "showland": true,
           "subunitcolor": "white"
          },
          "hoverlabel": {
           "align": "left"
          },
          "hovermode": "closest",
          "mapbox": {
           "style": "light"
          },
          "paper_bgcolor": "white",
          "plot_bgcolor": "#E5ECF6",
          "polar": {
           "angularaxis": {
            "gridcolor": "white",
            "linecolor": "white",
            "ticks": ""
           },
           "bgcolor": "#E5ECF6",
           "radialaxis": {
            "gridcolor": "white",
            "linecolor": "white",
            "ticks": ""
           }
          },
          "scene": {
           "xaxis": {
            "backgroundcolor": "#E5ECF6",
            "gridcolor": "white",
            "gridwidth": 2,
            "linecolor": "white",
            "showbackground": true,
            "ticks": "",
            "zerolinecolor": "white"
           },
           "yaxis": {
            "backgroundcolor": "#E5ECF6",
            "gridcolor": "white",
            "gridwidth": 2,
            "linecolor": "white",
            "showbackground": true,
            "ticks": "",
            "zerolinecolor": "white"
           },
           "zaxis": {
            "backgroundcolor": "#E5ECF6",
            "gridcolor": "white",
            "gridwidth": 2,
            "linecolor": "white",
            "showbackground": true,
            "ticks": "",
            "zerolinecolor": "white"
           }
          },
          "shapedefaults": {
           "line": {
            "color": "#2a3f5f"
           }
          },
          "ternary": {
           "aaxis": {
            "gridcolor": "white",
            "linecolor": "white",
            "ticks": ""
           },
           "baxis": {
            "gridcolor": "white",
            "linecolor": "white",
            "ticks": ""
           },
           "bgcolor": "#E5ECF6",
           "caxis": {
            "gridcolor": "white",
            "linecolor": "white",
            "ticks": ""
           }
          },
          "title": {
           "x": 0.05
          },
          "xaxis": {
           "automargin": true,
           "gridcolor": "white",
           "linecolor": "white",
           "ticks": "",
           "title": {
            "standoff": 15
           },
           "zerolinecolor": "white",
           "zerolinewidth": 2
          },
          "yaxis": {
           "automargin": true,
           "gridcolor": "white",
           "linecolor": "white",
           "ticks": "",
           "title": {
            "standoff": 15
           },
           "zerolinecolor": "white",
           "zerolinewidth": 2
          }
         }
        },
        "title": {
         "text": "PCA Plot for death-metal with Recommendations"
        },
        "xaxis": {
         "anchor": "y",
         "domain": [
          0,
          1
         ],
         "title": {
          "text": "PC1"
         }
        },
        "yaxis": {
         "anchor": "x",
         "domain": [
          0,
          1
         ],
         "title": {
          "text": "PC2"
         }
        }
       }
      }
     },
     "metadata": {},
     "output_type": "display_data"
    },
    {
     "data": {
      "application/vnd.plotly.v1+json": {
       "config": {
        "plotlyServerURL": "https://plot.ly"
       },
       "data": [
        {
         "customdata": [
          [
           "Acenda o farol",
           11,
           "mpb",
           "#35aca4"
          ]
         ],
         "hovertemplate": "track_name=%{customdata[0]}<br>index=%{customdata[1]}<br>track_genre=%{customdata[2]}<extra></extra>",
         "legendgroup": "",
         "marker": {
          "color": "#35aca4",
          "opacity": 0.8,
          "size": 10,
          "symbol": "circle"
         },
         "mode": "markers",
         "name": "",
         "showlegend": false,
         "type": "scattergl",
         "x": [
          -40101.865820187144
         ],
         "xaxis": "x",
         "y": [
          -72.83271098677983
         ],
         "yaxis": "y"
        },
        {
         "customdata": [
          [
           "Se eu lembro faz doer",
           14,
           "mpb",
           "#33af83"
          ],
          [
           "Construção",
           40,
           "mpb",
           "#33af83"
          ],
          [
           "If I Lose Myself - Alesso vs OneRepublic",
           1045,
           "rock",
           "#33af83"
          ],
          [
           "Adam's Song",
           1180,
           "rock",
           "#33af83"
          ],
          [
           "Merry Xmas Everybody - For Nest Audio Sessions",
           1283,
           "rock",
           "#33af83"
          ],
          [
           "Livin' On A Prayer",
           1287,
           "rock",
           "#33af83"
          ],
          [
           "You Give Love A Bad Name",
           1288,
           "rock",
           "#33af83"
          ],
          [
           "Bad Medicine",
           1289,
           "rock",
           "#33af83"
          ],
          [
           "Livin' On A Prayer",
           1290,
           "rock",
           "#33af83"
          ],
          [
           "Livin' On A Prayer",
           1295,
           "rock",
           "#33af83"
          ],
          [
           "You Give Love A Bad Name",
           1296,
           "rock",
           "#33af83"
          ],
          [
           "Summer Of '69",
           1325,
           "rock",
           "#33af83"
          ],
          [
           "Summer Of '69",
           1326,
           "rock",
           "#33af83"
          ],
          [
           "Summer Of '69",
           1329,
           "rock",
           "#33af83"
          ],
          [
           "Summer Of '69",
           1334,
           "rock",
           "#33af83"
          ],
          [
           "(Everything I Do) I Do It For You",
           1371,
           "rock",
           "#33af83"
          ],
          [
           "Hell Or High Water",
           1379,
           "rock",
           "#33af83"
          ],
          [
           "Summer Of '69",
           1386,
           "rock",
           "#33af83"
          ],
          [
           "Bigmouth Strikes Again",
           1397,
           "rock",
           "#33af83"
          ],
          [
           "O Come All Ye Faithful",
           1425,
           "rock",
           "#33af83"
          ],
          [
           "Christmas (Baby Please Come Home)",
           1436,
           "rock",
           "#33af83"
          ],
          [
           "I Love My Country",
           1437,
           "rock",
           "#33af83"
          ],
          [
           "O Come All Ye Faithful",
           1439,
           "rock",
           "#33af83"
          ],
          [
           "O Come All Ye Faithful",
           1444,
           "rock",
           "#33af83"
          ],
          [
           "Hoy Tengo Ganas De Ti",
           1448,
           "rock",
           "#33af83"
          ],
          [
           "Life On Mars? - Live At A Bowie Celebration 2021",
           1466,
           "rock",
           "#33af83"
          ],
          [
           "Good Vibrations - Remastered 2001",
           1526,
           "rock",
           "#33af83"
          ],
          [
           "Santa Claus Is Comin' To Town - 1991 Remix",
           1548,
           "rock",
           "#33af83"
          ],
          [
           "Little Saint Nick",
           1551,
           "rock",
           "#33af83"
          ],
          [
           "Wouldn't It Be Nice - Stereo / Remastered 2012",
           1555,
           "rock",
           "#33af83"
          ],
          [
           "God Only Knows - Mono / 1997 Remastered",
           1560,
           "rock",
           "#33af83"
          ],
          [
           "God Only Knows - Mono / 1997 Remastered",
           1561,
           "rock",
           "#33af83"
          ],
          [
           "God Only Knows - Mono / 1997 Remastered",
           1574,
           "rock",
           "#33af83"
          ],
          [
           "God Only Knows - Mono / 1997 Remastered",
           1587,
           "rock",
           "#33af83"
          ],
          [
           "God Only Knows - Mono / 1997 Remastered",
           1594,
           "rock",
           "#33af83"
          ],
          [
           "God Only Knows - Mono / 1997 Remastered",
           1595,
           "rock",
           "#33af83"
          ],
          [
           "God Only Knows - Mono / 1997 Remastered",
           1622,
           "rock",
           "#33af83"
          ],
          [
           "God Only Knows - Mono / 1997 Remastered",
           1636,
           "rock",
           "#33af83"
          ],
          [
           "God Only Knows - Mono / 1997 Remastered",
           1639,
           "rock",
           "#33af83"
          ],
          [
           "God Only Knows - Mono / 1997 Remastered",
           1640,
           "rock",
           "#33af83"
          ],
          [
           "God Only Knows - Mono / 1997 Remastered",
           1647,
           "rock",
           "#33af83"
          ],
          [
           "God Only Knows - Mono / 1997 Remastered",
           1648,
           "rock",
           "#33af83"
          ],
          [
           "93 Million Miles",
           1670,
           "rock",
           "#33af83"
          ],
          [
           "You Wear It Well",
           1688,
           "rock",
           "#33af83"
          ],
          [
           "Infinity - PRETTY YOUNG Remix",
           1723,
           "rock",
           "#33af83"
          ],
          [
           "Infinity - PRETTY YOUNG Remix",
           1725,
           "rock",
           "#33af83"
          ],
          [
           "Infinity - PRETTY YOUNG Remix",
           1726,
           "rock",
           "#33af83"
          ],
          [
           "lovin'",
           1731,
           "rock",
           "#33af83"
          ],
          [
           "Angels From The Realms of Glory",
           1833,
           "rock",
           "#33af83"
          ],
          [
           "Angels From The Realms of Glory",
           1838,
           "rock",
           "#33af83"
          ],
          [
           "Angels From The Realms of Glory",
           1840,
           "rock",
           "#33af83"
          ],
          [
           "Angels From The Realms of Glory",
           1842,
           "rock",
           "#33af83"
          ],
          [
           "Angels From The Realms of Glory",
           1843,
           "rock",
           "#33af83"
          ],
          [
           "Mr. Jones",
           1868,
           "rock",
           "#33af83"
          ],
          [
           "Mr. Jones",
           1880,
           "rock",
           "#33af83"
          ],
          [
           "Mr. Jones",
           1883,
           "rock",
           "#33af83"
          ],
          [
           "Mr. Jones",
           1887,
           "rock",
           "#33af83"
          ],
          [
           "Mr. Jones",
           1890,
           "rock",
           "#33af83"
          ],
          [
           "Mr. Jones",
           1898,
           "rock",
           "#33af83"
          ],
          [
           "Dígale",
           1929,
           "rock",
           "#33af83"
          ],
          [
           "Reelin' In The Years",
           1945,
           "rock",
           "#33af83"
          ],
          [
           "Reelin' In The Years",
           1946,
           "rock",
           "#33af83"
          ],
          [
           "Good Time",
           1966,
           "rock",
           "#33af83"
          ],
          [
           "The Dying Light - Winter Edit",
           1986,
           "rock",
           "#33af83"
          ],
          [
           "Christmas All Over Again",
           1987,
           "rock",
           "#33af83"
          ],
          [
           "American Girl",
           1988,
           "rock",
           "#33af83"
          ],
          [
           "Christmas All Over Again",
           1990,
           "rock",
           "#33af83"
          ],
          [
           "Christmas All Over Again",
           1991,
           "rock",
           "#33af83"
          ],
          [
           "Christmas All Over Again",
           1992,
           "rock",
           "#33af83"
          ],
          [
           "Christmas All Over Again",
           1993,
           "rock",
           "#33af83"
          ],
          [
           "Christmas All Over Again",
           1994,
           "rock",
           "#33af83"
          ],
          [
           "Christmas All Over Again",
           1995,
           "rock",
           "#33af83"
          ],
          [
           "Christmas All Over Again",
           1996,
           "rock",
           "#33af83"
          ],
          [
           "Christmas All Over Again",
           1997,
           "rock",
           "#33af83"
          ],
          [
           "Christmas All Over Again",
           1998,
           "rock",
           "#33af83"
          ],
          [
           "Christmas All Over Again",
           1999,
           "rock",
           "#33af83"
          ]
         ],
         "hovertemplate": "track_name=%{customdata[0]}<br>index=%{customdata[1]}<br>track_genre=%{customdata[2]}<extra></extra>",
         "legendgroup": "",
         "marker": {
          "color": "#33af83",
          "opacity": 0.8,
          "size": 10,
          "symbol": "circle"
         },
         "mode": "markers",
         "name": "",
         "showlegend": false,
         "type": "scattergl",
         "x": [
          -1421.866595448344,
          151498.13304698712,
          -16647.86646819851,
          17498.133340161614,
          -38301.86638351146,
          18498.133508703613,
          -8981.866416136356,
          84392.13334632089,
          18498.13347002701,
          18498.13354738019,
          -8981.866338783177,
          -14634.866599214409,
          -14634.866599214409,
          -14634.866599214409,
          -14634.866560537834,
          162005.1330497443,
          -25061.86633143344,
          -14634.866599214409,
          -38807.866414017335,
          -107474.86615420549,
          -44772.86640723841,
          -46661.8665241994,
          -107474.86619288208,
          -107474.86619288208,
          59125.133341008564,
          -920.8664039720898,
          -13394.866522640019,
          -90587.86633216505,
          -111901.86627187283,
          -77661.86629643384,
          -59087.86627494451,
          -59087.86627494451,
          -59087.86627494451,
          -59087.86627494451,
          -59087.86627494451,
          -59087.86627494451,
          -59087.8660815616,
          -59087.86627494451,
          -59087.86627494451,
          -59087.86627494451,
          -59087.86627494451,
          -59087.86627494451,
          -15741.866616941756,
          29632.133385003253,
          -21627.8664373238,
          -21627.8664373238,
          -21627.8664373238,
          -76221.86625399985,
          8018.133460059733,
          8018.133460059733,
          8018.133460059733,
          8018.133460059733,
          8018.133460059733,
          40605.133221198514,
          40605.133221198514,
          40605.133221198514,
          40605.133221198514,
          40605.13325987512,
          40605.13325987512,
          33098.133350261545,
          43338.13326625677,
          43338.13326625677,
          -26480.86644366721,
          -16634.866515146627,
          21498.133284773445,
          -17394.86635847864,
          21498.133284773445,
          21498.133284773445,
          21498.133284773445,
          21498.133284773445,
          21498.133284773445,
          21498.133284773445,
          21498.133284773445,
          21498.133284773445,
          21498.133284773445,
          21498.133284773445
         ],
         "xaxis": "x",
         "y": [
          -84.60678218805242,
          -95.49178857200992,
          -83.18970338074337,
          -86.17254141760745,
          -81.37509969923971,
          -85.23863047712226,
          -83.2540294835084,
          -89.8785266820187,
          -85.57645650526696,
          -84.90080444897755,
          -82.57837742721901,
          -83.98924129230322,
          -83.98924129230322,
          -83.98924129230322,
          -83.65141526415852,
          -95.73120807378957,
          -81.74378044960547,
          -83.98924129230322,
          -81.32843505323336,
          -75.97489033481109,
          -81.22231421534114,
          -81.723825704526,
          -76.3127163629558,
          -76.3127163629558,
          -88.5470908231042,
          -83.47698604578554,
          -83.42966230168626,
          -78.01724113908004,
          -76.43718146205951,
          -78.67170131469106,
          -79.58003870760362,
          -79.58003870760362,
          -79.58003870760362,
          -79.58003870760362,
          -79.58003870760362,
          -79.58003870760362,
          -77.89090856688011,
          -79.58003870760362,
          -79.58003870760362,
          -79.58003870760362,
          -79.58003870760362,
          -79.58003870760362,
          -83.90548240790098,
          -86.59667224887167,
          -82.56437580759653,
          -82.56437580759653,
          -82.56437580759653,
          -78.39419284026401,
          -84.92286003412988,
          -84.92286003412988,
          -84.92286003412988,
          -84.92286003412988,
          -84.92286003412988,
          -88.15371875167479,
          -88.15371875167479,
          -88.15371875167479,
          -88.15371875167479,
          -87.81589272353008,
          -87.81589272353008,
          -86.98733574987158,
          -87.97831841717061,
          -87.97831841717061,
          -82.46964522413018,
          -83.33027382806407,
          -86.6158315336625,
          -82.50903277572077,
          -86.6158315336625,
          -86.6158315336625,
          -86.6158315336625,
          -86.6158315336625,
          -86.6158315336625,
          -86.6158315336625,
          -86.6158315336625,
          -86.6158315336625,
          -86.6158315336625,
          -86.6158315336625
         ],
         "yaxis": "y"
        },
        {
         "customdata": [
          [
           "Triste",
           17,
           "mpb",
           "#38a8c6"
          ],
          [
           "Cegos do castelo",
           45,
           "mpb",
           "#38a8c6"
          ],
          [
           "Eu quero ir pra rua",
           495,
           "mpb",
           "#38a8c6"
          ],
          [
           "My Friends",
           1095,
           "rock",
           "#38a8c6"
          ],
          [
           "Black Summer",
           1097,
           "rock",
           "#38a8c6"
          ],
          [
           "Black Summer",
           1123,
           "rock",
           "#38a8c6"
          ],
          [
           "Landslide - 2018 Remaster",
           1127,
           "rock",
           "#38a8c6"
          ],
          [
           "Black Summer",
           1131,
           "rock",
           "#38a8c6"
          ],
          [
           "Black Summer",
           1136,
           "rock",
           "#38a8c6"
          ],
          [
           "I Put A Spell On You",
           1138,
           "rock",
           "#38a8c6"
          ],
          [
           "I Put A Spell On You",
           1143,
           "rock",
           "#38a8c6"
          ],
          [
           "I Put A Spell On You",
           1144,
           "rock",
           "#38a8c6"
          ],
          [
           "Beast Of Burden - Remastered 1994",
           1197,
           "rock",
           "#38a8c6"
          ],
          [
           "As Tears Go By - Mono Version",
           1247,
           "rock",
           "#38a8c6"
          ],
          [
           "Behind My Camel - Remastered 2003",
           1291,
           "rock",
           "#38a8c6"
          ],
          [
           "Behind My Camel - Remastered 2003",
           1292,
           "rock",
           "#38a8c6"
          ],
          [
           "Behind My Camel - Remastered 2003",
           1293,
           "rock",
           "#38a8c6"
          ],
          [
           "Behind My Camel - Remastered 2003",
           1297,
           "rock",
           "#38a8c6"
          ],
          [
           "Night Fever - From \"Saturday Night Fever\" Soundtrack",
           1344,
           "rock",
           "#38a8c6"
          ],
          [
           "Night Fever - From \"Saturday Night Fever\" Soundtrack",
           1347,
           "rock",
           "#38a8c6"
          ],
          [
           "Night Fever - From \"Saturday Night Fever\" Soundtrack",
           1349,
           "rock",
           "#38a8c6"
          ],
          [
           "Let's Make A Night To Remember",
           1377,
           "rock",
           "#38a8c6"
          ],
          [
           "Island In The Sun",
           1423,
           "rock",
           "#38a8c6"
          ],
          [
           "SKR",
           1468,
           "rock",
           "#38a8c6"
          ],
          [
           "Labios Rotos - En Vivo",
           1471,
           "rock",
           "#38a8c6"
          ],
          [
           "Lamento Boliviano",
           1478,
           "rock",
           "#38a8c6"
          ],
          [
           "Christmastime",
           1539,
           "rock",
           "#38a8c6"
          ],
          [
           "Christmastime",
           1540,
           "rock",
           "#38a8c6"
          ],
          [
           "Sailing",
           1673,
           "rock",
           "#38a8c6"
          ],
          [
           "Flaca",
           1774,
           "rock",
           "#38a8c6"
          ],
          [
           "Push",
           1820,
           "rock",
           "#38a8c6"
          ],
          [
           "A Long December",
           1874,
           "rock",
           "#38a8c6"
          ],
          [
           "A Long December",
           1875,
           "rock",
           "#38a8c6"
          ],
          [
           "A Long December",
           1876,
           "rock",
           "#38a8c6"
          ],
          [
           "A Long December",
           1884,
           "rock",
           "#38a8c6"
          ],
          [
           "A Long December",
           1888,
           "rock",
           "#38a8c6"
          ],
          [
           "burning gold - Addal Remix",
           1926,
           "rock",
           "#38a8c6"
          ],
          [
           "(Because) It's Christmastime",
           1931,
           "rock",
           "#38a8c6"
          ],
          [
           "(Because) It's Christmastime",
           1937,
           "rock",
           "#38a8c6"
          ],
          [
           "Stay On These Roads",
           1970,
           "rock",
           "#38a8c6"
          ]
         ],
         "hovertemplate": "track_name=%{customdata[0]}<br>index=%{customdata[1]}<br>track_genre=%{customdata[2]}<extra></extra>",
         "legendgroup": "",
         "marker": {
          "color": "#38a8c6",
          "opacity": 0.8,
          "size": 10,
          "symbol": "circle"
         },
         "mode": "markers",
         "name": "",
         "showlegend": false,
         "type": "scattergl",
         "x": [
          -50527.86519029105,
          26137.134394308523,
          -1567.865691252111,
          16512.134548599453,
          284.1350649615342,
          284.134987608355,
          -31714.865505876456,
          284.13494893177995,
          284.13494893177995,
          39658.134995617904,
          38232.134867449815,
          39658.13487958815,
          33045.13490502606,
          -66914.86479596634,
          -58527.864669240866,
          -58527.86470791744,
          -58527.86470791744,
          -58527.86470791744,
          -19327.86495586479,
          -19327.865033217968,
          -19327.864994541364,
          146778.1338585252,
          -32074.865016080963,
          85872.13481115573,
          12738.13486046539,
          -9901.865204323229,
          -35404.864686136076,
          -35404.864686136076,
          45832.13465177105,
          -5269.865044038073,
          30885.13442464813,
          65165.13441021554,
          65165.13441021554,
          65165.13441021554,
          65165.13448756869,
          65165.13441021554,
          60590.13465216389,
          -32101.864925600385,
          -32101.864925600385,
          54418.134840275336
         ],
         "xaxis": "x",
         "y": [
          -61.999109744017666,
          -68.97547745876881,
          -67.79402357411047,
          -67.02194146311331,
          -63.540654816770484,
          -64.21630687305989,
          -64.89915674475228,
          -64.5541329012046,
          -64.5541329012046,
          -66.11781850327415,
          -67.13252961005551,
          -67.13129658770826,
          -66.70887388967463,
          -58.60682833466197,
          -58.89405700730341,
          -59.231883035448114,
          -59.231883035448114,
          -59.231883035448114,
          -62.60663167454019,
          -63.28228373082959,
          -62.94445770268489,
          -78.87850976841085,
          -62.30781899213457,
          -70.1485641891233,
          -65.62573762899194,
          -64.71877880565145,
          -60.482078587609536,
          -60.482078587609536,
          -68.35707435556168,
          -64.05405066812689,
          -69.06797457837041,
          -71.15502323887739,
          -71.15502323887739,
          -71.15502323887739,
          -70.47937118258798,
          -71.15502323887739,
          -69.57942437072835,
          -61.905759864026784,
          -61.905759864026784,
          -68.05094629297437
         ],
         "yaxis": "y"
        },
        {
         "customdata": [
          [
           "Vê se decide",
           28,
           "mpb",
           "#35aca7"
          ],
          [
           "Believer",
           1029,
           "rock",
           "#35aca7"
          ],
          [
           "West Coast",
           1058,
           "rock",
           "#35aca7"
          ],
          [
           "West Coast",
           1062,
           "rock",
           "#35aca7"
          ],
          [
           "Losing My Religion",
           1465,
           "rock",
           "#35aca7"
          ],
          [
           "Baby Jane",
           1672,
           "rock",
           "#35aca7"
          ],
          [
           "Otro Amor En Avellaneda - Remastered 2017",
           1794,
           "rock",
           "#35aca7"
          ],
          [
           "Do It Again",
           1939,
           "rock",
           "#35aca7"
          ],
          [
           "The Werewolf",
           1943,
           "rock",
           "#35aca7"
          ],
          [
           "The Werewolf",
           1944,
           "rock",
           "#35aca7"
          ],
          [
           "The Last DJ",
           1989,
           "rock",
           "#35aca7"
          ]
         ],
         "hovertemplate": "track_name=%{customdata[0]}<br>index=%{customdata[1]}<br>track_genre=%{customdata[2]}<extra></extra>",
         "legendgroup": "",
         "marker": {
          "color": "#35aca7",
          "opacity": 0.8,
          "size": 10,
          "symbol": "circle"
         },
         "mode": "markers",
         "name": "",
         "showlegend": false,
         "type": "scattergl",
         "x": [
          -38261.86576341913,
          -27781.865652139037,
          -39180.86586148321,
          -39180.86586148321,
          36298.13404445979,
          51365.13399575732,
          -88061.86577176861,
          122805.13382062479,
          -26461.865899854776,
          -26461.865822501626,
          -4141.865938509611
         ],
         "xaxis": "x",
         "y": [
          -72.04153142252696,
          -71.55770901363496,
          -72.51103859793596,
          -72.51103859793596,
          -77.29066771768814,
          -78.55772519621532,
          -69.16556931535446,
          -83.51675158538094,
          -73.43562242309115,
          -72.75997036680174,
          -75.00277456745044
         ],
         "yaxis": "y"
        },
        {
         "customdata": [
          [
           "The Girl From Ipanema",
           33,
           "mpb",
           "#3aa4e6"
          ]
         ],
         "hovertemplate": "track_name=%{customdata[0]}<br>index=%{customdata[1]}<br>track_genre=%{customdata[2]}<extra></extra>",
         "legendgroup": "",
         "marker": {
          "color": "#3aa4e6",
          "opacity": 0.8,
          "size": 10,
          "symbol": "circle"
         },
         "mode": "markers",
         "name": "",
         "showlegend": false,
         "type": "scattergl",
         "x": [
          -31767.86486817288
         ],
         "xaxis": "x",
         "y": [
          -57.909160125373255
         ],
         "yaxis": "y"
        },
        {
         "customdata": [
          [
           "Tudo azul",
           36,
           "mpb",
           "#62ae31"
          ],
          [
           "Me diga",
           37,
           "mpb",
           "#62ae31"
          ],
          [
           "Família",
           86,
           "mpb",
           "#62ae31"
          ],
          [
           "O Que Será (A Flor Da Pele)",
           140,
           "mpb",
           "#62ae31"
          ],
          [
           "Corcovado",
           142,
           "mpb",
           "#62ae31"
          ],
          [
           "Conto De Areia",
           898,
           "mpb",
           "#62ae31"
          ],
          [
           "Assim assado",
           949,
           "mpb",
           "#62ae31"
          ],
          [
           "Wrecked",
           1026,
           "rock",
           "#62ae31"
          ],
          [
           "Good Life",
           1030,
           "rock",
           "#62ae31"
          ],
          [
           "Demons",
           1034,
           "rock",
           "#62ae31"
          ],
          [
           "Enemy - from the series Arcane League of Legends",
           1038,
           "rock",
           "#62ae31"
          ],
          [
           "On Top Of The World",
           1039,
           "rock",
           "#62ae31"
          ],
          [
           "Demons",
           1040,
           "rock",
           "#62ae31"
          ],
          [
           "Demons",
           1041,
           "rock",
           "#62ae31"
          ],
          [
           "Demons",
           1042,
           "rock",
           "#62ae31"
          ],
          [
           "I Want It All - Remastered 2011",
           1044,
           "rock",
           "#62ae31"
          ],
          [
           "White Christmas",
           1068,
           "rock",
           "#62ae31"
          ],
          [
           "White Christmas",
           1071,
           "rock",
           "#62ae31"
          ],
          [
           "Fire - Remastered",
           1122,
           "rock",
           "#62ae31"
          ],
          [
           "Hey Look Ma, I Made It",
           1125,
           "rock",
           "#62ae31"
          ],
          [
           "Bad Moon Rising - Remastered 1985",
           1145,
           "rock",
           "#62ae31"
          ],
          [
           "Bad Moon Rising - Remastered 1985",
           1149,
           "rock",
           "#62ae31"
          ],
          [
           "Yule Shoot Your Eye Out",
           1222,
           "rock",
           "#62ae31"
          ],
          [
           "Yule Shoot Your Eye Out",
           1226,
           "rock",
           "#62ae31"
          ],
          [
           "Yule Shoot Your Eye Out",
           1231,
           "rock",
           "#62ae31"
          ],
          [
           "Revolution",
           1273,
           "rock",
           "#62ae31"
          ],
          [
           "Revolution",
           1277,
           "rock",
           "#62ae31"
          ],
          [
           "Shut Off The Lights",
           1280,
           "rock",
           "#62ae31"
          ],
          [
           "Babooshka",
           1282,
           "rock",
           "#62ae31"
          ],
          [
           "Say It Isn't So",
           1285,
           "rock",
           "#62ae31"
          ],
          [
           "Remind Me",
           1309,
           "rock",
           "#62ae31"
          ],
          [
           "More Than A Woman - From \"Saturday Night Fever\" Soundtrack",
           1313,
           "rock",
           "#62ae31"
          ],
          [
           "Christmas Time",
           1317,
           "rock",
           "#62ae31"
          ],
          [
           "Merry Christmas",
           1318,
           "rock",
           "#62ae31"
          ],
          [
           "Merry Christmas",
           1319,
           "rock",
           "#62ae31"
          ],
          [
           "More Than A Woman - From \"Saturday Night Fever\" Soundtrack",
           1320,
           "rock",
           "#62ae31"
          ],
          [
           "Merry Christmas",
           1321,
           "rock",
           "#62ae31"
          ],
          [
           "Merry Christmas",
           1322,
           "rock",
           "#62ae31"
          ],
          [
           "More Than A Woman - From \"Saturday Night Fever\" Soundtrack",
           1323,
           "rock",
           "#62ae31"
          ],
          [
           "Merry Christmas",
           1324,
           "rock",
           "#62ae31"
          ],
          [
           "Christmas Time",
           1328,
           "rock",
           "#62ae31"
          ],
          [
           "Christmas Time",
           1330,
           "rock",
           "#62ae31"
          ],
          [
           "Christmas Time",
           1331,
           "rock",
           "#62ae31"
          ],
          [
           "Christmas Time",
           1332,
           "rock",
           "#62ae31"
          ],
          [
           "Christmas Time",
           1333,
           "rock",
           "#62ae31"
          ],
          [
           "Christmas Time",
           1335,
           "rock",
           "#62ae31"
          ],
          [
           "Merry Christmas",
           1336,
           "rock",
           "#62ae31"
          ],
          [
           "Christmas Time",
           1338,
           "rock",
           "#62ae31"
          ],
          [
           "Christmas Time",
           1341,
           "rock",
           "#62ae31"
          ],
          [
           "Christmas Time",
           1342,
           "rock",
           "#62ae31"
          ],
          [
           "Christmas Time",
           1343,
           "rock",
           "#62ae31"
          ],
          [
           "Limón y Sal",
           1346,
           "rock",
           "#62ae31"
          ],
          [
           "Riptide",
           1359,
           "rock",
           "#62ae31"
          ],
          [
           "Merry Christmas",
           1361,
           "rock",
           "#62ae31"
          ],
          [
           "Merry Christmas",
           1362,
           "rock",
           "#62ae31"
          ],
          [
           "Merry Christmas",
           1363,
           "rock",
           "#62ae31"
          ],
          [
           "Merry Christmas",
           1368,
           "rock",
           "#62ae31"
          ],
          [
           "Merry Christmas",
           1369,
           "rock",
           "#62ae31"
          ],
          [
           "Christmas Time",
           1370,
           "rock",
           "#62ae31"
          ],
          [
           "Christmas Time",
           1372,
           "rock",
           "#62ae31"
          ],
          [
           "Merry Christmas",
           1373,
           "rock",
           "#62ae31"
          ],
          [
           "Christmas Time",
           1374,
           "rock",
           "#62ae31"
          ],
          [
           "Christmas Time",
           1375,
           "rock",
           "#62ae31"
          ],
          [
           "Christmas Time",
           1381,
           "rock",
           "#62ae31"
          ],
          [
           "Christmas Time",
           1382,
           "rock",
           "#62ae31"
          ],
          [
           "Christmas Time",
           1383,
           "rock",
           "#62ae31"
          ],
          [
           "Christmas Time",
           1384,
           "rock",
           "#62ae31"
          ],
          [
           "Christmas Time",
           1385,
           "rock",
           "#62ae31"
          ],
          [
           "Christmas Time",
           1387,
           "rock",
           "#62ae31"
          ],
          [
           "Christmas Time",
           1388,
           "rock",
           "#62ae31"
          ],
          [
           "Detroit Rock City - Edit",
           1389,
           "rock",
           "#62ae31"
          ],
          [
           "All My Favorite Songs",
           1393,
           "rock",
           "#62ae31"
          ],
          [
           "Shandi",
           1395,
           "rock",
           "#62ae31"
          ],
          [
           "Why Don't You Get A Job",
           1399,
           "rock",
           "#62ae31"
          ],
          [
           "Mis Planes Son Amarte",
           1408,
           "rock",
           "#62ae31"
          ],
          [
           "Mis Planes Son Amarte",
           1409,
           "rock",
           "#62ae31"
          ],
          [
           "Esto No Acaba",
           1413,
           "rock",
           "#62ae31"
          ],
          [
           "Es Tarde",
           1417,
           "rock",
           "#62ae31"
          ],
          [
           "All My Favorite Songs",
           1427,
           "rock",
           "#62ae31"
          ],
          [
           "Sé Que Te Duele",
           1446,
           "rock",
           "#62ae31"
          ],
          [
           "With Or Without You - Jo Whiley Show - BBC Live Session",
           1472,
           "rock",
           "#62ae31"
          ],
          [
           "Bajo El Mar",
           1482,
           "rock",
           "#62ae31"
          ],
          [
           "Te Canto Un Son",
           1483,
           "rock",
           "#62ae31"
          ],
          [
           "Eterna Soledad",
           1495,
           "rock",
           "#62ae31"
          ],
          [
           "Poli / Love - En Vivo",
           1498,
           "rock",
           "#62ae31"
          ],
          [
           "parents",
           1521,
           "rock",
           "#62ae31"
          ],
          [
           "Santa Claus Is Coming To Town",
           1627,
           "rock",
           "#62ae31"
          ],
          [
           "Never Gonna Give You Up",
           1649,
           "rock",
           "#62ae31"
          ],
          [
           "Unlonely",
           1663,
           "rock",
           "#62ae31"
          ],
          [
           "Dirt On My Boots",
           1677,
           "rock",
           "#62ae31"
          ],
          [
           "Santa Claus Is Coming To Town",
           1680,
           "rock",
           "#62ae31"
          ],
          [
           "Dirt On My Boots",
           1682,
           "rock",
           "#62ae31"
          ],
          [
           "Let It Snow! Let It Snow! Let It Snow!",
           1686,
           "rock",
           "#62ae31"
          ],
          [
           "Santa Claus Is Coming To Town",
           1694,
           "rock",
           "#62ae31"
          ],
          [
           "Habits of My Heart",
           1708,
           "rock",
           "#62ae31"
          ],
          [
           "Habits of My Heart",
           1710,
           "rock",
           "#62ae31"
          ],
          [
           "Virtual Aerobics",
           1718,
           "rock",
           "#62ae31"
          ],
          [
           "Virtual Aerobics",
           1721,
           "rock",
           "#62ae31"
          ],
          [
           "ダンスホール",
           1736,
           "rock",
           "#62ae31"
          ],
          [
           "Christmas Cookies",
           1746,
           "rock",
           "#62ae31"
          ],
          [
           "Christmas Cookies",
           1748,
           "rock",
           "#62ae31"
          ],
          [
           "Wonderful Christmastime",
           1775,
           "rock",
           "#62ae31"
          ],
          [
           "Free Fallin'",
           1781,
           "rock",
           "#62ae31"
          ],
          [
           "Tuyo Siempre",
           1782,
           "rock",
           "#62ae31"
          ],
          [
           "Bohemio",
           1787,
           "rock",
           "#62ae31"
          ],
          [
           "Algún Lugar Encontraré",
           1792,
           "rock",
           "#62ae31"
          ],
          [
           "Transito Lento",
           1793,
           "rock",
           "#62ae31"
          ],
          [
           "Cuarteles De Invierno",
           1795,
           "rock",
           "#62ae31"
          ],
          [
           "Enganchate Conmigo",
           1796,
           "rock",
           "#62ae31"
          ],
          [
           "Diego Armando Canciones",
           1797,
           "rock",
           "#62ae31"
          ],
          [
           "Jar of Hearts",
           1812,
           "rock",
           "#62ae31"
          ],
          [
           "Black Balloon",
           1816,
           "rock",
           "#62ae31"
          ],
          [
           "Rosas",
           1825,
           "rock",
           "#62ae31"
          ],
          [
           "Free Fallin'",
           1834,
           "rock",
           "#62ae31"
          ],
          [
           "Free Fallin'",
           1839,
           "rock",
           "#62ae31"
          ],
          [
           "You're Beautiful",
           1860,
           "rock",
           "#62ae31"
          ],
          [
           "Joy",
           1862,
           "rock",
           "#62ae31"
          ],
          [
           "You're Beautiful",
           1869,
           "rock",
           "#62ae31"
          ],
          [
           "Love Under Pressure",
           1879,
           "rock",
           "#62ae31"
          ],
          [
           "Hanginaround",
           1881,
           "rock",
           "#62ae31"
          ],
          [
           "Let Me Let You Go",
           1886,
           "rock",
           "#62ae31"
          ],
          [
           "You're the Inspiration",
           1927,
           "rock",
           "#62ae31"
          ],
          [
           "Antes Que No",
           1935,
           "rock",
           "#62ae31"
          ],
          [
           "Como Eran Las Cosas",
           1941,
           "rock",
           "#62ae31"
          ],
          [
           "Midnite Cruiser",
           1947,
           "rock",
           "#62ae31"
          ],
          [
           "Como Eran Las Cosas",
           1949,
           "rock",
           "#62ae31"
          ],
          [
           "Kiss Me Babe, It's Christmas Time",
           1971,
           "rock",
           "#62ae31"
          ],
          [
           "Kiss Me Babe, It's Christmas Time",
           1974,
           "rock",
           "#62ae31"
          ],
          [
           "Naive",
           1975,
           "rock",
           "#62ae31"
          ]
         ],
         "hovertemplate": "track_name=%{customdata[0]}<br>index=%{customdata[1]}<br>track_genre=%{customdata[2]}<extra></extra>",
         "legendgroup": "",
         "marker": {
          "color": "#62ae31",
          "opacity": 0.8,
          "size": 10,
          "symbol": "circle"
         },
         "mode": "markers",
         "name": "",
         "showlegend": false,
         "type": "scattergl",
         "x": [
          -14061.866802441684,
          22965.13316198034,
          17738.133238797105,
          15298.132930060325,
          658.1330485681829,
          -12701.866681816231,
          -59221.86668987028,
          11876.13320536475,
          23565.133112082403,
          -54621.866648718365,
          -58746.86652797097,
          -39327.86678475718,
          -54621.866648718365,
          -54621.866648718365,
          -54621.866648718365,
          9125.133329093398,
          -105614.86669080083,
          -105614.86669080083,
          -108327.86662570988,
          -62461.86672717263,
          -92848.86649849071,
          -92848.86649849071,
          -11114.866951647069,
          -11114.866951647069,
          -11114.866951647069,
          -48721.86686473357,
          -48721.86686473357,
          -44764.86683512744,
          -22194.8669292891,
          -18794.866732193652,
          -49446.8668078419,
          -35914.86652023657,
          10929.133293041727,
          -80740.86677754213,
          -80740.86677754213,
          -35914.8668683258,
          -80740.86677754213,
          -80740.86677754213,
          -35914.8668683258,
          -80740.86673886553,
          10929.133293041727,
          10929.133293041727,
          10929.133293041727,
          10929.133293041727,
          10929.133293041727,
          10929.133293041727,
          -80740.86677754213,
          10929.133293041727,
          10929.133293041727,
          10929.133293041727,
          10929.133293041727,
          -26914.866946726223,
          -27847.86679864503,
          -80740.86677754213,
          -80740.86677754213,
          -80740.86677754213,
          -80740.86677754213,
          -80740.86677754213,
          10929.133331718302,
          10929.133293041727,
          -80740.86677754213,
          10929.133331718302,
          10929.133293041727,
          10929.133293041727,
          10929.133293041727,
          10929.133293041727,
          10929.133293041727,
          10929.133293041727,
          10929.133293041727,
          10929.133293041727,
          -16600.866726553097,
          -61407.866587023076,
          -15261.866893417697,
          -59661.86673642459,
          -21607.866760744917,
          -21607.866760744917,
          -70247.8666248697,
          -22514.866816593334,
          -61407.866587023076,
          -3994.8668519183993,
          -19794.86681141585,
          18392.133147474407,
          -39576.8668134303,
          -57967.866521394346,
          24231.13310581117,
          -60101.866569287784,
          -65461.86684252409,
          -13141.866637164901,
          -861.8668831225368,
          -30234.866733381874,
          -65461.86684252409,
          -30234.866733381874,
          -62447.86677007543,
          -65461.86684252409,
          -21488.86658061706,
          -21488.86658061706,
          -109794.86669932523,
          -109794.86669932523,
          -28978.866845112003,
          -36567.866706759,
          -36567.866706759,
          -6194.866848413512,
          23552.13321259027,
          -60149.866602848226,
          -24123.866861289134,
          22827.13294247951,
          -38047.86674996457,
          -19687.86665583824,
          -6511.866772479261,
          -18181.86663931032,
          14459.133299710607,
          17405.133121070976,
          5018.133006831893,
          23552.133173913695,
          23552.13321259027,
          -22634.866663957335,
          -38506.86690723989,
          -22634.866663957335,
          -67094.86681444236,
          20592.13313607764,
          -51916.86672019021,
          -1687.8666658612783,
          -5857.866830409563,
          10392.13310475758,
          14472.133063942398,
          10392.13310475758,
          -3094.8669469874294,
          -3094.8669469874294,
          -25954.86683209776
         ],
         "xaxis": "x",
         "y": [
          -90.97411082248203,
          -93.41134426491283,
          -92.66749061935437,
          -94.09422677633798,
          -92.70160144088352,
          -90.47170618768754,
          -87.66202522978203,
          -92.31003675656504,
          -93.54280620907008,
          -87.95089023871634,
          -86.96992873374816,
          -89.54782382912035,
          -87.95089023871634,
          -87.95089023871634,
          -87.95089023871634,
          -91.0027904866748,
          -85.10301761140501,
          -85.10301761140501,
          -84.53014274911463,
          -87.63105848182246,
          -84.78192019062126,
          -84.78192019062126,
          -92.01069978099203,
          -92.01069978099203,
          -92.01069978099203,
          -89.40190828902041,
          -89.40190828902041,
          -89.45562297813558,
          -91.18911738127467,
          -90.279796226407,
          -89.04393314701808,
          -87.0807723910165,
          -92.07221397967388,
          -87.04971708487251,
          -87.04971708487251,
          -90.12120664431882,
          -87.04971708487251,
          -87.04971708487251,
          -90.12120664431882,
          -86.71189105672781,
          -92.07221397967388,
          -92.07221397967388,
          -92.07221397967388,
          -92.07221397967388,
          -92.07221397967388,
          -92.07221397967388,
          -87.04971708487251,
          -92.07221397967388,
          -92.07221397967388,
          -92.07221397967388,
          -92.07221397967388,
          -91.03397409915885,
          -90.13014229267475,
          -87.04971708487251,
          -87.04971708487251,
          -87.04971708487251,
          -87.04971708487251,
          -87.04971708487251,
          -91.73438795152917,
          -92.07221397967388,
          -87.04971708487251,
          -91.73438795152917,
          -92.07221397967388,
          -92.07221397967388,
          -92.07221397967388,
          -92.07221397967388,
          -92.07221397967388,
          -92.07221397967388,
          -92.07221397967388,
          -92.07221397967388,
          -90.41920688472469,
          -87.15721286407175,
          -91.47595077261413,
          -87.82135368551295,
          -90.30300354732756,
          -90.30300354732756,
          -86.85756642923135,
          -90.62129381611881,
          -87.15721286407175,
          -91.89474160600152,
          -90.32660126767102,
          -93.25429606629211,
          -89.57087589046188,
          -86.86644833312137,
          -93.72822008285927,
          -87.13106500035592,
          -88.23144876204506,
          -90.21615936091838,
          -92.27634299308413,
          -89.73046197228679,
          -88.23144876204506,
          -89.73046197228679,
          -87.85086850146274,
          -88.23144876204506,
          -89.39332149624715,
          -89.39332149624715,
          -84.94835064624812,
          -84.94835064624812,
          -90.17888955114503,
          -89.19811849588721,
          -89.19811849588721,
          -91.7012623430556,
          -92.93595640460045,
          -87.13897011584011,
          -90.73382584635597,
          -94.48380788442203,
          -89.33196036654424,
          -89.89084887711334,
          -91.28670026298956,
          -89.93737911486448,
          -92.18398629415094,
          -92.89618510796988,
          -93.17762668045641,
          -93.27378243274515,
          -92.93595640460045,
          -89.79279986774714,
          -90.22838503261829,
          -89.79279986774714,
          -88.04274194603191,
          -93.43211884580934,
          -88.4608033527114,
          -90.88567925369314,
          -91.7055850864747,
          -92.89498509209643,
          -93.39115255005625,
          -92.89498509209643,
          -92.49517944225394,
          -92.49517944225394,
          -90.36726499803535
         ],
         "yaxis": "y"
        },
        {
         "customdata": [
          [
           "Um certo alguém",
           39,
           "mpb",
           "#34ae94"
          ]
         ],
         "hovertemplate": "track_name=%{customdata[0]}<br>index=%{customdata[1]}<br>track_genre=%{customdata[2]}<extra></extra>",
         "legendgroup": "",
         "marker": {
          "color": "#34ae94",
          "opacity": 0.8,
          "size": 10,
          "symbol": "circle"
         },
         "mode": "markers",
         "name": "",
         "showlegend": false,
         "type": "scattergl",
         "x": [
          -18554.86631439085
         ],
         "xaxis": "x",
         "y": [
          -79.64770030322548
         ],
         "yaxis": "y"
        },
        {
         "customdata": [
          [
           "Homem do espaço",
           43,
           "mpb",
           "#37aab8"
          ],
          [
           "Rosa Maria",
           139,
           "mpb",
           "#37aab8"
          ],
          [
           "Christmas Without You",
           1031,
           "rock",
           "#37aab8"
          ],
          [
           "Christmas Without You",
           1043,
           "rock",
           "#37aab8"
          ],
          [
           "Christmas Without You",
           1046,
           "rock",
           "#37aab8"
          ],
          [
           "Christmas Without You",
           1047,
           "rock",
           "#37aab8"
          ],
          [
           "Christmas Without You",
           1048,
           "rock",
           "#37aab8"
          ],
          [
           "Was It All Worth It - Remastered 2011",
           1049,
           "rock",
           "#37aab8"
          ],
          [
           "Christmas Without You",
           1073,
           "rock",
           "#37aab8"
          ],
          [
           "Christmas Without You",
           1076,
           "rock",
           "#37aab8"
          ],
          [
           "Christmas Without You",
           1078,
           "rock",
           "#37aab8"
          ],
          [
           "Christmas Without You",
           1079,
           "rock",
           "#37aab8"
          ],
          [
           "Christmas Without You",
           1081,
           "rock",
           "#37aab8"
          ],
          [
           "Christmas Without You",
           1083,
           "rock",
           "#37aab8"
          ],
          [
           "Christmas Without You",
           1084,
           "rock",
           "#37aab8"
          ],
          [
           "Christmas Without You",
           1085,
           "rock",
           "#37aab8"
          ],
          [
           "Christmas Without You",
           1086,
           "rock",
           "#37aab8"
          ],
          [
           "Nerve Flip",
           1087,
           "rock",
           "#37aab8"
          ],
          [
           "Stop And Stare",
           1088,
           "rock",
           "#37aab8"
          ],
          [
           "Christmas Without You",
           1089,
           "rock",
           "#37aab8"
          ],
          [
           "Nerve Flip",
           1090,
           "rock",
           "#37aab8"
          ],
          [
           "Christmas Without You",
           1091,
           "rock",
           "#37aab8"
          ],
          [
           "Christmas Without You",
           1092,
           "rock",
           "#37aab8"
          ],
          [
           "Christmas Without You",
           1093,
           "rock",
           "#37aab8"
          ],
          [
           "Christmas Without You",
           1094,
           "rock",
           "#37aab8"
          ],
          [
           "Stressed Out",
           1119,
           "rock",
           "#37aab8"
          ],
          [
           "I Write Sins Not Tragedies",
           1121,
           "rock",
           "#37aab8"
          ],
          [
           "Bad Moon Rising",
           1137,
           "rock",
           "#37aab8"
          ],
          [
           "Bad Moon Rising",
           1148,
           "rock",
           "#37aab8"
          ],
          [
           "I Write Sins Not Tragedies",
           1165,
           "rock",
           "#37aab8"
          ],
          [
           "Happy Holidays, You Bastard",
           1166,
           "rock",
           "#37aab8"
          ],
          [
           "All The Small Things",
           1172,
           "rock",
           "#37aab8"
          ],
          [
           "Happy Holidays, You Bastard",
           1179,
           "rock",
           "#37aab8"
          ],
          [
           "All The Small Things",
           1184,
           "rock",
           "#37aab8"
          ],
          [
           "All The Small Things",
           1185,
           "rock",
           "#37aab8"
          ],
          [
           "Happy Holidays, You Bastard",
           1187,
           "rock",
           "#37aab8"
          ],
          [
           "All The Small Things",
           1188,
           "rock",
           "#37aab8"
          ],
          [
           "All The Small Things",
           1189,
           "rock",
           "#37aab8"
          ],
          [
           "Uma Thurman",
           1216,
           "rock",
           "#37aab8"
          ],
          [
           "Sugar, We're Goin Down",
           1218,
           "rock",
           "#37aab8"
          ],
          [
           "Sugar, We're Goin Down",
           1220,
           "rock",
           "#37aab8"
          ],
          [
           "My Songs Know What You Did In The Dark (Light Em Up)",
           1221,
           "rock",
           "#37aab8"
          ],
          [
           "All The Small Things",
           1225,
           "rock",
           "#37aab8"
          ],
          [
           "Thnks fr th Mmrs",
           1229,
           "rock",
           "#37aab8"
          ],
          [
           "My Songs Know What You Did In The Dark (Light Em Up)",
           1235,
           "rock",
           "#37aab8"
          ],
          [
           "I Won't",
           1269,
           "rock",
           "#37aab8"
          ],
          [
           "Message In A Bottle - Remastered 2003",
           1286,
           "rock",
           "#37aab8"
          ],
          [
           "Joe And Mary",
           1339,
           "rock",
           "#37aab8"
          ],
          [
           "Joe And Mary",
           1345,
           "rock",
           "#37aab8"
          ],
          [
           "Catalonia",
           1356,
           "rock",
           "#37aab8"
          ],
          [
           "Catalonia",
           1358,
           "rock",
           "#37aab8"
          ],
          [
           "Catalonia",
           1364,
           "rock",
           "#37aab8"
          ],
          [
           "Rock And Roll All Nite",
           1378,
           "rock",
           "#37aab8"
          ],
          [
           "Rock And Roll All Nite",
           1394,
           "rock",
           "#37aab8"
          ],
          [
           "Say It Ain't So",
           1414,
           "rock",
           "#37aab8"
          ],
          [
           "Say It Ain't So",
           1415,
           "rock",
           "#37aab8"
          ],
          [
           "Say It Ain't So",
           1416,
           "rock",
           "#37aab8"
          ],
          [
           "Vía Láctea",
           1418,
           "rock",
           "#37aab8"
          ],
          [
           "El Ratico",
           1419,
           "rock",
           "#37aab8"
          ],
          [
           "Tequila",
           1422,
           "rock",
           "#37aab8"
          ],
          [
           "Nada Valgo Sin Tu Amor",
           1424,
           "rock",
           "#37aab8"
          ],
          [
           "O Holy Night",
           1426,
           "rock",
           "#37aab8"
          ],
          [
           "Gotas De Agua Dulce",
           1430,
           "rock",
           "#37aab8"
          ],
          [
           "Fotografía",
           1431,
           "rock",
           "#37aab8"
          ],
          [
           "El Burrito De Belén",
           1433,
           "rock",
           "#37aab8"
          ],
          [
           "Sun Daze",
           1434,
           "rock",
           "#37aab8"
          ],
          [
           "Me Hace Tanto Bien",
           1438,
           "rock",
           "#37aab8"
          ],
          [
           "We Wish You A Merry Christmas",
           1441,
           "rock",
           "#37aab8"
          ],
          [
           "Me Hace Tanto Bien",
           1442,
           "rock",
           "#37aab8"
          ],
          [
           "We Wish You A Merry Christmas",
           1443,
           "rock",
           "#37aab8"
          ],
          [
           "Me Dediqué a Perderte",
           1445,
           "rock",
           "#37aab8"
          ],
          [
           "We Wish You A Merry Christmas",
           1447,
           "rock",
           "#37aab8"
          ],
          [
           "We Wish You A Merry Christmas",
           1449,
           "rock",
           "#37aab8"
          ],
          [
           "Somewhere Only We Know",
           1463,
           "rock",
           "#37aab8"
          ],
          [
           "Wind Of Change",
           1470,
           "rock",
           "#37aab8"
          ],
          [
           "Somewhere Only We Know",
           1474,
           "rock",
           "#37aab8"
          ],
          [
           "Wind Of Change",
           1476,
           "rock",
           "#37aab8"
          ],
          [
           "No Tengo Nada",
           1487,
           "rock",
           "#37aab8"
          ],
          [
           "It's The End Of The World As We Know It (And I Feel Fine)",
           1488,
           "rock",
           "#37aab8"
          ],
          [
           "Mi Persona Favorita",
           1489,
           "rock",
           "#37aab8"
          ],
          [
           "It's The End Of The World As We Know It (And I Feel Fine)",
           1491,
           "rock",
           "#37aab8"
          ],
          [
           "Elliot’s Song - From \"Euphoria\" An HBO Original Series",
           1516,
           "rock",
           "#37aab8"
          ],
          [
           "Frosty The Snowman - 1991 Remix",
           1529,
           "rock",
           "#37aab8"
          ],
          [
           "Frosty The Snowman - 1991 Remix",
           1536,
           "rock",
           "#37aab8"
          ],
          [
           "Frosty The Snowman - 1991 Remix",
           1552,
           "rock",
           "#37aab8"
          ],
          [
           "Surfin' U.S.A. - Remastered 2001",
           1553,
           "rock",
           "#37aab8"
          ],
          [
           "Surfin' U.S.A. - Remastered 2001",
           1554,
           "rock",
           "#37aab8"
          ],
          [
           "Frosty The Snowman - 1991 Remix",
           1556,
           "rock",
           "#37aab8"
          ],
          [
           "Frosty The Snowman - 1991 Remix",
           1565,
           "rock",
           "#37aab8"
          ],
          [
           "Frosty The Snowman - 1991 Remix",
           1566,
           "rock",
           "#37aab8"
          ],
          [
           "Frosty The Snowman - 1991 Remix",
           1567,
           "rock",
           "#37aab8"
          ],
          [
           "Run Back Into Your Arms",
           1620,
           "rock",
           "#37aab8"
          ],
          [
           "Frosty The Snowman - 1991 Remix",
           1633,
           "rock",
           "#37aab8"
          ],
          [
           "Frosty The Snowman - 1991 Remix",
           1637,
           "rock",
           "#37aab8"
          ],
          [
           "Frosty The Snowman - 1991 Remix",
           1643,
           "rock",
           "#37aab8"
          ],
          [
           "Winter Wonderland",
           1664,
           "rock",
           "#37aab8"
          ],
          [
           "Winter Wonderland",
           1665,
           "rock",
           "#37aab8"
          ],
          [
           "Winter Wonderland",
           1667,
           "rock",
           "#37aab8"
          ],
          [
           "Winter Wonderland",
           1668,
           "rock",
           "#37aab8"
          ],
          [
           "Winter Wonderland",
           1669,
           "rock",
           "#37aab8"
          ],
          [
           "If It Kills Me",
           1671,
           "rock",
           "#37aab8"
          ],
          [
           "Merry Christmas, Baby",
           1690,
           "rock",
           "#37aab8"
          ],
          [
           "Merry Christmas, Baby",
           1695,
           "rock",
           "#37aab8"
          ],
          [
           "WanteD! WanteD!",
           1733,
           "rock",
           "#37aab8"
          ],
          [
           "Deck The Halls",
           1743,
           "rock",
           "#37aab8"
          ],
          [
           "O Christmas Tree",
           1744,
           "rock",
           "#37aab8"
          ],
          [
           "O Christmas Tree",
           1745,
           "rock",
           "#37aab8"
          ],
          [
           "O Christmas Tree",
           1747,
           "rock",
           "#37aab8"
          ],
          [
           "Heartland - Pure Country/Soundtrack Version",
           1749,
           "rock",
           "#37aab8"
          ],
          [
           "Waiting for a Girl Like You",
           1771,
           "rock",
           "#37aab8"
          ],
          [
           "Waiting for a Girl Like You",
           1773,
           "rock",
           "#37aab8"
          ],
          [
           "Happy Christmas (War Is Over)",
           1778,
           "rock",
           "#37aab8"
          ],
          [
           "Happy Christmas (War Is Over)",
           1780,
           "rock",
           "#37aab8"
          ],
          [
           "I Put A Spell On You (Fifty Shades of Grey) - From \"Fifty Shades Of Grey\" Soundtrack",
           1823,
           "rock",
           "#37aab8"
          ],
          [
           "I Put A Spell On You (Fifty Shades of Grey) - From \"Fifty Shades Of Grey\" Soundtrack",
           1827,
           "rock",
           "#37aab8"
          ],
          [
           "I Put A Spell On You (Fifty Shades of Grey) - From \"Fifty Shades Of Grey\" Soundtrack",
           1837,
           "rock",
           "#37aab8"
          ],
          [
           "Wisemen",
           1863,
           "rock",
           "#37aab8"
          ],
          [
           "Wisemen",
           1864,
           "rock",
           "#37aab8"
          ],
          [
           "Wisemen",
           1866,
           "rock",
           "#37aab8"
          ],
          [
           "Save Yourself",
           1867,
           "rock",
           "#37aab8"
          ],
          [
           "Fly Away",
           1882,
           "rock",
           "#37aab8"
          ],
          [
           "Save Yourself",
           1885,
           "rock",
           "#37aab8"
          ],
          [
           "The Universal",
           1899,
           "rock",
           "#37aab8"
          ],
          [
           "arms",
           1921,
           "rock",
           "#37aab8"
          ],
          [
           "Me Enamoré De Ti",
           1930,
           "rock",
           "#37aab8"
          ],
          [
           "Diez Mil Maneras",
           1936,
           "rock",
           "#37aab8"
          ],
          [
           "A Partir De Hoy",
           1938,
           "rock",
           "#37aab8"
          ],
          [
           "Fireflies",
           1967,
           "rock",
           "#37aab8"
          ],
          [
           "Fireflies",
           1968,
           "rock",
           "#37aab8"
          ],
          [
           "Peppermint Winter",
           1972,
           "rock",
           "#37aab8"
          ],
          [
           "Peppermint Winter",
           1973,
           "rock",
           "#37aab8"
          ],
          [
           "Peppermint Winter",
           1976,
           "rock",
           "#37aab8"
          ],
          [
           "Peppermint Winter",
           1977,
           "rock",
           "#37aab8"
          ],
          [
           "Here Without You",
           1979,
           "rock",
           "#37aab8"
          ]
         ],
         "hovertemplate": "track_name=%{customdata[0]}<br>index=%{customdata[1]}<br>track_genre=%{customdata[2]}<extra></extra>",
         "legendgroup": "",
         "marker": {
          "color": "#37aab8",
          "opacity": 0.8,
          "size": 10,
          "symbol": "circle"
         },
         "mode": "markers",
         "name": "",
         "showlegend": false,
         "type": "scattergl",
         "x": [
          64072.13361711142,
          63005.13404842513,
          -34981.866201271856,
          -34981.866201271856,
          -34981.866201271856,
          -34981.866201271856,
          -34981.866201271856,
          115672.13371880306,
          -34981.86616259525,
          -34981.866201271856,
          -34981.866201271856,
          -34981.866201271856,
          -34981.86612391868,
          -34981.866201271856,
          -34981.866201271856,
          -34981.866201271856,
          -34981.866201271856,
          -45979.86586982131,
          -8327.866050037235,
          -34981.866201271856,
          -45979.86586982131,
          -34981.866201271856,
          -34981.866201271856,
          -34981.866201271856,
          -34981.866201271856,
          -29794.865771312732,
          -44514.86570024921,
          -90527.86572320343,
          -90527.86576188004,
          -44514.86562289606,
          -189687.86531952786,
          -61061.86546940936,
          -189687.86543555759,
          -61061.86554676251,
          -61061.86550808593,
          -189687.86543555759,
          -61061.86554676251,
          -61061.86554676251,
          -20554.865639462805,
          -1194.8657776342006,
          -1194.8657776342006,
          -45301.86563854411,
          -61061.86546940936,
          -27367.865641452634,
          -45301.86563854411,
          -63575.8656713223,
          58152.13420672086,
          -31687.86560037025,
          -31687.86560037025,
          -13821.866102898057,
          -13821.866141574632,
          -13821.866180251207,
          -56274.86544889977,
          -56274.865487576346,
          26697.134207829193,
          26697.134169152618,
          26697.134246505768,
          -18941.865800657863,
          -65621.86583847555,
          -72581.86556267433,
          -37034.865625416714,
          12178.133764953003,
          -44087.865568980866,
          6298.134046406922,
          -41301.86592315353,
          -46727.86579990166,
          -43234.86568548792,
          -147154.86533520313,
          -43234.86568548792,
          -147154.86533520313,
          338.134273279371,
          -147154.86533520313,
          -147154.86533520313,
          4032.1341459094256,
          79112.13406759477,
          4032.1340298797004,
          79112.13402891817,
          -6528.8657104156155,
          14805.133674897865,
          7844.134172410559,
          14805.133674897865,
          -79983.86581741346,
          -117576.8656430769,
          -117576.86572043005,
          -117576.86568175348,
          -83154.86555281369,
          -83154.86555281369,
          -117576.86572043005,
          -117576.86572043005,
          -117576.86572043005,
          -117576.86572043005,
          -25767.865629326465,
          -117576.86572043005,
          -117576.86572043005,
          -117576.86572043005,
          -100367.86541861985,
          -100367.86537994328,
          -100367.86541861985,
          -100367.86541861985,
          -100367.86541861985,
          41525.13420318591,
          -901.8662498292688,
          -901.8662498292688,
          -14741.865784422465,
          -113007.86554359942,
          -84407.86555818398,
          -84407.86555818398,
          -84407.86555818398,
          -93967.86555374227,
          59858.133664567955,
          59938.133573619416,
          925.1339826201147,
          925.1339826201147,
          -21607.86583123394,
          -21607.865792557364,
          -21607.86590858712,
          -10354.865700926195,
          -10354.865662249591,
          -10354.865662249591,
          -34132.86574942127,
          -10234.86581183187,
          -34132.86578809784,
          6392.134136889712,
          29085.134223324305,
          -25954.865606707113,
          -20099.865714804153,
          -35325.86577751802,
          -3781.866019275243,
          -3781.866019275243,
          8432.13420704112,
          8432.13420704112,
          8432.13420704112,
          8432.13420704112,
          6432.134289544512
         ],
         "xaxis": "x",
         "y": [
          -77.70156984676368,
          -75.25190102292858,
          -71.00245057398129,
          -71.00245057398129,
          -71.00245057398129,
          -71.00245057398129,
          -71.00245057398129,
          -79.91078910195,
          -70.6646245458366,
          -71.00245057398129,
          -71.00245057398129,
          -71.00245057398129,
          -70.32679851769188,
          -71.00245057398129,
          -71.00245057398129,
          -71.00245057398129,
          -71.00245057398129,
          -68.61098657478409,
          -71.79209342311047,
          -71.00245057398129,
          -68.61098657478409,
          -71.00245057398129,
          -71.00245057398129,
          -71.00245057398129,
          -71.00245057398129,
          -68.76489364398594,
          -67.36820603180871,
          -65.12252884117456,
          -65.46035486931926,
          -66.6925539755193,
          -56.92964418708144,
          -65.38017817644231,
          -57.94312227151555,
          -66.05583023273172,
          -65.71800420458703,
          -57.94312227151555,
          -66.05583023273172,
          -66.05583023273172,
          -68.78040960592188,
          -70.46889269613138,
          -70.46889269613138,
          -67.39655406780294,
          -65.38017817644231,
          -68.17195505907921,
          -67.39655406780294,
          -66.522874365535,
          -73.86192500220135,
          -67.97301068819573,
          -67.97301068819573,
          -71.4861927202235,
          -71.82401874836822,
          -72.16184477651291,
          -65.51886516496168,
          -65.85669119310639,
          -72.27265030516244,
          -72.61047633330713,
          -71.93482427701774,
          -69.73030432677986,
          -67.21509019821013,
          -65.26922814568377,
          -67.7543587261343,
          -73.92225919433989,
          -66.9155671509218,
          -72.0942659103747,
          -69.14185427673945,
          -68.23174794858375,
          -67.80768165657804,
          -59.84327108436151,
          -67.80768165657804,
          -59.84327108436151,
          -70.45864777484715,
          -59.84327108436151,
          -59.84327108436151,
          -71.02589956427227,
          -76.09074994014834,
          -72.03937764870638,
          -76.42857596829305,
          -69.9827224215216,
          -74.50513190567692,
          -71.44640011501977,
          -74.50513190567692,
          -66.02516192566489,
          -62.930529378759026,
          -63.606181435048434,
          -63.26835540690373,
          -64.65307250128824,
          -64.65307250128824,
          -63.606181435048434,
          -63.606181435048434,
          -63.606181435048434,
          -63.606181435048434,
          -68.51610423131643,
          -63.606181435048434,
          -63.606181435048434,
          -63.606181435048434,
          -62.96639705344635,
          -62.628571025301646,
          -62.96639705344635,
          -62.96639705344635,
          -62.96639705344635,
          -73.28627166648144,
          -73.21662089842181,
          -73.21662089842181,
          -70.06235795607098,
          -62.89643731623786,
          -64.59696350897035,
          -64.59696350897035,
          -64.59696350897035,
          -64.03444699859088,
          -76.91276751459523,
          -77.63132343797025,
          -71.97381620244391,
          -71.97381620244391,
          -69.54587772045652,
          -69.20805169231181,
          -70.22152977674591,
          -69.58903531052934,
          -69.25120928238462,
          -69.25120928238462,
          -68.57016196042832,
          -70.3644101739787,
          -68.90798798857303,
          -71.4009832247701,
          -72.45005950022681,
          -68.34495215508346,
          -69.31511036494098,
          -68.73312938046061,
          -71.85539052603583,
          -71.85539052603583,
          -71.41226098668233,
          -71.41226098668233,
          -71.41226098668233,
          -71.41226098668233,
          -70.73587348469042
         ],
         "yaxis": "y"
        },
        {
         "customdata": [
          [
           "Domingo",
           87,
           "mpb",
           "#36aca9"
          ],
          [
           "Segredos",
           293,
           "mpb",
           "#36aca9"
          ],
          [
           "Surra de chicote",
           897,
           "mpb",
           "#36aca9"
          ],
          [
           "Didn't I",
           1032,
           "rock",
           "#36aca9"
          ],
          [
           "Sunshine",
           1059,
           "rock",
           "#36aca9"
          ],
          [
           "Sunshine",
           1061,
           "rock",
           "#36aca9"
          ],
          [
           "Sunshine",
           1064,
           "rock",
           "#36aca9"
          ],
          [
           "Apologize",
           1067,
           "rock",
           "#36aca9"
          ],
          [
           "Apologize",
           1075,
           "rock",
           "#36aca9"
          ],
          [
           "House of Gold",
           1124,
           "rock",
           "#36aca9"
          ],
          [
           "Have You Ever Seen The Rain",
           1129,
           "rock",
           "#36aca9"
          ],
          [
           "Little Lies - 2018 Remaster",
           1135,
           "rock",
           "#36aca9"
          ],
          [
           "Sympathy For The Devil",
           1190,
           "rock",
           "#36aca9"
          ],
          [
           "Sympathy For The Devil",
           1192,
           "rock",
           "#36aca9"
          ],
          [
           "Sympathy For The Devil",
           1193,
           "rock",
           "#36aca9"
          ],
          [
           "Sympathy For The Devil",
           1238,
           "rock",
           "#36aca9"
          ],
          [
           "Don't Shoot Me Santa",
           1239,
           "rock",
           "#36aca9"
          ],
          [
           "Don't Shoot Me Santa",
           1240,
           "rock",
           "#36aca9"
          ],
          [
           "Don't Shoot Me Santa",
           1243,
           "rock",
           "#36aca9"
          ],
          [
           "Don't Shoot Me Santa",
           1245,
           "rock",
           "#36aca9"
          ],
          [
           "Don't Shoot Me Santa",
           1246,
           "rock",
           "#36aca9"
          ],
          [
           "Don't Shoot Me Santa",
           1248,
           "rock",
           "#36aca9"
          ],
          [
           "Sympathy For The Devil - 50th Anniversary Edition / Remastered 2018",
           1249,
           "rock",
           "#36aca9"
          ],
          [
           "Thelma + Louise",
           1274,
           "rock",
           "#36aca9"
          ],
          [
           "Snakes",
           1278,
           "rock",
           "#36aca9"
          ],
          [
           "Roxanne - Remastered 2003",
           1298,
           "rock",
           "#36aca9"
          ],
          [
           "Pompeii",
           1315,
           "rock",
           "#36aca9"
          ],
          [
           "Snakes",
           1316,
           "rock",
           "#36aca9"
          ],
          [
           "Es Por Ti",
           1410,
           "rock",
           "#36aca9"
          ],
          [
           "Es Por Ti",
           1411,
           "rock",
           "#36aca9"
          ],
          [
           "Dancing In The Dark",
           1428,
           "rock",
           "#36aca9"
          ],
          [
           "Pero Tú",
           1475,
           "rock",
           "#36aca9"
          ],
          [
           "Igual Que Ayer",
           1490,
           "rock",
           "#36aca9"
          ],
          [
           "Kokomo",
           1528,
           "rock",
           "#36aca9"
          ],
          [
           "Little Saint Nick - 1991 Remix",
           1542,
           "rock",
           "#36aca9"
          ],
          [
           "Little Saint Nick - 1991 Remix",
           1557,
           "rock",
           "#36aca9"
          ],
          [
           "Little Saint Nick - 1991 Remix",
           1558,
           "rock",
           "#36aca9"
          ],
          [
           "Little Saint Nick - 1991 Remix",
           1559,
           "rock",
           "#36aca9"
          ],
          [
           "Little Saint Nick - 1991 Remix",
           1562,
           "rock",
           "#36aca9"
          ],
          [
           "Little Saint Nick - 1991 Remix",
           1563,
           "rock",
           "#36aca9"
          ],
          [
           "Little Saint Nick - 1991 Remix",
           1564,
           "rock",
           "#36aca9"
          ],
          [
           "Little Saint Nick - 1991 Remix",
           1568,
           "rock",
           "#36aca9"
          ],
          [
           "Little Saint Nick - 1991 Remix",
           1569,
           "rock",
           "#36aca9"
          ],
          [
           "Little Saint Nick - 1991 Remix",
           1570,
           "rock",
           "#36aca9"
          ],
          [
           "The Man With All The Toys - 1991 Remix",
           1571,
           "rock",
           "#36aca9"
          ],
          [
           "Little Saint Nick - 1991 Remix",
           1572,
           "rock",
           "#36aca9"
          ],
          [
           "Little Saint Nick - 1991 Remix",
           1573,
           "rock",
           "#36aca9"
          ],
          [
           "Little Saint Nick - 1991 Remix",
           1575,
           "rock",
           "#36aca9"
          ],
          [
           "Little Saint Nick - 1991 Remix",
           1576,
           "rock",
           "#36aca9"
          ],
          [
           "Little Saint Nick - 1991 Remix",
           1577,
           "rock",
           "#36aca9"
          ],
          [
           "Little Saint Nick - 1991 Remix",
           1578,
           "rock",
           "#36aca9"
          ],
          [
           "Little Saint Nick - 1991 Remix",
           1579,
           "rock",
           "#36aca9"
          ],
          [
           "Little Saint Nick - 1991 Remix",
           1580,
           "rock",
           "#36aca9"
          ],
          [
           "Little Saint Nick - 1991 Remix",
           1581,
           "rock",
           "#36aca9"
          ],
          [
           "Little Saint Nick - 1991 Remix",
           1582,
           "rock",
           "#36aca9"
          ],
          [
           "Little Saint Nick - 1991 Remix",
           1583,
           "rock",
           "#36aca9"
          ],
          [
           "Little Saint Nick - 1991 Remix",
           1584,
           "rock",
           "#36aca9"
          ],
          [
           "Little Saint Nick - 1991 Remix",
           1585,
           "rock",
           "#36aca9"
          ],
          [
           "Little Saint Nick - 1991 Remix",
           1586,
           "rock",
           "#36aca9"
          ],
          [
           "Little Saint Nick - 1991 Remix",
           1588,
           "rock",
           "#36aca9"
          ],
          [
           "Little Saint Nick - 1991 Remix",
           1589,
           "rock",
           "#36aca9"
          ],
          [
           "Little Saint Nick - 1991 Remix",
           1590,
           "rock",
           "#36aca9"
          ],
          [
           "Little Saint Nick - 1991 Remix",
           1591,
           "rock",
           "#36aca9"
          ],
          [
           "Little Saint Nick - 1991 Remix",
           1592,
           "rock",
           "#36aca9"
          ],
          [
           "The Man With All The Toys - Mono Version",
           1598,
           "rock",
           "#36aca9"
          ],
          [
           "Little Saint Nick - 1991 Remix",
           1599,
           "rock",
           "#36aca9"
          ],
          [
           "Monster",
           1618,
           "rock",
           "#36aca9"
          ],
          [
           "Little Saint Nick - 1991 Remix",
           1625,
           "rock",
           "#36aca9"
          ],
          [
           "If I Had You",
           1626,
           "rock",
           "#36aca9"
          ],
          [
           "Little Saint Nick - 1991 Remix",
           1629,
           "rock",
           "#36aca9"
          ],
          [
           "Winter Wonderland",
           1630,
           "rock",
           "#36aca9"
          ],
          [
           "Winter Wonderland",
           1632,
           "rock",
           "#36aca9"
          ],
          [
           "Little Saint Nick - 1991 Remix",
           1635,
           "rock",
           "#36aca9"
          ],
          [
           "Little Saint Nick - 1991 Remix",
           1638,
           "rock",
           "#36aca9"
          ],
          [
           "Little Saint Nick - 1991 Remix",
           1641,
           "rock",
           "#36aca9"
          ],
          [
           "Little Saint Nick - 1991 Remix",
           1646,
           "rock",
           "#36aca9"
          ],
          [
           "Heartache On The Dance Floor",
           1666,
           "rock",
           "#36aca9"
          ],
          [
           "Winter Wonderland",
           1674,
           "rock",
           "#36aca9"
          ],
          [
           "Fill 'Er Up",
           1676,
           "rock",
           "#36aca9"
          ],
          [
           "Winter Wonderland",
           1678,
           "rock",
           "#36aca9"
          ],
          [
           "Winter Wonderland",
           1679,
           "rock",
           "#36aca9"
          ],
          [
           "Winter Wonderland",
           1683,
           "rock",
           "#36aca9"
          ],
          [
           "Winter Wonderland",
           1684,
           "rock",
           "#36aca9"
          ],
          [
           "Winter Wonderland",
           1691,
           "rock",
           "#36aca9"
          ],
          [
           "Winter Wonderland",
           1692,
           "rock",
           "#36aca9"
          ],
          [
           "Winter Wonderland",
           1693,
           "rock",
           "#36aca9"
          ],
          [
           "Winter Wonderland",
           1697,
           "rock",
           "#36aca9"
          ],
          [
           "Merry Christmas, Kiss My Ass",
           1737,
           "rock",
           "#36aca9"
          ],
          [
           "Merry Christmas, Kiss My Ass",
           1738,
           "rock",
           "#36aca9"
          ],
          [
           "Merry Christmas, Kiss My Ass",
           1739,
           "rock",
           "#36aca9"
          ],
          [
           "Hot Blooded",
           1784,
           "rock",
           "#36aca9"
          ],
          [
           "Zombie Zoo",
           1829,
           "rock",
           "#36aca9"
          ],
          [
           "Zombie Zoo",
           1831,
           "rock",
           "#36aca9"
          ],
          [
           "Zombie Zoo",
           1835,
           "rock",
           "#36aca9"
          ],
          [
           "Zombie Zoo",
           1836,
           "rock",
           "#36aca9"
          ],
          [
           "I Won't Back Down",
           1844,
           "rock",
           "#36aca9"
          ],
          [
           "Bonfire Heart",
           1870,
           "rock",
           "#36aca9"
          ],
          [
           "Bonfire Heart",
           1873,
           "rock",
           "#36aca9"
          ],
          [
           "Dancing On The Ceiling",
           1928,
           "rock",
           "#36aca9"
          ],
          [
           "Dancing On The Ceiling",
           1940,
           "rock",
           "#36aca9"
          ],
          [
           "Angel - Metro Mix Radio Edit",
           1942,
           "rock",
           "#36aca9"
          ],
          [
           "Getting Ready For Christmas Day",
           1948,
           "rock",
           "#36aca9"
          ],
          [
           "It's Not My Time - Acoustic",
           1978,
           "rock",
           "#36aca9"
          ]
         ],
         "hovertemplate": "track_name=%{customdata[0]}<br>index=%{customdata[1]}<br>track_genre=%{customdata[2]}<extra></extra>",
         "legendgroup": "",
         "marker": {
          "color": "#36aca9",
          "opacity": 0.8,
          "size": 10,
          "symbol": "circle"
         },
         "mode": "markers",
         "name": "",
         "showlegend": false,
         "type": "scattergl",
         "x": [
          21538.133969853254,
          1405.1341518538247,
          -24674.86580574888,
          -24511.865736377455,
          -68273.86569209685,
          -68273.86576945,
          -68273.86576945,
          -24021.86545529423,
          -24021.86568735371,
          -68247.86552097916,
          -72434.86548039,
          -12327.865662707045,
          145618.13404724287,
          145618.13385385997,
          145618.13385385997,
          145618.13393121312,
          12978.134191454184,
          12978.134191454184,
          12978.134191454184,
          12978.134191454184,
          12978.134191454184,
          12978.134191454184,
          146018.1338499774,
          -94651.86548757242,
          -34170.86584998178,
          -40621.86570620185,
          -15367.86576574127,
          -34170.86584998178,
          18992.13412234097,
          18992.134083664394,
          12552.13420821575,
          50115.1339457666,
          58032.133935934224,
          -16034.865673030203,
          -113287.86556710549,
          -113287.86556710549,
          -113287.86556710549,
          -113287.86556710549,
          -113287.86556710549,
          -113287.86556710549,
          -113287.86556710549,
          -113287.86556710549,
          -113287.86556710549,
          -113287.86556710549,
          -140941.86555487927,
          -113287.86556710549,
          -113287.86556710549,
          -113287.86556710549,
          -113287.86556710549,
          -113287.86556710549,
          -113287.86556710549,
          -113287.86556710549,
          -113287.86556710549,
          -113287.86556710549,
          -113287.86556710549,
          -113287.86556710549,
          -113287.86556710549,
          -113287.86556710549,
          -113287.86556710549,
          -113287.86556710549,
          -113287.86556710549,
          -113287.86556710549,
          -113287.86556710549,
          -113287.86556710549,
          -136980.86556850793,
          -113287.86556710549,
          -54114.86576299847,
          -113287.86552842891,
          26165.133998837468,
          -113287.86556710549,
          -88901.86549196861,
          -88901.86549196861,
          -113287.86556710549,
          -113287.86556710549,
          -113287.86556710549,
          -113287.86556710549,
          -26927.865659484407,
          -88901.86549196861,
          -63615.86574192057,
          -88901.86549196861,
          -88901.86549196861,
          -88901.865453292,
          -88901.86549196861,
          -88901.86549196861,
          -88901.86549196861,
          -88901.86549196861,
          -88901.86549196861,
          -32874.86574904021,
          -32874.86567168703,
          -32874.86574904021,
          -47221.86557462436,
          -53621.86555455308,
          -53621.86555455308,
          -53621.86555455308,
          -53621.86559322965,
          -56754.86551980485,
          5872.13424340848,
          5872.134282085055,
          40152.13403837313,
          40152.133999696525,
          -9087.865830818715,
          13378.134157317138,
          6245.134143646865
         ],
         "xaxis": "x",
         "y": [
          -76.31896030198777,
          -74.23531743023702,
          -72.38543145302476,
          -72.13214845883977,
          -69.11792025575437,
          -69.79357231204378,
          -69.79357231204378,
          -69.84550866635465,
          -71.87246483522287,
          -68.46096923775977,
          -67.89497261945426,
          -72.00611930227385,
          -82.39812478615468,
          -84.0872549268782,
          -84.0872549268782,
          -83.4116028705888,
          -74.70487740407663,
          -74.70487740407663,
          -74.70487740407663,
          -74.70487740407663,
          -74.70487740407663,
          -74.70487740407663,
          -84.16127140966199,
          -66.60947116142707,
          -72.17910277698597,
          -70.76881331574606,
          -72.65132199973873,
          -72.17910277698597,
          -75.2932121307458,
          -75.6310381588905,
          -74.3883341323869,
          -78.23581915752101,
          -78.48869349776749,
          -72.31705239811795,
          -65.96065655111671,
          -65.96065655111671,
          -65.96065655111671,
          -65.96065655111671,
          -65.96065655111671,
          -65.96065655111671,
          -65.96065655111671,
          -65.96065655111671,
          -65.96065655111671,
          -65.96065655111671,
          -64.34508938762804,
          -65.96065655111671,
          -65.96065655111671,
          -65.96065655111671,
          -65.96065655111671,
          -65.96065655111671,
          -65.96065655111671,
          -65.96065655111671,
          -65.96065655111671,
          -65.96065655111671,
          -65.96065655111671,
          -65.96065655111671,
          -65.96065655111671,
          -65.96065655111671,
          -65.96065655111671,
          -65.96065655111671,
          -65.96065655111671,
          -65.96065655111671,
          -65.96065655111671,
          -65.96065655111671,
          -64.61054241836862,
          -65.96065655111671,
          -70.59604076786945,
          -65.62283052297201,
          -76.29688678175762,
          -65.96065655111671,
          -67.09936558207784,
          -67.09936558207784,
          -65.96065655111671,
          -65.96065655111671,
          -65.96065655111671,
          -65.96065655111671,
          -71.57801620997228,
          -67.09936558207784,
          -69.86963395447572,
          -67.09936558207784,
          -67.09936558207784,
          -66.76153955393313,
          -67.09936558207784,
          -67.09936558207784,
          -67.09936558207784,
          -67.09936558207784,
          -67.09936558207784,
          -71.77741952621318,
          -71.10176746992377,
          -71.77741952621318,
          -69.82552147958916,
          -69.22385882554542,
          -69.22385882554542,
          -69.22385882554542,
          -69.56168485369012,
          -68.8874833954942,
          -74.05691571095728,
          -73.71908968281258,
          -77.00078678332594,
          -77.33861281147064,
          -73.43139502181323,
          -74.89177608903927,
          -74.57081853643149
         ],
         "yaxis": "y"
        },
        {
         "customdata": [
          [
           "Alice (Não me escreva aquela carta de amor)",
           92,
           "mpb",
           "#c67cf4"
          ],
          [
           "Living In A Ghost Town - Alok Remix",
           1198,
           "rock",
           "#c67cf4"
          ],
          [
           "Azul",
           1464,
           "rock",
           "#c67cf4"
          ],
          [
           "Street Player",
           1872,
           "rock",
           "#c67cf4"
          ]
         ],
         "hovertemplate": "track_name=%{customdata[0]}<br>index=%{customdata[1]}<br>track_genre=%{customdata[2]}<extra></extra>",
         "legendgroup": "",
         "marker": {
          "color": "#c67cf4",
          "opacity": 0.8,
          "size": 10,
          "symbol": "circle"
         },
         "mode": "markers",
         "name": "",
         "showlegend": false,
         "type": "scattergl",
         "x": [
          -43621.86437795736,
          -23147.8639190853,
          -37621.86362015121,
          318578.1351828879
         ],
         "xaxis": "x",
         "y": [
          -46.24006555439378,
          -45.031523741891064,
          -42.589139314575824,
          -69.43476105911137
         ],
         "yaxis": "y"
        },
        {
         "customdata": [
          [
           "Lágrimas e chuva",
           95,
           "mpb",
           "#7898f4"
          ]
         ],
         "hovertemplate": "track_name=%{customdata[0]}<br>index=%{customdata[1]}<br>track_genre=%{customdata[2]}<extra></extra>",
         "legendgroup": "",
         "marker": {
          "color": "#7898f4",
          "opacity": 0.8,
          "size": 10,
          "symbol": "circle"
         },
         "mode": "markers",
         "name": "",
         "showlegend": false,
         "type": "scattergl",
         "x": [
          41298.13534941652
         ],
         "xaxis": "x",
         "y": [
          -58.03970063662071
         ],
         "yaxis": "y"
        },
        {
         "customdata": [
          [
           "Não vou me adaptar",
           97,
           "mpb",
           "#37a9bf"
          ],
          [
           "Segredo",
           887,
           "mpb",
           "#37a9bf"
          ]
         ],
         "hovertemplate": "track_name=%{customdata[0]}<br>index=%{customdata[1]}<br>track_genre=%{customdata[2]}<extra></extra>",
         "legendgroup": "",
         "marker": {
          "color": "#37a9bf",
          "opacity": 0.8,
          "size": 10,
          "symbol": "circle"
         },
         "mode": "markers",
         "name": "",
         "showlegend": false,
         "type": "scattergl",
         "x": [
          -10394.864933006756,
          -27527.865712438303
         ],
         "xaxis": "x",
         "y": [
          -64.37887125023849,
          -67.58514721773139
         ],
         "yaxis": "y"
        },
        {
         "customdata": [
          [
           "Teletema",
           98,
           "mpb",
           "#5c9df4"
          ],
          [
           "Na rua, na chuva, na fazenda (Casinha de sapé)",
           99,
           "mpb",
           "#5c9df4"
          ],
          [
           "Leave the City",
           1116,
           "rock",
           "#5c9df4"
          ],
          [
           "Gimme Shelter",
           1195,
           "rock",
           "#5c9df4"
          ]
         ],
         "hovertemplate": "track_name=%{customdata[0]}<br>index=%{customdata[1]}<br>track_genre=%{customdata[2]}<extra></extra>",
         "legendgroup": "",
         "marker": {
          "color": "#5c9df4",
          "opacity": 0.8,
          "size": 10,
          "symbol": "circle"
         },
         "mode": "markers",
         "name": "",
         "showlegend": false,
         "type": "scattergl",
         "x": [
          29231.13525802418,
          -7754.864798076771,
          48365.13508786162,
          38645.13528154924
         ],
         "xaxis": "x",
         "y": [
          -59.033914303704464,
          -57.23101117535264,
          -61.05535741338494,
          -59.538654113001215
         ],
         "yaxis": "y"
        },
        {
         "customdata": [
          [
           "Como Nossos Pais",
           145,
           "mpb",
           "#36aab5"
          ],
          [
           "Army Dreamers",
           1281,
           "rock",
           "#36aab5"
          ]
         ],
         "hovertemplate": "track_name=%{customdata[0]}<br>index=%{customdata[1]}<br>track_genre=%{customdata[2]}<extra></extra>",
         "legendgroup": "",
         "marker": {
          "color": "#36aab5",
          "opacity": 0.8,
          "size": 10,
          "symbol": "circle"
         },
         "mode": "markers",
         "name": "",
         "showlegend": false,
         "type": "scattergl",
         "x": [
          29472.134176840074,
          -58101.86546439325
         ],
         "xaxis": "x",
         "y": [
          -73.3292087332632,
          -65.84592401720076
         ],
         "yaxis": "y"
        },
        {
         "customdata": [
          [
           "Beguine dodói",
           146,
           "mpb",
           "#75ab31"
          ]
         ],
         "hovertemplate": "track_name=%{customdata[0]}<br>index=%{customdata[1]}<br>track_genre=%{customdata[2]}<extra></extra>",
         "legendgroup": "",
         "marker": {
          "color": "#75ab31",
          "opacity": 0.8,
          "size": 10,
          "symbol": "circle"
         },
         "mode": "markers",
         "name": "",
         "showlegend": false,
         "type": "scattergl",
         "x": [
          -97154.86689002253
         ],
         "xaxis": "x",
         "y": [
          -87.68992133096869
         ],
         "yaxis": "y"
        },
        {
         "customdata": [
          [
           "Maior abandonado (Ao Vivo) - Live",
           147,
           "mpb",
           "#9f8df4"
          ],
          [
           "Paint It, Black",
           1191,
           "rock",
           "#9f8df4"
          ],
          [
           "Rough Boy",
           1783,
           "rock",
           "#9f8df4"
          ]
         ],
         "hovertemplate": "track_name=%{customdata[0]}<br>index=%{customdata[1]}<br>track_genre=%{customdata[2]}<extra></extra>",
         "legendgroup": "",
         "marker": {
          "color": "#9f8df4",
          "opacity": 0.8,
          "size": 10,
          "symbol": "circle"
         },
         "mode": "markers",
         "name": "",
         "showlegend": false,
         "type": "scattergl",
         "x": [
          -68434.86427725601,
          -7994.864533058717,
          55298.1352610148
         ],
         "xaxis": "x",
         "y": [
          -47.36046160947484,
          -51.94546638446409,
          -56.834627929970885
         ],
         "yaxis": "y"
        },
        {
         "customdata": [
          [
           "Dezesseis / Música Incidental: ''Strawberry Fields Forever''",
           193,
           "mpb",
           "#f569b6"
          ]
         ],
         "hovertemplate": "track_name=%{customdata[0]}<br>index=%{customdata[1]}<br>track_genre=%{customdata[2]}<extra></extra>",
         "legendgroup": "",
         "marker": {
          "color": "#f569b6",
          "opacity": 0.8,
          "size": 10,
          "symbol": "circle"
         },
         "mode": "markers",
         "name": "",
         "showlegend": false,
         "type": "scattergl",
         "x": [
          91712.13827405148
         ],
         "xaxis": "x",
         "y": [
          -24.94744354049668
         ],
         "yaxis": "y"
        },
        {
         "customdata": [
          [
           "Todo sujo de batom",
           248,
           "mpb",
           "#31b33b"
          ],
          [
           "Postcards",
           1861,
           "rock",
           "#31b33b"
          ]
         ],
         "hovertemplate": "track_name=%{customdata[0]}<br>index=%{customdata[1]}<br>track_genre=%{customdata[2]}<extra></extra>",
         "legendgroup": "",
         "marker": {
          "color": "#31b33b",
          "opacity": 0.8,
          "size": 10,
          "symbol": "circle"
         },
         "mode": "markers",
         "name": "",
         "showlegend": false,
         "type": "scattergl",
         "x": [
          27005.13315545689,
          54845.13323326857
         ],
         "xaxis": "x",
         "y": [
          -91.85130726048902,
          -92.58226593582326
         ],
         "yaxis": "y"
        },
        {
         "customdata": [
          [
           "Independência",
           422,
           "mpb",
           "#f66d9f"
          ],
          [
           "Vou Deixar Que Você Se Vá",
           840,
           "mpb",
           "#f66d9f"
          ]
         ],
         "hovertemplate": "track_name=%{customdata[0]}<br>index=%{customdata[1]}<br>track_genre=%{customdata[2]}<extra></extra>",
         "legendgroup": "",
         "marker": {
          "color": "#f66d9f",
          "opacity": 0.8,
          "size": 10,
          "symbol": "circle"
         },
         "mode": "markers",
         "name": "",
         "showlegend": false,
         "type": "scattergl",
         "x": [
          -47434.86126580837,
          -40624.86129659446
         ],
         "xaxis": "x",
         "y": [
          -12.360506004701392,
          -13.268740097266914
         ],
         "yaxis": "y"
        },
        {
         "customdata": [
          [
           "Atrás da porta",
           491,
           "mpb",
           "#7da931"
          ]
         ],
         "hovertemplate": "track_name=%{customdata[0]}<br>index=%{customdata[1]}<br>track_genre=%{customdata[2]}<extra></extra>",
         "legendgroup": "",
         "marker": {
          "color": "#7da931",
          "opacity": 0.8,
          "size": 10,
          "symbol": "circle"
         },
         "mode": "markers",
         "name": "",
         "showlegend": false,
         "type": "scattergl",
         "x": [
          53072.13295843877
         ],
         "xaxis": "x",
         "y": [
          -97.91006044994609
         ],
         "yaxis": "y"
        },
        {
         "customdata": [
          [
           "Lá vou eu",
           493,
           "mpb",
           "#36abb2"
          ]
         ],
         "hovertemplate": "track_name=%{customdata[0]}<br>index=%{customdata[1]}<br>track_genre=%{customdata[2]}<extra></extra>",
         "legendgroup": "",
         "marker": {
          "color": "#36abb2",
          "opacity": 0.8,
          "size": 10,
          "symbol": "circle"
         },
         "mode": "markers",
         "name": "",
         "showlegend": false,
         "type": "scattergl",
         "x": [
          24552.134255914192
         ],
         "xaxis": "x",
         "y": [
          -73.15153970209636
         ],
         "yaxis": "y"
        },
        {
         "customdata": [
          [
           "Pra jogar no oceano",
           890,
           "mpb",
           "#31b24f"
          ],
          [
           "It's Uncanny",
           1616,
           "rock",
           "#31b24f"
          ]
         ],
         "hovertemplate": "track_name=%{customdata[0]}<br>index=%{customdata[1]}<br>track_genre=%{customdata[2]}<extra></extra>",
         "legendgroup": "",
         "marker": {
          "color": "#31b24f",
          "opacity": 0.8,
          "size": 10,
          "symbol": "circle"
         },
         "mode": "markers",
         "name": "",
         "showlegend": false,
         "type": "scattergl",
         "x": [
          -6167.866603791568,
          -7674.866695677396
         ],
         "xaxis": "x",
         "y": [
          -88.01195691904233,
          -88.47569076213806
         ],
         "yaxis": "y"
        },
        {
         "customdata": [
          [
           "I Ain't Worried",
           1019,
           "rock",
           "#8d93f4"
          ],
          [
           "Thunder",
           1023,
           "rock",
           "#8d93f4"
          ],
          [
           "Thunder",
           1024,
           "rock",
           "#8d93f4"
          ],
          [
           "Thunder",
           1025,
           "rock",
           "#8d93f4"
          ],
          [
           "Thunder",
           1027,
           "rock",
           "#8d93f4"
          ],
          [
           "Thunder",
           1033,
           "rock",
           "#8d93f4"
          ],
          [
           "Thunder",
           1035,
           "rock",
           "#8d93f4"
          ],
          [
           "Thunder",
           1036,
           "rock",
           "#8d93f4"
          ],
          [
           "I Ain't Worried",
           1055,
           "rock",
           "#8d93f4"
          ],
          [
           "I Ain't Worried",
           1056,
           "rock",
           "#8d93f4"
          ],
          [
           "I Ain't Worried",
           1057,
           "rock",
           "#8d93f4"
          ],
          [
           "Tippa My Tongue",
           1074,
           "rock",
           "#8d93f4"
          ],
          [
           "Tippa My Tongue",
           1096,
           "rock",
           "#8d93f4"
          ],
          [
           "Eddie",
           1098,
           "rock",
           "#8d93f4"
          ],
          [
           "By the Way",
           1099,
           "rock",
           "#8d93f4"
          ],
          [
           "Tippa My Tongue",
           1118,
           "rock",
           "#8d93f4"
          ],
          [
           "Tippa My Tongue",
           1128,
           "rock",
           "#8d93f4"
          ],
          [
           "Blue Christmas",
           1132,
           "rock",
           "#8d93f4"
          ],
          [
           "Tippa My Tongue",
           1133,
           "rock",
           "#8d93f4"
          ],
          [
           "Go Your Own Way - 2018 Remaster",
           1139,
           "rock",
           "#8d93f4"
          ],
          [
           "Go Your Own Way - 2018 Remaster",
           1146,
           "rock",
           "#8d93f4"
          ],
          [
           "Fortunate Son",
           1147,
           "rock",
           "#8d93f4"
          ],
          [
           "What's My Age Again?",
           1186,
           "rock",
           "#8d93f4"
          ],
          [
           "Fool To Cry - Remastered 2009",
           1194,
           "rock",
           "#8d93f4"
          ],
          [
           "Start Me Up - Remastered 2009",
           1196,
           "rock",
           "#8d93f4"
          ],
          [
           "Too Much Blood - Remastered",
           1199,
           "rock",
           "#8d93f4"
          ],
          [
           "Bad Blood",
           1279,
           "rock",
           "#8d93f4"
          ],
          [
           "Jive Talkin' - From \"Saturday Night Fever\" Soundtrack",
           1299,
           "rock",
           "#8d93f4"
          ],
          [
           "More Than A Woman - SG's Paradise Edit",
           1312,
           "rock",
           "#8d93f4"
          ],
          [
           "More Than A Woman - SG's Paradise Edit",
           1314,
           "rock",
           "#8d93f4"
          ],
          [
           "Can't Stand Losing You - Remastered 2003",
           1348,
           "rock",
           "#8d93f4"
          ],
          [
           "Bonnie & Clyde",
           1367,
           "rock",
           "#8d93f4"
          ],
          [
           "Hermosa Ingrata",
           1432,
           "rock",
           "#8d93f4"
          ],
          [
           "Arrullo De Estrellas",
           1477,
           "rock",
           "#8d93f4"
          ],
          [
           "Simple Life",
           1479,
           "rock",
           "#8d93f4"
          ],
          [
           "Simple Life",
           1485,
           "rock",
           "#8d93f4"
          ],
          [
           "skip.that.party",
           1614,
           "rock",
           "#8d93f4"
          ],
          [
           "Maggie May",
           1617,
           "rock",
           "#8d93f4"
          ],
          [
           "Keep My Name Outta Your Mouth",
           1644,
           "rock",
           "#8d93f4"
          ],
          [
           "Street Fighting Man",
           1685,
           "rock",
           "#8d93f4"
          ],
          [
           "Don't Lose Your Head",
           1789,
           "rock",
           "#8d93f4"
          ],
          [
           "Psycho Killer - 2005 Remaster",
           1841,
           "rock",
           "#8d93f4"
          ],
          [
           "Psycho Killer - 2005 Remaster",
           1847,
           "rock",
           "#8d93f4"
          ],
          [
           "Seventeen Going Under",
           1982,
           "rock",
           "#8d93f4"
          ],
          [
           "Take On Me - Kygo Remix",
           1984,
           "rock",
           "#8d93f4"
          ]
         ],
         "hovertemplate": "track_name=%{customdata[0]}<br>index=%{customdata[1]}<br>track_genre=%{customdata[2]}<extra></extra>",
         "legendgroup": "",
         "marker": {
          "color": "#8d93f4",
          "opacity": 0.8,
          "size": 10,
          "symbol": "circle"
         },
         "mode": "markers",
         "name": "",
         "showlegend": false,
         "type": "scattergl",
         "x": [
          -83642.86432432424,
          -44981.864546363795,
          -44981.864546363795,
          -44981.864623716974,
          -44981.864701070124,
          -44981.864701070124,
          -44981.864701070124,
          -44981.86450768722,
          -83642.86432432424,
          -83642.86428564764,
          -83642.86424697106,
          28680.13600426563,
          28680.1358495593,
          109858.13509827404,
          -16461.86427653022,
          28680.135965589026,
          28680.1358495593,
          -104047.86383641836,
          28680.1358495593,
          -13101.864492791821,
          -13101.864454115246,
          -91354.86423438197,
          -83767.86435160416,
          73792.13527113211,
          -19061.86430414449,
          142112.1352600514,
          -19887.864540642506,
          -6727.864181029116,
          125808.1354841165,
          125808.13540676335,
          -53701.86443024999,
          -38047.864238134585,
          -50287.86399001832,
          20858.135976626305,
          -35021.8641598862,
          -35021.86419856278,
          -595.8646696150245,
          112458.13526368473,
          -42771.86391135951,
          75738.13523925835,
          10178.135645871691,
          29285.135554778593,
          29285.13551610202,
          70232.13507008925,
          -5461.8649452402315
         ],
         "xaxis": "x",
         "y": [
          -47.97354249262328,
          -50.90837744424107,
          -50.90837744424107,
          -51.58402950053048,
          -52.259681556819885,
          -52.259681556819885,
          -52.259681556819885,
          -50.570551416096365,
          -47.97354249262328,
          -47.63571646447858,
          -47.29789043633387,
          -52.162351244648946,
          -53.51365535722776,
          -62.22944939889147,
          -51.42217395223535,
          -52.50017727279365,
          -53.51365535722776,
          -44.11181583860213,
          -53.51365535722776,
          -52.92268867692549,
          -52.58486264878079,
          -47.01670334475968,
          -47.51275008565816,
          -59.21424987575659,
          -51.47351056384844,
          -63.26166727811599,
          -52.79851029237198,
          -51.50305408686323,
          -60.846793187630894,
          -61.522445243920295,
          -50.27268092285317,
          -50.16732234869786,
          -48.03823643582756,
          -52.240712150912465,
          -49.769274363313784,
          -50.10710039145849,
          -54.539211371055664,
          -61.4160606697879,
          -48.062347895978654,
          -59.454571947236474,
          -53.56267914540492,
          -54.992242817883586,
          -55.33006884602829,
          -60.03070278126963,
          -55.76028402662674
         ],
         "yaxis": "y"
        },
        {
         "customdata": [
          [
           "Bones",
           1021,
           "rock",
           "#35ad9e"
          ],
          [
           "Rescue Me",
           1063,
           "rock",
           "#35ad9e"
          ],
          [
           "Counting Stars",
           1066,
           "rock",
           "#35ad9e"
          ],
          [
           "Run",
           1070,
           "rock",
           "#35ad9e"
          ],
          [
           "Run",
           1072,
           "rock",
           "#35ad9e"
          ],
          [
           "Counting Stars",
           1077,
           "rock",
           "#35ad9e"
          ],
          [
           "Counting Stars",
           1080,
           "rock",
           "#35ad9e"
          ],
          [
           "Counting Stars",
           1082,
           "rock",
           "#35ad9e"
          ],
          [
           "What Happens After You?",
           1440,
           "rock",
           "#35ad9e"
          ],
          [
           "People Are Strange",
           1497,
           "rock",
           "#35ad9e"
          ],
          [
           "Bella Luna",
           1662,
           "rock",
           "#35ad9e"
          ],
          [
           "Infinity",
           1703,
           "rock",
           "#35ad9e"
          ],
          [
           "Infinity",
           1704,
           "rock",
           "#35ad9e"
          ],
          [
           "Infinity",
           1705,
           "rock",
           "#35ad9e"
          ],
          [
           "Are You Bored Yet?",
           1706,
           "rock",
           "#35ad9e"
          ],
          [
           "Infinity",
           1707,
           "rock",
           "#35ad9e"
          ],
          [
           "Infinity",
           1709,
           "rock",
           "#35ad9e"
          ],
          [
           "Infinity",
           1711,
           "rock",
           "#35ad9e"
          ],
          [
           "Infinity",
           1714,
           "rock",
           "#35ad9e"
          ],
          [
           "Infinity",
           1715,
           "rock",
           "#35ad9e"
          ],
          [
           "Jingle Bell Rock",
           1740,
           "rock",
           "#35ad9e"
          ]
         ],
         "hovertemplate": "track_name=%{customdata[0]}<br>index=%{customdata[1]}<br>track_genre=%{customdata[2]}<extra></extra>",
         "legendgroup": "",
         "marker": {
          "color": "#35ad9e",
          "opacity": 0.8,
          "size": 10,
          "symbol": "circle"
         },
         "mode": "markers",
         "name": "",
         "showlegend": false,
         "type": "scattergl",
         "x": [
          -66863.86565873286,
          -72477.86580216768,
          24632.1340531288,
          -63117.86582866567,
          -63117.86582866567,
          24632.13389842247,
          24632.13389842247,
          24632.13389842247,
          -32535.865964908036,
          -101954.8657302224,
          70218.13380864315,
          5592.1339322243,
          5592.133970900904,
          5592.1339322243,
          -54127.8658760165,
          5592.1339322243,
          5592.1339322243,
          5592.1339322243,
          5592.1339322243,
          5592.1339322243,
          -99634.86571237937
         ],
         "xaxis": "x",
         "y": [
          -71.30942072832508,
          -71.88936284974285,
          -78.05890206324214,
          -72.69776981661985,
          -72.69776981661985,
          -79.41020617582096,
          -79.41020617582096,
          -79.41020617582096,
          -75.24823696248842,
          -69.9665870703659,
          -82.24455984769054,
          -77.99129523052257,
          -77.65346920237786,
          -77.99129523052257,
          -73.53009469096182,
          -77.99129523052257,
          -77.99129523052257,
          -77.99129523052257,
          -77.99129523052257,
          -77.99129523052257,
          -69.91976786317292
         ],
         "yaxis": "y"
        },
        {
         "customdata": [
          [
           "Follow You",
           1028,
           "rock",
           "#be9631"
          ],
          [
           "Don't Let the Light Go Out",
           1115,
           "rock",
           "#be9631"
          ],
          [
           "Don't Let the Light Go Out",
           1117,
           "rock",
           "#be9631"
          ],
          [
           "Viva Las Vengeance",
           1120,
           "rock",
           "#be9631"
          ],
          [
           "Viva Las Vengeance",
           1157,
           "rock",
           "#be9631"
          ],
          [
           "Viva Las Vengeance",
           1158,
           "rock",
           "#be9631"
          ],
          [
           "Don't Let the Light Go Out",
           1159,
           "rock",
           "#be9631"
          ],
          [
           "Don't Let the Light Go Out",
           1160,
           "rock",
           "#be9631"
          ],
          [
           "Middle of a Breakup",
           1161,
           "rock",
           "#be9631"
          ],
          [
           "Don't Let the Light Go Out",
           1162,
           "rock",
           "#be9631"
          ],
          [
           "Don't Let the Light Go Out",
           1163,
           "rock",
           "#be9631"
          ],
          [
           "Don't Let the Light Go Out",
           1164,
           "rock",
           "#be9631"
          ],
          [
           "Don't Let the Light Go Out",
           1167,
           "rock",
           "#be9631"
          ],
          [
           "Don't Let the Light Go Out",
           1168,
           "rock",
           "#be9631"
          ],
          [
           "Middle of a Breakup",
           1170,
           "rock",
           "#be9631"
          ],
          [
           "I Won't Be Home For Christmas",
           1171,
           "rock",
           "#be9631"
          ],
          [
           "Viva Las Vengeance",
           1173,
           "rock",
           "#be9631"
          ],
          [
           "Ghost On The Dance Floor",
           1174,
           "rock",
           "#be9631"
          ],
          [
           "Ghost On The Dance Floor",
           1175,
           "rock",
           "#be9631"
          ],
          [
           "Don't Let the Light Go Out",
           1176,
           "rock",
           "#be9631"
          ],
          [
           "Middle of a Breakup",
           1177,
           "rock",
           "#be9631"
          ],
          [
           "Ghost On The Dance Floor",
           1178,
           "rock",
           "#be9631"
          ],
          [
           "Viva Las Vengeance",
           1181,
           "rock",
           "#be9631"
          ],
          [
           "I Won't Be Home For Christmas",
           1182,
           "rock",
           "#be9631"
          ],
          [
           "Don't Let the Light Go Out",
           1183,
           "rock",
           "#be9631"
          ],
          [
           "Mary On A Cross",
           1207,
           "rock",
           "#be9631"
          ],
          [
           "Mary On A Cross",
           1208,
           "rock",
           "#be9631"
          ],
          [
           "Mary On A Cross",
           1209,
           "rock",
           "#be9631"
          ],
          [
           "Mary On A Cross",
           1211,
           "rock",
           "#be9631"
          ],
          [
           "Mary On A Cross",
           1212,
           "rock",
           "#be9631"
          ],
          [
           "Square Hammer",
           1213,
           "rock",
           "#be9631"
          ],
          [
           "Square Hammer",
           1214,
           "rock",
           "#be9631"
          ],
          [
           "Square Hammer",
           1215,
           "rock",
           "#be9631"
          ],
          [
           "Square Hammer",
           1219,
           "rock",
           "#be9631"
          ],
          [
           "Dance Macabre",
           1232,
           "rock",
           "#be9631"
          ],
          [
           "Dance Macabre",
           1233,
           "rock",
           "#be9631"
          ],
          [
           "Dance Macabre",
           1234,
           "rock",
           "#be9631"
          ],
          [
           "Animals",
           1327,
           "rock",
           "#be9631"
          ],
          [
           "Ohms",
           1337,
           "rock",
           "#be9631"
          ],
          [
           "Ohms",
           1340,
           "rock",
           "#be9631"
          ],
          [
           "Run To You",
           1366,
           "rock",
           "#be9631"
          ],
          [
           "Records",
           1380,
           "rock",
           "#be9631"
          ],
          [
           "How Soon Is Now?",
           1390,
           "rock",
           "#be9631"
          ],
          [
           "Buddy Holly",
           1391,
           "rock",
           "#be9631"
          ],
          [
           "Creatures Of The Night",
           1392,
           "rock",
           "#be9631"
          ],
          [
           "My Name Is Jonas",
           1398,
           "rock",
           "#be9631"
          ],
          [
           "Records",
           1412,
           "rock",
           "#be9631"
          ],
          [
           "Records",
           1420,
           "rock",
           "#be9631"
          ],
          [
           "Buddy Holly",
           1421,
           "rock",
           "#be9631"
          ],
          [
           "Records",
           1429,
           "rock",
           "#be9631"
          ],
          [
           "Records",
           1435,
           "rock",
           "#be9631"
          ],
          [
           "Friday I'm In Love",
           1480,
           "rock",
           "#be9631"
          ],
          [
           "Rotting in Vain",
           1541,
           "rock",
           "#be9631"
          ],
          [
           "Rotting in Vain",
           1547,
           "rock",
           "#be9631"
          ],
          [
           "Feel Invincible",
           1621,
           "rock",
           "#be9631"
          ],
          [
           "Feel Invincible",
           1623,
           "rock",
           "#be9631"
          ],
          [
           "Yeah, I Like You",
           1811,
           "rock",
           "#be9631"
          ],
          [
           "Yeah, I Like You",
           1817,
           "rock",
           "#be9631"
          ],
          [
           "Yeah, I Like You",
           1818,
           "rock",
           "#be9631"
          ],
          [
           "Yeah, I Like You",
           1828,
           "rock",
           "#be9631"
          ],
          [
           "Are You Gonna Go My Way",
           1849,
           "rock",
           "#be9631"
          ],
          [
           "Rebel Yell",
           1878,
           "rock",
           "#be9631"
          ],
          [
           "Heaven Nor Hell",
           1894,
           "rock",
           "#be9631"
          ],
          [
           "human - Passion Pit Remix",
           1923,
           "rock",
           "#be9631"
          ],
          [
           "Spit Of You",
           1980,
           "rock",
           "#be9631"
          ],
          [
           "Final Breath",
           2044,
           "death-metal",
           "#be9631"
          ],
          [
           "Ignorance & Innocence",
           2091,
           "death-metal",
           "#be9631"
          ],
          [
           "Desecrator",
           2347,
           "death-metal",
           "#be9631"
          ]
         ],
         "hovertemplate": "track_name=%{customdata[0]}<br>index=%{customdata[1]}<br>track_genre=%{customdata[2]}<extra></extra>",
         "legendgroup": "",
         "marker": {
          "color": "#be9631",
          "opacity": 0.8,
          "size": 10,
          "symbol": "circle"
         },
         "mode": "markers",
         "name": "",
         "showlegend": false,
         "type": "scattergl",
         "x": [
          -56484.86799443158,
          -2610.86806443517,
          -2610.86806443517,
          -25547.86843622569,
          -25547.86843622569,
          -25547.868397549115,
          -2610.867793699086,
          -2610.868103111745,
          -32090.868320536305,
          -2610.86814178832,
          -2610.86814178832,
          -2610.868103111745,
          -2610.86814178832,
          -2610.86814178832,
          -32090.86835921291,
          -34034.86877883662,
          -25547.86843622569,
          25391.131903393252,
          25391.131903393252,
          -2610.86814178832,
          -32090.86835921291,
          25391.13205809958,
          -25547.86843622569,
          -34034.8688561898,
          -2610.868103111745,
          12676.131721407874,
          12676.131760084449,
          12676.131682731298,
          12676.131876114203,
          12676.131837437628,
          7165.131714336865,
          7165.131714336865,
          7165.131714336865,
          7165.131791690015,
          -12407.868202823563,
          -12407.868202823563,
          -12407.868202823563,
          -46221.867477064574,
          18094.131265924894,
          18094.131265924894,
          1245.1318002717744,
          -23207.86792752461,
          176045.13067367533,
          -72901.86790916405,
          10405.131821367395,
          -26007.868708584807,
          -23207.86777281828,
          -23207.86792752461,
          -72901.86798651723,
          -23207.86792752461,
          -23207.86792752461,
          -17727.868243435863,
          -19127.86798325469,
          -19127.86798325469,
          -2194.868225618673,
          -2194.868225618673,
          32338.131664056622,
          32338.131548026868,
          32338.131548026868,
          32338.131548026868,
          -20640.868177190714,
          56405.13129893207,
          90485.13147507817,
          69192.13162578305,
          40898.13212570915,
          -14756.868667439616,
          68245.13146149751,
          136712.1312906309
         ],
         "xaxis": "x",
         "y": [
          -104.8914273562546,
          -108.47299750021256,
          -108.47299750021256,
          -109.32583682596402,
          -109.32583682596402,
          -108.98801079781931,
          -106.10821530319964,
          -108.81082352835726,
          -108.19577147257296,
          -109.14864955650197,
          -109.14864955650197,
          -108.81082352835726,
          -109.14864955650197,
          -109.14864955650197,
          -108.53359750071766,
          -110.42007907648535,
          -109.32583682596402,
          -110.47109249921957,
          -110.47109249921957,
          -109.14864955650197,
          -108.53359750071766,
          -109.11978838664075,
          -109.32583682596402,
          -111.09573113277476,
          -108.81082352835726,
          -110.56843302219119,
          -110.2306069940465,
          -110.9062590503359,
          -109.21712890961238,
          -109.55495493775709,
          -110.49612861909917,
          -110.49612861909917,
          -110.49612861909917,
          -109.82047656280976,
          -108.83924712329453,
          -108.83924712329453,
          -108.83924712329453,
          -102.52252370340912,
          -113.54689294419371,
          -113.54689294419371,
          -109.5387530383869,
          -106.72359714442223,
          -125.6266788288938,
          -103.51257434102996,
          -109.94360189859617,
          -110.64964127625939,
          -105.37229303184341,
          -106.72359714442223,
          -104.18822639731937,
          -106.72359714442223,
          -106.72359714442223,
          -108.65382929035741,
          -107.34329132880637,
          -107.34329132880637,
          -109.61681734941303,
          -109.61681734941303,
          -111.85959351711546,
          -112.87307160154957,
          -112.87307160154957,
          -112.87307160154957,
          -108.0753083914628,
          -115.29234864768887,
          -116.4801520443348,
          -114.51108188836994,
          -109.93131835360087,
          -111.22290949331091,
          -115.31387358104541,
          -120.2093556143958
         ],
         "yaxis": "y"
        },
        {
         "customdata": [
          [
           "Scandal - Remastered 2011",
           1037,
           "rock",
           "#a78af4"
          ],
          [
           "The Hype",
           1126,
           "rock",
           "#a78af4"
          ],
          [
           "Wanted Dead Or Alive",
           1237,
           "rock",
           "#a78af4"
          ],
          [
           "Zombie",
           1523,
           "rock",
           "#a78af4"
          ],
          [
           "Zombie",
           1525,
           "rock",
           "#a78af4"
          ],
          [
           "Zombie",
           1527,
           "rock",
           "#a78af4"
          ],
          [
           "Zombie",
           1531,
           "rock",
           "#a78af4"
          ],
          [
           "Zombie",
           1532,
           "rock",
           "#a78af4"
          ],
          [
           "Zombie",
           1533,
           "rock",
           "#a78af4"
          ],
          [
           "Zombie",
           1534,
           "rock",
           "#a78af4"
          ],
          [
           "Zombie",
           1535,
           "rock",
           "#a78af4"
          ],
          [
           "Zombie",
           1537,
           "rock",
           "#a78af4"
          ],
          [
           "Zombie",
           1538,
           "rock",
           "#a78af4"
          ],
          [
           "Zombie",
           1543,
           "rock",
           "#a78af4"
          ],
          [
           "Zombie",
           1544,
           "rock",
           "#a78af4"
          ],
          [
           "Zombie",
           1545,
           "rock",
           "#a78af4"
          ],
          [
           "Zombie",
           1546,
           "rock",
           "#a78af4"
          ],
          [
           "Give A Little Bit",
           1798,
           "rock",
           "#a78af4"
          ],
          [
           "Give A Little Bit",
           1799,
           "rock",
           "#a78af4"
          ],
          [
           "It Ain't Over 'Til It's Over",
           1814,
           "rock",
           "#a78af4"
          ],
          [
           "Once in a Lifetime - 2005 Remaster",
           1845,
           "rock",
           "#a78af4"
          ],
          [
           "It Ain't Over 'Til It's Over",
           1865,
           "rock",
           "#a78af4"
          ]
         ],
         "hovertemplate": "track_name=%{customdata[0]}<br>index=%{customdata[1]}<br>track_genre=%{customdata[2]}<extra></extra>",
         "legendgroup": "",
         "marker": {
          "color": "#a78af4",
          "opacity": 0.8,
          "size": 10,
          "symbol": "circle"
         },
         "mode": "markers",
         "name": "",
         "showlegend": false,
         "type": "scattergl",
         "x": [
          50792.13595098589,
          33245.13603410608,
          76432.13538518158,
          75312.13516578061,
          75312.13516578061,
          75312.13524313376,
          75312.13520445721,
          75312.13516578061,
          75312.13516578061,
          75312.13516578061,
          75312.13516578061,
          75312.13520445721,
          75312.13520445721,
          75312.13516578061,
          75312.13516578061,
          75312.13516578061,
          75312.13516578061,
          16045.136059049517,
          16045.136097726092,
          10512.135439718317,
          27778.13576718906,
          10512.135401041742
         ],
         "xaxis": "x",
         "y": [
          -52.08029192035492,
          -50.962881013619196,
          -56.747401954298866,
          -58.08771242182609,
          -58.08771242182609,
          -57.41206036553668,
          -57.749886393681386,
          -58.08771242182609,
          -58.08771242182609,
          -58.08771242182609,
          -58.08771242182609,
          -57.749886393681386,
          -57.749886393681386,
          -58.08771242182609,
          -58.08771242182609,
          -58.08771242182609,
          -58.08771242182609,
          -49.90409285832965,
          -49.566266830184944,
          -52.72177186824904,
          -52.1301056794406,
          -53.05959789639375
         ],
         "yaxis": "y"
        },
        {
         "customdata": [
          [
           "House of Memories",
           1114,
           "rock",
           "#c29531"
          ],
          [
           "House of Memories",
           1155,
           "rock",
           "#c29531"
          ],
          [
           "I Miss You",
           1169,
           "rock",
           "#c29531"
          ],
          [
           "Somebody Told Me",
           1236,
           "rock",
           "#c29531"
          ],
          [
           "The Funeral",
           1467,
           "rock",
           "#c29531"
          ],
          [
           "The Funeral",
           1522,
           "rock",
           "#c29531"
          ],
          [
           "Surviving the Game",
           1619,
           "rock",
           "#c29531"
          ],
          [
           "Surviving the Game",
           1628,
           "rock",
           "#c29531"
          ],
          [
           "Symphony Of Destruction",
           1689,
           "rock",
           "#c29531"
          ],
          [
           "Symphony Of Destruction",
           1699,
           "rock",
           "#c29531"
          ],
          [
           "Blinding Lights",
           1732,
           "rock",
           "#c29531"
          ],
          [
           "Blinding Lights",
           1734,
           "rock",
           "#c29531"
          ],
          [
           "Blinding Lights",
           1735,
           "rock",
           "#c29531"
          ],
          [
           "Blinding Lights",
           1776,
           "rock",
           "#c29531"
          ],
          [
           "Blinding Lights",
           1777,
           "rock",
           "#c29531"
          ],
          [
           "Elegantly Wasted",
           1788,
           "rock",
           "#c29531"
          ],
          [
           "Iris",
           1810,
           "rock",
           "#c29531"
          ],
          [
           "The Devil's Bleeding Crown",
           1891,
           "rock",
           "#c29531"
          ],
          [
           "The Devil's Bleeding Crown",
           1892,
           "rock",
           "#c29531"
          ],
          [
           "The Devil's Bleeding Crown",
           1893,
           "rock",
           "#c29531"
          ],
          [
           "The Devil's Bleeding Crown",
           1895,
           "rock",
           "#c29531"
          ],
          [
           "Sorry Sack Of Bones",
           1897,
           "rock",
           "#c29531"
          ]
         ],
         "hovertemplate": "track_name=%{customdata[0]}<br>index=%{customdata[1]}<br>track_genre=%{customdata[2]}<extra></extra>",
         "legendgroup": "",
         "marker": {
          "color": "#c29531",
          "opacity": 0.8,
          "size": 10,
          "symbol": "circle"
         },
         "mode": "markers",
         "name": "",
         "showlegend": false,
         "type": "scattergl",
         "x": [
          -23421.868086100352,
          -23421.867970070627,
          -4314.867987131001,
          -31181.868293211563,
          -20930.867917688476,
          -20930.867917688476,
          6742.131893628102,
          6742.131893628102,
          14605.131529895094,
          14605.131529895094,
          -38976.868624417955,
          -38976.868624417955,
          -38976.86858574138,
          -38976.868624417955,
          -38976.86858574138,
          40378.13178427657,
          57778.13124404976,
          6525.131833520281,
          6525.131833520281,
          6525.131833520281,
          6525.131833520281,
          -3461.8687329398526
         ],
         "xaxis": "x",
         "y": [
          -108.16299469000985,
          -107.14951660557574,
          -108.19383128055395,
          -108.72999993626675,
          -107.45024776833861,
          -107.45024776833861,
          -110.07531252803399,
          -110.07531252803399,
          -112.48108682796637,
          -112.48108682796637,
          -110.21179741088257,
          -110.21179741088257,
          -109.87397138273786,
          -110.21179741088257,
          -109.87397138273786,
          -112.50032287437979,
          -116.45424363136615,
          -110.34183121143987,
          -110.34183121143987,
          -110.34183121143987,
          -110.34183121143987,
          -112.84195262133107
         ],
         "yaxis": "y"
        },
        {
         "customdata": [
          [
           "Higher Ground - Remastered",
           1130,
           "rock",
           "#b69931"
          ],
          [
           "Killing Inside",
           2299,
           "death-metal",
           "#b69931"
          ]
         ],
         "hovertemplate": "track_name=%{customdata[0]}<br>index=%{customdata[1]}<br>track_genre=%{customdata[2]}<extra></extra>",
         "legendgroup": "",
         "marker": {
          "color": "#b69931",
          "opacity": 0.8,
          "size": 10,
          "symbol": "circle"
         },
         "mode": "markers",
         "name": "",
         "showlegend": false,
         "type": "scattergl",
         "x": [
          -30074.868002802512,
          -24007.868266301695
         ],
         "xaxis": "x",
         "y": [
          -105.09455114374859,
          -107.36132226727626
         ],
         "yaxis": "y"
        },
        {
         "customdata": [
          [
           "Big Love - 2018 Remaster",
           1134,
           "rock",
           "#3ba2ef"
          ],
          [
           "Hello Mary Lou",
           1140,
           "rock",
           "#3ba2ef"
          ],
          [
           "Everywhere - 2018 Remaster",
           1141,
           "rock",
           "#3ba2ef"
          ],
          [
           "Hope For The Future",
           1272,
           "rock",
           "#3ba2ef"
          ],
          [
           "Hope For The Future",
           1276,
           "rock",
           "#3ba2ef"
          ],
          [
           "Wuthering Heights",
           1284,
           "rock",
           "#3ba2ef"
          ],
          [
           "The Man with the Child in His Eyes",
           1294,
           "rock",
           "#3ba2ef"
          ],
          [
           "Miro Por La Ventana - Remastered 2017",
           1791,
           "rock",
           "#3ba2ef"
          ],
          [
           "Iris - Acoustic",
           1809,
           "rock",
           "#3ba2ef"
          ]
         ],
         "hovertemplate": "track_name=%{customdata[0]}<br>index=%{customdata[1]}<br>track_genre=%{customdata[2]}<extra></extra>",
         "legendgroup": "",
         "marker": {
          "color": "#3ba2ef",
          "opacity": 0.8,
          "size": 10,
          "symbol": "circle"
         },
         "mode": "markers",
         "name": "",
         "showlegend": false,
         "type": "scattergl",
         "x": [
          -9754.864715007105,
          -97687.86429182056,
          -8874.86468430201,
          -19261.86499065548,
          -19261.8649133023,
          -26554.86471380564,
          -71501.86422483152,
          -54714.86488739148,
          -26527.864893939375
         ],
         "xaxis": "x",
         "y": [
          -57.53201971221888,
          -50.330289395924815,
          -57.72523163165783,
          -58.792732126904845,
          -58.11708007061544,
          -56.89833394947841,
          -51.61549177370243,
          -56.12888848767465,
          -57.25802534206515
         ],
         "yaxis": "y"
        },
        {
         "customdata": [
          [
           "Tusk - 2018 Remaster",
           1142,
           "rock",
           "#cd78f4"
          ],
          [
           "Burn The Witch",
           1786,
           "rock",
           "#cd78f4"
          ],
          [
           "The Devil's Orchard",
           2045,
           "death-metal",
           "#cd78f4"
          ]
         ],
         "hovertemplate": "track_name=%{customdata[0]}<br>index=%{customdata[1]}<br>track_genre=%{customdata[2]}<extra></extra>",
         "legendgroup": "",
         "marker": {
          "color": "#cd78f4",
          "opacity": 0.8,
          "size": 10,
          "symbol": "circle"
         },
         "mode": "markers",
         "name": "",
         "showlegend": false,
         "type": "scattergl",
         "x": [
          -13261.864391373238,
          -14914.86386335027,
          167538.13588969182
         ],
         "xaxis": "x",
         "y": [
          -47.305176563009965,
          -44.70589413525393,
          -56.443356814002705
         ],
         "yaxis": "y"
        },
        {
         "customdata": [
          [
           "Local God",
           1156,
           "rock",
           "#f77462"
          ],
          [
           "Heaven's On Fire",
           1396,
           "rock",
           "#f77462"
          ],
          [
           "acting like that",
           1520,
           "rock",
           "#f77462"
          ],
          [
           "In Over My Head",
           1933,
           "rock",
           "#f77462"
          ]
         ],
         "hovertemplate": "track_name=%{customdata[0]}<br>index=%{customdata[1]}<br>track_genre=%{customdata[2]}<extra></extra>",
         "legendgroup": "",
         "marker": {
          "color": "#f77462",
          "opacity": 0.8,
          "size": 10,
          "symbol": "circle"
         },
         "mode": "markers",
         "name": "",
         "showlegend": false,
         "type": "scattergl",
         "x": [
          -51330.8691057408,
          -31194.86890517187,
          -41061.86925896187,
          -33762.86923605748
         ],
         "xaxis": "x",
         "y": [
          -119.29018616712943,
          -119.27172944860895,
          -120.75921061177645,
          -120.99326067467942
         ],
         "yaxis": "y"
        },
        {
         "customdata": [
          [
           "Mr. Brightside",
           1217,
           "rock",
           "#f37932"
          ],
          [
           "Mr. Brightside",
           1227,
           "rock",
           "#f37932"
          ],
          [
           "Mr. Brightside",
           1228,
           "rock",
           "#f37932"
          ],
          [
           "Mr. Brightside",
           1230,
           "rock",
           "#f37932"
          ],
          [
           "A Great Big Sled",
           1241,
           "rock",
           "#f37932"
          ],
          [
           "A Great Big Sled",
           1242,
           "rock",
           "#f37932"
          ],
          [
           "Joy Ride - Night Version",
           1244,
           "rock",
           "#f37932"
          ],
          [
           "Clarity",
           1360,
           "rock",
           "#f37932"
          ],
          [
           "Clarity",
           1376,
           "rock",
           "#f37932"
          ],
          [
           "Everybody's Changing",
           1473,
           "rock",
           "#f37932"
          ],
          [
           "Give a Little Bit",
           1830,
           "rock",
           "#f37932"
          ],
          [
           "Big Yellow Taxi",
           1877,
           "rock",
           "#f37932"
          ],
          [
           "Big Yellow Taxi",
           1889,
           "rock",
           "#f37932"
          ],
          [
           "Courting Baphomet",
           2037,
           "death-metal",
           "#f37932"
          ]
         ],
         "hovertemplate": "track_name=%{customdata[0]}<br>index=%{customdata[1]}<br>track_genre=%{customdata[2]}<extra></extra>",
         "legendgroup": "",
         "marker": {
          "color": "#f37932",
          "opacity": 0.8,
          "size": 10,
          "symbol": "circle"
         },
         "mode": "markers",
         "name": "",
         "showlegend": false,
         "type": "scattergl",
         "x": [
          -8154.868971111835,
          -8154.86900978841,
          -8154.868971111835,
          -8154.869048465014,
          30458.131039317115,
          30458.131039317115,
          204285.13063751388,
          -4887.868836026639,
          -4887.868836026639,
          -16127.868502091587,
          -17727.868457994307,
          -5301.868438948586,
          -5301.868477625161,
          85352.13120247028
         ],
         "xaxis": "x",
         "y": [
          -119.04158585060539,
          -119.37941187875009,
          -119.04158585060539,
          -119.7172379068948,
          -121.49583679586142,
          -121.49583679586142,
          -133.72996293819932,
          -118.73590367841733,
          -118.73590367841733,
          -116.34008407771952,
          -115.88927562701798,
          -116.47554350380099,
          -116.81336953194568,
          -123.78990316530951
         ],
         "yaxis": "y"
        },
        {
         "customdata": [
          [
           "When You Were Young",
           1223,
           "rock",
           "#aa9d31"
          ],
          [
           "Holy Wars...The Punishment Due - Remastered",
           1698,
           "rock",
           "#aa9d31"
          ],
          [
           "Holy Wars...The Punishment Due - Remastered",
           1742,
           "rock",
           "#aa9d31"
          ],
          [
           "Blood // Water",
           1925,
           "rock",
           "#aa9d31"
          ],
          [
           "Blood // Water",
           1932,
           "rock",
           "#aa9d31"
          ],
          [
           "Green Eyes",
           2725,
           "death-metal",
           "#aa9d31"
          ]
         ],
         "hovertemplate": "track_name=%{customdata[0]}<br>index=%{customdata[1]}<br>track_genre=%{customdata[2]}<extra></extra>",
         "legendgroup": "",
         "marker": {
          "color": "#aa9d31",
          "opacity": 0.8,
          "size": 10,
          "symbol": "circle"
         },
         "mode": "markers",
         "name": "",
         "showlegend": false,
         "type": "scattergl",
         "x": [
          -11714.867735396983,
          160472.1316710232,
          160472.13170969975,
          -17607.868139508297,
          -17607.868139508297,
          -15767.86819879405
         ],
         "xaxis": "x",
         "y": [
          -102.77043350894351,
          -116.43169144448126,
          -116.09386541633656,
          -105.21650843685131,
          -105.21650843685131,
          -105.68196210961379
         ],
         "yaxis": "y"
        },
        {
         "customdata": [
          [
           "Runaway Horses - Abridged",
           1224,
           "rock",
           "#36abaf"
          ],
          [
           "i'll be home for christmas",
           1769,
           "rock",
           "#36abaf"
          ],
          [
           "Paloma",
           1772,
           "rock",
           "#36abaf"
          ],
          [
           "In The Bleak Midwinter",
           1785,
           "rock",
           "#36abaf"
          ]
         ],
         "hovertemplate": "track_name=%{customdata[0]}<br>index=%{customdata[1]}<br>track_genre=%{customdata[2]}<extra></extra>",
         "legendgroup": "",
         "marker": {
          "color": "#36abaf",
          "opacity": 0.8,
          "size": 10,
          "symbol": "circle"
         },
         "mode": "markers",
         "name": "",
         "showlegend": false,
         "type": "scattergl",
         "x": [
          -27661.865631276043,
          -80345.86532531257,
          52896.13436355302,
          -21287.865791334363
         ],
         "xaxis": "x",
         "y": [
          -69.86046289856898,
          -65.09283536200341,
          -74.40881212426771,
          -71.32067377288578
         ],
         "yaxis": "y"
        },
        {
         "customdata": [
          [
           "L.A. Woman",
           1469,
           "rock",
           "#6b9bf4"
          ],
          [
           "Slippery People - 2005 Remaster",
           1779,
           "rock",
           "#6b9bf4"
          ],
          [
           "All Night Long (All Night) - Single Version",
           1934,
           "rock",
           "#6b9bf4"
          ]
         ],
         "hovertemplate": "track_name=%{customdata[0]}<br>index=%{customdata[1]}<br>track_genre=%{customdata[2]}<extra></extra>",
         "legendgroup": "",
         "marker": {
          "color": "#6b9bf4",
          "opacity": 0.8,
          "size": 10,
          "symbol": "circle"
         },
         "mode": "markers",
         "name": "",
         "showlegend": false,
         "type": "scattergl",
         "x": [
          239032.13431700197,
          74192.13540418993,
          150845.13515833864
         ],
         "xaxis": "x",
         "y": [
          -75.58668265172251,
          -60.10383958688236,
          -65.89400568579539
         ],
         "yaxis": "y"
        },
        {
         "customdata": [
          [
           "Sweet Home Alabama",
           1481,
           "rock",
           "#42b131"
          ],
          [
           "Camino De Rosas",
           1484,
           "rock",
           "#42b131"
          ],
          [
           "A Que No Me Dejas",
           1486,
           "rock",
           "#42b131"
          ],
          [
           "Mi Primer Dia Sin Ti",
           1492,
           "rock",
           "#42b131"
          ],
          [
           "A Que No Me Dejas",
           1493,
           "rock",
           "#42b131"
          ],
          [
           "Sweet Home Alabama",
           1494,
           "rock",
           "#42b131"
          ],
          [
           "Sweet Home Alabama",
           1496,
           "rock",
           "#42b131"
          ],
          [
           "Sweet Home Alabama",
           1499,
           "rock",
           "#42b131"
          ],
          [
           "Ode To My Family",
           1524,
           "rock",
           "#42b131"
          ],
          [
           "Linger",
           1530,
           "rock",
           "#42b131"
          ],
          [
           "Ode To My Family",
           1549,
           "rock",
           "#42b131"
          ],
          [
           "American Woman",
           1832,
           "rock",
           "#42b131"
          ],
          [
           "American Woman",
           1848,
           "rock",
           "#42b131"
          ]
         ],
         "hovertemplate": "track_name=%{customdata[0]}<br>index=%{customdata[1]}<br>track_genre=%{customdata[2]}<extra></extra>",
         "legendgroup": "",
         "marker": {
          "color": "#42b131",
          "opacity": 0.8,
          "size": 10,
          "symbol": "circle"
         },
         "mode": "markers",
         "name": "",
         "showlegend": false,
         "type": "scattergl",
         "x": [
          53245.13308694202,
          28445.133171954803,
          89195.13306093978,
          38512.133267036756,
          89195.13302226324,
          53245.133125618624,
          53245.133125618624,
          53245.13308694202,
          38658.13320686866,
          41472.133151301474,
          38658.13320686866,
          29578.1333364413,
          29578.1333364413
         ],
         "xaxis": "x",
         "y": [
          -94.31454055435927,
          -92.42527753971443,
          -96.46635707528361,
          -92.51390226563693,
          -96.80418310342831,
          -93.97671452621456,
          -93.97671452621456,
          -94.31454055435927,
          -92.71420803207559,
          -93.31109095205677,
          -92.71420803207559,
          -91.51898486434888,
          -91.51898486434888
         ],
         "yaxis": "y"
        },
        {
         "customdata": [
          [
           "Merry Christmas, Baby - 1991 Remix",
           1593,
           "rock",
           "#34ae90"
          ],
          [
           "Merry Christmas, Baby - 1991 Remix",
           1596,
           "rock",
           "#34ae90"
          ],
          [
           "Merry Christmas, Baby - 1991 Remix",
           1597,
           "rock",
           "#34ae90"
          ]
         ],
         "hovertemplate": "track_name=%{customdata[0]}<br>index=%{customdata[1]}<br>track_genre=%{customdata[2]}<extra></extra>",
         "legendgroup": "",
         "marker": {
          "color": "#34ae90",
          "opacity": 0.8,
          "size": 10,
          "symbol": "circle"
         },
         "mode": "markers",
         "name": "",
         "showlegend": false,
         "type": "scattergl",
         "x": [
          -86034.8661179588,
          -86034.8661179588,
          -86034.8661179588
         ],
         "xaxis": "x",
         "y": [
          -75.2773117791051,
          -75.2773117791051,
          -75.2773117791051
         ],
         "yaxis": "y"
        },
        {
         "customdata": [
          [
           "What Are You Doing New Year's Eve?",
           1624,
           "rock",
           "#84a831"
          ],
          [
           "Have Yourself A Merry Little Christmas",
           1631,
           "rock",
           "#84a831"
          ],
          [
           "We Three Kings Of Orient Are - 1991 Remix",
           1634,
           "rock",
           "#84a831"
          ],
          [
           "We Three Kings Of Orient Are - 1991 Remix",
           1642,
           "rock",
           "#84a831"
          ],
          [
           "We Three Kings Of Orient Are - 1991 Remix",
           1645,
           "rock",
           "#84a831"
          ],
          [
           "What Are You Doing New Year's Eve?",
           1675,
           "rock",
           "#84a831"
          ],
          [
           "What Are You Doing New Year's Eve?",
           1681,
           "rock",
           "#84a831"
          ],
          [
           "What Are You Doing New Year's Eve?",
           1687,
           "rock",
           "#84a831"
          ],
          [
           "I'll Be Good",
           1720,
           "rock",
           "#84a831"
          ],
          [
           "I'll Be Good",
           1729,
           "rock",
           "#84a831"
          ],
          [
           "I'll Be Good",
           1730,
           "rock",
           "#84a831"
          ],
          [
           "the lonely",
           1770,
           "rock",
           "#84a831"
          ],
          [
           "Universal Child",
           1846,
           "rock",
           "#84a831"
          ],
          [
           "Merry Christmas Darling",
           1917,
           "rock",
           "#84a831"
          ],
          [
           "Merry Christmas Darling",
           1918,
           "rock",
           "#84a831"
          ],
          [
           "Merry Christmas Darling",
           1919,
           "rock",
           "#84a831"
          ],
          [
           "Merry Christmas Darling",
           1920,
           "rock",
           "#84a831"
          ],
          [
           "Merry Christmas Darling",
           1922,
           "rock",
           "#84a831"
          ]
         ],
         "hovertemplate": "track_name=%{customdata[0]}<br>index=%{customdata[1]}<br>track_genre=%{customdata[2]}<extra></extra>",
         "legendgroup": "",
         "marker": {
          "color": "#84a831",
          "opacity": 0.8,
          "size": 10,
          "symbol": "circle"
         },
         "mode": "markers",
         "name": "",
         "showlegend": false,
         "type": "scattergl",
         "x": [
          -10301.866911808262,
          36605.1330456243,
          13382.132736013795,
          13382.132736013795,
          13382.132736013795,
          -10301.866911808262,
          -10301.866911808262,
          -10301.866911808262,
          15218.132893015136,
          15218.132970368286,
          15218.132893015136,
          1352.1330112283467,
          22192.132993454114,
          -31887.866836526693,
          -31887.866836526693,
          -31887.866836526693,
          -31887.866836526693,
          -31887.866836526693
         ],
         "xaxis": "x",
         "y": [
          -94.1670335148884,
          -97.1335230490915,
          -97.41226853223408,
          -97.41226853223408,
          -97.41226853223408,
          -94.1670335148884,
          -94.1670335148884,
          -94.1670335148884,
          -96.69226218329277,
          -96.01661012700336,
          -96.69226218329277,
          -95.27503335708971,
          -96.59467607258891,
          -92.5137611384612,
          -92.5137611384612,
          -92.5137611384612,
          -92.5137611384612,
          -92.5137611384612
         ],
         "yaxis": "y"
        },
        {
         "customdata": [
          [
           "The Sick, The Dying… And The Dead!",
           1741,
           "rock",
           "#ae9c31"
          ],
          [
           "Ultra-Violent",
           2297,
           "death-metal",
           "#ae9c31"
          ],
          [
           "Long Before Winter's Call",
           2996,
           "death-metal",
           "#ae9c31"
          ]
         ],
         "hovertemplate": "track_name=%{customdata[0]}<br>index=%{customdata[1]}<br>track_genre=%{customdata[2]}<extra></extra>",
         "legendgroup": "",
         "marker": {
          "color": "#ae9c31",
          "opacity": 0.8,
          "size": 10,
          "symbol": "circle"
         },
         "mode": "markers",
         "name": "",
         "showlegend": false,
         "type": "scattergl",
         "x": [
          71925.13225987012,
          -5594.867823244655,
          -4511.867747578508
         ],
         "xaxis": "x",
         "y": [
          -108.66431657252369,
          -104.81609955531896,
          -104.49401434645503
         ],
         "yaxis": "y"
        },
        {
         "customdata": [
          [
           "Sharp Dressed Man - 2003 Remaster",
           1790,
           "rock",
           "#df8631"
          ],
          [
           "Christmas All Over Again",
           1819,
           "rock",
           "#df8631"
          ],
          [
           "Christmas All Over Again",
           1821,
           "rock",
           "#df8631"
          ],
          [
           "Christmas All Over Again",
           1822,
           "rock",
           "#df8631"
          ],
          [
           "Christmas All Over Again",
           1824,
           "rock",
           "#df8631"
          ],
          [
           "Christmas All Over Again",
           1826,
           "rock",
           "#df8631"
          ],
          [
           "I Belong To You",
           1859,
           "rock",
           "#df8631"
          ],
          [
           "Song 2 - 2012 Remaster",
           1871,
           "rock",
           "#df8631"
          ],
          [
           "Song 2 - 2012 Remaster",
           1896,
           "rock",
           "#df8631"
          ],
          [
           "Kryptonite",
           1981,
           "rock",
           "#df8631"
          ],
          [
           "Kryptonite",
           1983,
           "rock",
           "#df8631"
          ]
         ],
         "hovertemplate": "track_name=%{customdata[0]}<br>index=%{customdata[1]}<br>track_genre=%{customdata[2]}<extra></extra>",
         "legendgroup": "",
         "marker": {
          "color": "#df8631",
          "opacity": 0.8,
          "size": 10,
          "symbol": "circle"
         },
         "mode": "markers",
         "name": "",
         "showlegend": false,
         "type": "scattergl",
         "x": [
          21285.13126964183,
          27670.131161381316,
          27670.131161381316,
          27670.131161381316,
          27670.131161381316,
          27670.131161381316,
          24938.131659812963,
          -110967.86840940228,
          -110967.86840940228,
          2498.131564744457,
          2498.1316034210613
         ],
         "xaxis": "x",
         "y": [
          -117.81278021219435,
          -118.73702114413064,
          -118.73702114413064,
          -118.73702114413064,
          -118.73702114413064,
          -118.73702114413064,
          -115.7953678939596,
          -108.4036788615892,
          -108.4036788615892,
          -115.11018260469848,
          -114.77235657655378
         ],
         "yaxis": "y"
        },
        {
         "customdata": [
          [
           "Superlove",
           1813,
           "rock",
           "#be80f4"
          ],
          [
           "Superlove",
           1815,
           "rock",
           "#be80f4"
          ]
         ],
         "hovertemplate": "track_name=%{customdata[0]}<br>index=%{customdata[1]}<br>track_genre=%{customdata[2]}<extra></extra>",
         "legendgroup": "",
         "marker": {
          "color": "#be80f4",
          "opacity": 0.8,
          "size": 10,
          "symbol": "circle"
         },
         "mode": "markers",
         "name": "",
         "showlegend": false,
         "type": "scattergl",
         "x": [
          -23501.86374499736,
          -23501.86374499736
         ],
         "xaxis": "x",
         "y": [
          -44.67240741872229,
          -44.67240741872229
         ],
         "yaxis": "y"
        },
        {
         "customdata": [
          [
           "Echo",
           1985,
           "rock",
           "#32b15d"
          ]
         ],
         "hovertemplate": "track_name=%{customdata[0]}<br>index=%{customdata[1]}<br>track_genre=%{customdata[2]}<extra></extra>",
         "legendgroup": "",
         "marker": {
          "color": "#32b15d",
          "opacity": 0.8,
          "size": 10,
          "symbol": "circle"
         },
         "mode": "markers",
         "name": "",
         "showlegend": false,
         "type": "scattergl",
         "x": [
          164645.13311870012
         ],
         "xaxis": "x",
         "y": [
          -98.89677382118215
         ],
         "yaxis": "y"
        },
        {
         "customdata": [
          [
           "Stranded",
           2020,
           "death-metal",
           "#f45bf2"
          ],
          [
           "The Pursuit Of Vikings",
           2125,
           "death-metal",
           "#f45bf2"
          ],
          [
           "Ligature Marks",
           2554,
           "death-metal",
           "#f45bf2"
          ],
          [
           "Maha-Kali",
           2610,
           "death-metal",
           "#f45bf2"
          ],
          [
           "The Soul Receiver",
           2821,
           "death-metal",
           "#f45bf2"
          ],
          [
           "The Colours of the Beast",
           2842,
           "death-metal",
           "#f45bf2"
          ],
          [
           "En Alabama",
           2945,
           "death-metal",
           "#f45bf2"
          ]
         ],
         "hovertemplate": "track_name=%{customdata[0]}<br>index=%{customdata[1]}<br>track_genre=%{customdata[2]}<extra></extra>",
         "legendgroup": "",
         "marker": {
          "color": "#f45bf2",
          "opacity": 0.8,
          "size": 10,
          "symbol": "circle"
         },
         "mode": "markers",
         "name": "",
         "showlegend": false,
         "type": "scattergl",
         "x": [
          37405.13912326435,
          38125.1384934705,
          80889.13778761314,
          132332.13777785917,
          39365.13704253081,
          -1381.8624400573026,
          -74687.86231822279
         ],
         "xaxis": "x",
         "y": [
          -20.20378435519484,
          -24.57210363116137,
          -32.088780458921406,
          -36.10400681715227,
          -36.983699236588876,
          -32.12210058037451,
          -27.059585043431525
         ],
         "yaxis": "y"
        },
        {
         "customdata": [
          [
           "Stranded",
           2027,
           "death-metal",
           "#c69331"
          ]
         ],
         "hovertemplate": "track_name=%{customdata[0]}<br>index=%{customdata[1]}<br>track_genre=%{customdata[2]}<extra></extra>",
         "legendgroup": "",
         "marker": {
          "color": "#c69331",
          "opacity": 0.8,
          "size": 10,
          "symbol": "circle"
         },
         "mode": "markers",
         "name": "",
         "showlegend": false,
         "type": "scattergl",
         "x": [
          37405.13185726694
         ],
         "xaxis": "x",
         "y": [
          -112.64057192678212
         ],
         "yaxis": "y"
        },
        {
         "customdata": [
          [
           "Arise",
           2034,
           "death-metal",
           "#d98a31"
          ],
          [
           "Turned Inside Out",
           2040,
           "death-metal",
           "#d98a31"
          ]
         ],
         "hovertemplate": "track_name=%{customdata[0]}<br>index=%{customdata[1]}<br>track_genre=%{customdata[2]}<extra></extra>",
         "legendgroup": "",
         "marker": {
          "color": "#d98a31",
          "opacity": 0.8,
          "size": 10,
          "symbol": "circle"
         },
         "mode": "markers",
         "name": "",
         "showlegend": false,
         "type": "scattergl",
         "x": [
          -33901.8684232489,
          78712.13120086229
         ],
         "xaxis": "x",
         "y": [
          -112.35153725089624,
          -120.93844699828495
         ],
         "yaxis": "y"
        },
        {
         "customdata": [
          [
           "Roots Bloody Roots",
           2047,
           "death-metal",
           "#f77641"
          ]
         ],
         "hovertemplate": "track_name=%{customdata[0]}<br>index=%{customdata[1]}<br>track_genre=%{customdata[2]}<extra></extra>",
         "legendgroup": "",
         "marker": {
          "color": "#f77641",
          "opacity": 0.8,
          "size": 10,
          "symbol": "circle"
         },
         "mode": "markers",
         "name": "",
         "showlegend": false,
         "type": "scattergl",
         "x": [
          -19874.868810293206
         ],
         "xaxis": "x",
         "y": [
          -118.31974575304852
         ],
         "yaxis": "y"
        },
        {
         "customdata": [
          [
           "Phoenix Rising",
           2153,
           "death-metal",
           "#f563d5"
          ]
         ],
         "hovertemplate": "track_name=%{customdata[0]}<br>index=%{customdata[1]}<br>track_genre=%{customdata[2]}<extra></extra>",
         "legendgroup": "",
         "marker": {
          "color": "#f563d5",
          "opacity": 0.8,
          "size": 10,
          "symbol": "circle"
         },
         "mode": "markers",
         "name": "",
         "showlegend": false,
         "type": "scattergl",
         "x": [
          -3581.8615843109437
         ],
         "xaxis": "x",
         "y": [
          -21.98009689265399
         ],
         "yaxis": "y"
        }
       ],
       "layout": {
        "legend": {
         "tracegroupgap": 0
        },
        "margin": {
         "t": 60
        },
        "showlegend": false,
        "template": {
         "data": {
          "bar": [
           {
            "error_x": {
             "color": "#2a3f5f"
            },
            "error_y": {
             "color": "#2a3f5f"
            },
            "marker": {
             "line": {
              "color": "#E5ECF6",
              "width": 0.5
             },
             "pattern": {
              "fillmode": "overlay",
              "size": 10,
              "solidity": 0.2
             }
            },
            "type": "bar"
           }
          ],
          "barpolar": [
           {
            "marker": {
             "line": {
              "color": "#E5ECF6",
              "width": 0.5
             },
             "pattern": {
              "fillmode": "overlay",
              "size": 10,
              "solidity": 0.2
             }
            },
            "type": "barpolar"
           }
          ],
          "carpet": [
           {
            "aaxis": {
             "endlinecolor": "#2a3f5f",
             "gridcolor": "white",
             "linecolor": "white",
             "minorgridcolor": "white",
             "startlinecolor": "#2a3f5f"
            },
            "baxis": {
             "endlinecolor": "#2a3f5f",
             "gridcolor": "white",
             "linecolor": "white",
             "minorgridcolor": "white",
             "startlinecolor": "#2a3f5f"
            },
            "type": "carpet"
           }
          ],
          "choropleth": [
           {
            "colorbar": {
             "outlinewidth": 0,
             "ticks": ""
            },
            "type": "choropleth"
           }
          ],
          "contour": [
           {
            "colorbar": {
             "outlinewidth": 0,
             "ticks": ""
            },
            "colorscale": [
             [
              0,
              "#0d0887"
             ],
             [
              0.1111111111111111,
              "#46039f"
             ],
             [
              0.2222222222222222,
              "#7201a8"
             ],
             [
              0.3333333333333333,
              "#9c179e"
             ],
             [
              0.4444444444444444,
              "#bd3786"
             ],
             [
              0.5555555555555556,
              "#d8576b"
             ],
             [
              0.6666666666666666,
              "#ed7953"
             ],
             [
              0.7777777777777778,
              "#fb9f3a"
             ],
             [
              0.8888888888888888,
              "#fdca26"
             ],
             [
              1,
              "#f0f921"
             ]
            ],
            "type": "contour"
           }
          ],
          "contourcarpet": [
           {
            "colorbar": {
             "outlinewidth": 0,
             "ticks": ""
            },
            "type": "contourcarpet"
           }
          ],
          "heatmap": [
           {
            "colorbar": {
             "outlinewidth": 0,
             "ticks": ""
            },
            "colorscale": [
             [
              0,
              "#0d0887"
             ],
             [
              0.1111111111111111,
              "#46039f"
             ],
             [
              0.2222222222222222,
              "#7201a8"
             ],
             [
              0.3333333333333333,
              "#9c179e"
             ],
             [
              0.4444444444444444,
              "#bd3786"
             ],
             [
              0.5555555555555556,
              "#d8576b"
             ],
             [
              0.6666666666666666,
              "#ed7953"
             ],
             [
              0.7777777777777778,
              "#fb9f3a"
             ],
             [
              0.8888888888888888,
              "#fdca26"
             ],
             [
              1,
              "#f0f921"
             ]
            ],
            "type": "heatmap"
           }
          ],
          "heatmapgl": [
           {
            "colorbar": {
             "outlinewidth": 0,
             "ticks": ""
            },
            "colorscale": [
             [
              0,
              "#0d0887"
             ],
             [
              0.1111111111111111,
              "#46039f"
             ],
             [
              0.2222222222222222,
              "#7201a8"
             ],
             [
              0.3333333333333333,
              "#9c179e"
             ],
             [
              0.4444444444444444,
              "#bd3786"
             ],
             [
              0.5555555555555556,
              "#d8576b"
             ],
             [
              0.6666666666666666,
              "#ed7953"
             ],
             [
              0.7777777777777778,
              "#fb9f3a"
             ],
             [
              0.8888888888888888,
              "#fdca26"
             ],
             [
              1,
              "#f0f921"
             ]
            ],
            "type": "heatmapgl"
           }
          ],
          "histogram": [
           {
            "marker": {
             "pattern": {
              "fillmode": "overlay",
              "size": 10,
              "solidity": 0.2
             }
            },
            "type": "histogram"
           }
          ],
          "histogram2d": [
           {
            "colorbar": {
             "outlinewidth": 0,
             "ticks": ""
            },
            "colorscale": [
             [
              0,
              "#0d0887"
             ],
             [
              0.1111111111111111,
              "#46039f"
             ],
             [
              0.2222222222222222,
              "#7201a8"
             ],
             [
              0.3333333333333333,
              "#9c179e"
             ],
             [
              0.4444444444444444,
              "#bd3786"
             ],
             [
              0.5555555555555556,
              "#d8576b"
             ],
             [
              0.6666666666666666,
              "#ed7953"
             ],
             [
              0.7777777777777778,
              "#fb9f3a"
             ],
             [
              0.8888888888888888,
              "#fdca26"
             ],
             [
              1,
              "#f0f921"
             ]
            ],
            "type": "histogram2d"
           }
          ],
          "histogram2dcontour": [
           {
            "colorbar": {
             "outlinewidth": 0,
             "ticks": ""
            },
            "colorscale": [
             [
              0,
              "#0d0887"
             ],
             [
              0.1111111111111111,
              "#46039f"
             ],
             [
              0.2222222222222222,
              "#7201a8"
             ],
             [
              0.3333333333333333,
              "#9c179e"
             ],
             [
              0.4444444444444444,
              "#bd3786"
             ],
             [
              0.5555555555555556,
              "#d8576b"
             ],
             [
              0.6666666666666666,
              "#ed7953"
             ],
             [
              0.7777777777777778,
              "#fb9f3a"
             ],
             [
              0.8888888888888888,
              "#fdca26"
             ],
             [
              1,
              "#f0f921"
             ]
            ],
            "type": "histogram2dcontour"
           }
          ],
          "mesh3d": [
           {
            "colorbar": {
             "outlinewidth": 0,
             "ticks": ""
            },
            "type": "mesh3d"
           }
          ],
          "parcoords": [
           {
            "line": {
             "colorbar": {
              "outlinewidth": 0,
              "ticks": ""
             }
            },
            "type": "parcoords"
           }
          ],
          "pie": [
           {
            "automargin": true,
            "type": "pie"
           }
          ],
          "scatter": [
           {
            "fillpattern": {
             "fillmode": "overlay",
             "size": 10,
             "solidity": 0.2
            },
            "type": "scatter"
           }
          ],
          "scatter3d": [
           {
            "line": {
             "colorbar": {
              "outlinewidth": 0,
              "ticks": ""
             }
            },
            "marker": {
             "colorbar": {
              "outlinewidth": 0,
              "ticks": ""
             }
            },
            "type": "scatter3d"
           }
          ],
          "scattercarpet": [
           {
            "marker": {
             "colorbar": {
              "outlinewidth": 0,
              "ticks": ""
             }
            },
            "type": "scattercarpet"
           }
          ],
          "scattergeo": [
           {
            "marker": {
             "colorbar": {
              "outlinewidth": 0,
              "ticks": ""
             }
            },
            "type": "scattergeo"
           }
          ],
          "scattergl": [
           {
            "marker": {
             "colorbar": {
              "outlinewidth": 0,
              "ticks": ""
             }
            },
            "type": "scattergl"
           }
          ],
          "scattermapbox": [
           {
            "marker": {
             "colorbar": {
              "outlinewidth": 0,
              "ticks": ""
             }
            },
            "type": "scattermapbox"
           }
          ],
          "scatterpolar": [
           {
            "marker": {
             "colorbar": {
              "outlinewidth": 0,
              "ticks": ""
             }
            },
            "type": "scatterpolar"
           }
          ],
          "scatterpolargl": [
           {
            "marker": {
             "colorbar": {
              "outlinewidth": 0,
              "ticks": ""
             }
            },
            "type": "scatterpolargl"
           }
          ],
          "scatterternary": [
           {
            "marker": {
             "colorbar": {
              "outlinewidth": 0,
              "ticks": ""
             }
            },
            "type": "scatterternary"
           }
          ],
          "surface": [
           {
            "colorbar": {
             "outlinewidth": 0,
             "ticks": ""
            },
            "colorscale": [
             [
              0,
              "#0d0887"
             ],
             [
              0.1111111111111111,
              "#46039f"
             ],
             [
              0.2222222222222222,
              "#7201a8"
             ],
             [
              0.3333333333333333,
              "#9c179e"
             ],
             [
              0.4444444444444444,
              "#bd3786"
             ],
             [
              0.5555555555555556,
              "#d8576b"
             ],
             [
              0.6666666666666666,
              "#ed7953"
             ],
             [
              0.7777777777777778,
              "#fb9f3a"
             ],
             [
              0.8888888888888888,
              "#fdca26"
             ],
             [
              1,
              "#f0f921"
             ]
            ],
            "type": "surface"
           }
          ],
          "table": [
           {
            "cells": {
             "fill": {
              "color": "#EBF0F8"
             },
             "line": {
              "color": "white"
             }
            },
            "header": {
             "fill": {
              "color": "#C8D4E3"
             },
             "line": {
              "color": "white"
             }
            },
            "type": "table"
           }
          ]
         },
         "layout": {
          "annotationdefaults": {
           "arrowcolor": "#2a3f5f",
           "arrowhead": 0,
           "arrowwidth": 1
          },
          "autotypenumbers": "strict",
          "coloraxis": {
           "colorbar": {
            "outlinewidth": 0,
            "ticks": ""
           }
          },
          "colorscale": {
           "diverging": [
            [
             0,
             "#8e0152"
            ],
            [
             0.1,
             "#c51b7d"
            ],
            [
             0.2,
             "#de77ae"
            ],
            [
             0.3,
             "#f1b6da"
            ],
            [
             0.4,
             "#fde0ef"
            ],
            [
             0.5,
             "#f7f7f7"
            ],
            [
             0.6,
             "#e6f5d0"
            ],
            [
             0.7,
             "#b8e186"
            ],
            [
             0.8,
             "#7fbc41"
            ],
            [
             0.9,
             "#4d9221"
            ],
            [
             1,
             "#276419"
            ]
           ],
           "sequential": [
            [
             0,
             "#0d0887"
            ],
            [
             0.1111111111111111,
             "#46039f"
            ],
            [
             0.2222222222222222,
             "#7201a8"
            ],
            [
             0.3333333333333333,
             "#9c179e"
            ],
            [
             0.4444444444444444,
             "#bd3786"
            ],
            [
             0.5555555555555556,
             "#d8576b"
            ],
            [
             0.6666666666666666,
             "#ed7953"
            ],
            [
             0.7777777777777778,
             "#fb9f3a"
            ],
            [
             0.8888888888888888,
             "#fdca26"
            ],
            [
             1,
             "#f0f921"
            ]
           ],
           "sequentialminus": [
            [
             0,
             "#0d0887"
            ],
            [
             0.1111111111111111,
             "#46039f"
            ],
            [
             0.2222222222222222,
             "#7201a8"
            ],
            [
             0.3333333333333333,
             "#9c179e"
            ],
            [
             0.4444444444444444,
             "#bd3786"
            ],
            [
             0.5555555555555556,
             "#d8576b"
            ],
            [
             0.6666666666666666,
             "#ed7953"
            ],
            [
             0.7777777777777778,
             "#fb9f3a"
            ],
            [
             0.8888888888888888,
             "#fdca26"
            ],
            [
             1,
             "#f0f921"
            ]
           ]
          },
          "colorway": [
           "#636efa",
           "#EF553B",
           "#00cc96",
           "#ab63fa",
           "#FFA15A",
           "#19d3f3",
           "#FF6692",
           "#B6E880",
           "#FF97FF",
           "#FECB52"
          ],
          "font": {
           "color": "#2a3f5f"
          },
          "geo": {
           "bgcolor": "white",
           "lakecolor": "white",
           "landcolor": "#E5ECF6",
           "showlakes": true,
           "showland": true,
           "subunitcolor": "white"
          },
          "hoverlabel": {
           "align": "left"
          },
          "hovermode": "closest",
          "mapbox": {
           "style": "light"
          },
          "paper_bgcolor": "white",
          "plot_bgcolor": "#E5ECF6",
          "polar": {
           "angularaxis": {
            "gridcolor": "white",
            "linecolor": "white",
            "ticks": ""
           },
           "bgcolor": "#E5ECF6",
           "radialaxis": {
            "gridcolor": "white",
            "linecolor": "white",
            "ticks": ""
           }
          },
          "scene": {
           "xaxis": {
            "backgroundcolor": "#E5ECF6",
            "gridcolor": "white",
            "gridwidth": 2,
            "linecolor": "white",
            "showbackground": true,
            "ticks": "",
            "zerolinecolor": "white"
           },
           "yaxis": {
            "backgroundcolor": "#E5ECF6",
            "gridcolor": "white",
            "gridwidth": 2,
            "linecolor": "white",
            "showbackground": true,
            "ticks": "",
            "zerolinecolor": "white"
           },
           "zaxis": {
            "backgroundcolor": "#E5ECF6",
            "gridcolor": "white",
            "gridwidth": 2,
            "linecolor": "white",
            "showbackground": true,
            "ticks": "",
            "zerolinecolor": "white"
           }
          },
          "shapedefaults": {
           "line": {
            "color": "#2a3f5f"
           }
          },
          "ternary": {
           "aaxis": {
            "gridcolor": "white",
            "linecolor": "white",
            "ticks": ""
           },
           "baxis": {
            "gridcolor": "white",
            "linecolor": "white",
            "ticks": ""
           },
           "bgcolor": "#E5ECF6",
           "caxis": {
            "gridcolor": "white",
            "linecolor": "white",
            "ticks": ""
           }
          },
          "title": {
           "x": 0.05
          },
          "xaxis": {
           "automargin": true,
           "gridcolor": "white",
           "linecolor": "white",
           "ticks": "",
           "title": {
            "standoff": 15
           },
           "zerolinecolor": "white",
           "zerolinewidth": 2
          },
          "yaxis": {
           "automargin": true,
           "gridcolor": "white",
           "linecolor": "white",
           "ticks": "",
           "title": {
            "standoff": 15
           },
           "zerolinecolor": "white",
           "zerolinewidth": 2
          }
         }
        },
        "title": {
         "text": "PCA Plot for rock with Recommendations"
        },
        "xaxis": {
         "anchor": "y",
         "domain": [
          0,
          1
         ],
         "title": {
          "text": "PC1"
         }
        },
        "yaxis": {
         "anchor": "x",
         "domain": [
          0,
          1
         ],
         "title": {
          "text": "PC2"
         }
        }
       }
      }
     },
     "metadata": {},
     "output_type": "display_data"
    }
   ],
   "source": [
    "plot_pca_with_recommendations(df_with_recommendations, \"death-metal\")  \n",
    "plot_pca_with_recommendations(df_with_recommendations, \"rock\")  "
   ]
  }
 ],
 "metadata": {
  "kernelspec": {
   "display_name": "base",
   "language": "python",
   "name": "python3"
  },
  "language_info": {
   "codemirror_mode": {
    "name": "ipython",
    "version": 3
   },
   "file_extension": ".py",
   "mimetype": "text/x-python",
   "name": "python",
   "nbconvert_exporter": "python",
   "pygments_lexer": "ipython3",
   "version": "3.12.7"
  }
 },
 "nbformat": 4,
 "nbformat_minor": 2
}
